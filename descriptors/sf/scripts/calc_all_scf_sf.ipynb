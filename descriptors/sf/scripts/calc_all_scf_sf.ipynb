{
 "cells": [
  {
   "cell_type": "code",
   "execution_count": 10,
   "metadata": {
    "pycharm": {
     "name": "#%%\n"
    }
   },
   "outputs": [
    {
     "name": "stdout",
     "output_type": "stream",
     "text": [
      "{'mp-165': 113, 'mp-16220': 326, 'mp-149_dimer': 7, 'mp-10649': 1, 'mp-149': 574}\n",
      "1025 structures were removed\n"
     ]
    }
   ],
   "source": [
    "import pandas as pd\n",
    "import numpy as np\n",
    "import matplotlib.pyplot as plt\n",
    "\n",
    "from dscribe.descriptors import ACSF\n",
    "from descriptors.sf.get_sf_param import get_sf_radial_params, get_sf_ang_params\n",
    "\n",
    "import glob\n",
    "from ml_utils.util import flatten\n",
    "from constants.constants import get_silicon_all_scf_data\n",
    "from scf.qelattice import get_qel\n",
    "from create_input.get_filtered_structure_data import get_filtered_structure_path_by_energy\n",
    "from create_input.get_filtered_structure_data import get_filtered_structure_path_by_force\n",
    "from descriptors.sf.get_sf_value import SfFuncVal\n",
    "\n",
    "path2root = '/Users/y1u0d2/desktop/Lab/result/qe/Si'\n",
    "# all_dirs = get_silicon_all_scf_data()\n",
    "all_dirs = get_filtered_structure_path_by_force(1000)"
   ]
  },
  {
   "cell_type": "code",
   "execution_count": 11,
   "metadata": {
    "pycharm": {
     "name": "#%%\n"
    }
   },
   "outputs": [],
   "source": [
    "rcut_range = list(range(4, 8, 1))\n",
    "pair_range = list(range(3, 8, 1))\n",
    "\n",
    "path2save = '/Users/y1u0d2/desktop/Lab/result/sf/Si/04'"
   ]
  },
  {
   "cell_type": "code",
   "execution_count": 12,
   "metadata": {
    "pycharm": {
     "name": "#%%\n"
    }
   },
   "outputs": [],
   "source": [
    "from ase.io import read\n",
    "import os\n",
    "\n",
    "for rcut in rcut_range:\n",
    "    param_df_list = []\n",
    "    for n_pair in pair_range:\n",
    "        param_df = get_sf_radial_params(\n",
    "            elm=['Si'], \n",
    "            rcut=rcut, \n",
    "            nb_param_pairs=n_pair\n",
    "        )\n",
    "        param_df_list.append(param_df)\n",
    "    param_df_concated = pd.concat(param_df_list)\n",
    "\n",
    "    g2_params = param_df_concated[['eta', 'rs']].values\n",
    "\n",
    "    df_list = []\n",
    "    for path in all_dirs:\n",
    "        try:\n",
    "            qel = get_qel(path)\n",
    "            force_df = pd.DataFrame(data=qel.get_force(), columns=['fx', 'fy', 'fz'])\n",
    "        except:\n",
    "            print(path)\n",
    "            continue\n",
    "\n",
    "        if os.path.exists(os.path.join(path, 'scf.in')):\n",
    "            structure = read(filename=os.path.join(path, 'scf.in'), format='espresso-in')\n",
    "        else:\n",
    "            structure = read(filename=os.path.join(path, 'relax.in'), format='espresso-in')\n",
    "        structure_id = qel.structure_id\n",
    "        df = SfFuncVal.get_g2_value(\n",
    "            g2_params=g2_params,\n",
    "            structure=structure,\n",
    "            species=['Si', 'Si'],\n",
    "            rcut=rcut\n",
    "            )\n",
    "        df['structure_id'] = structure_id\n",
    "        df = pd.concat([df, force_df], axis=1)\n",
    "        df.drop(columns=['g1'], inplace=True)\n",
    "\n",
    "        # df_g4 = SfFuncVal.get_g4_value(\n",
    "        #     g4_params=g4_params,\n",
    "        #     structure=structure,\n",
    "        #     species=['Si', 'Si', 'Si'],\n",
    "        #     rcut=rcut\n",
    "        # )\n",
    "        # df_g4.drop(columns=['g1'], inplace=True)\n",
    "        \n",
    "        # df = pd.concat([df, df_g4], axis=1)\n",
    "\n",
    "        df_list.append(df)\n",
    "    df_sf = pd.concat(df_list)\n",
    "    df_sf.to_csv(os.path.join(path2save, f'sf_{rcut}.csv'), index=False)\n",
    "\n",
    "# ang_param_df = get_sf_ang_params(\n",
    "#     elm=['Si'],\n",
    "#     rcut=rcut,\n",
    "#     nb_param_pairs=3,\n",
    "#     ang_type='angular_wide',\n",
    "#     zetas=[1, 6],\n",
    "#     r_lower=3\n",
    "#     )\n",
    "# g4_params = ang_param_df[['eta', 'zeta', 'lam']].values"
   ]
  },
  {
   "cell_type": "code",
   "execution_count": null,
   "metadata": {
    "pycharm": {
     "name": "#%%\n"
    }
   },
   "outputs": [],
   "source": [
    "# csv 保存\n",
    "\n",
    "# df_sf.to_csv('/Users/y1u0d2/desktop/Lab/result/sf/Si/sf_1.csv', index=False)"
   ]
  }
 ],
 "metadata": {
  "kernelspec": {
   "display_name": "Python 3.10.4 ('bq')",
   "language": "python",
   "name": "python3"
  },
  "language_info": {
   "codemirror_mode": {
    "name": "ipython",
    "version": 3
   },
   "file_extension": ".py",
   "mimetype": "text/x-python",
   "name": "python",
   "nbconvert_exporter": "python",
   "pygments_lexer": "ipython3",
   "version": "3.10.4"
  },
  "orig_nbformat": 4,
  "vscode": {
   "interpreter": {
    "hash": "afbdfdb411ea127d90d9590b51ffcad44ff5285b8a92d4a65a7f07728951d293"
   }
  }
 },
 "nbformat": 4,
 "nbformat_minor": 2
}