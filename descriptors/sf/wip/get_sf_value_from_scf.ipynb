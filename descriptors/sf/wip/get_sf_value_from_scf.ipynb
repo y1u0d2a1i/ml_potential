{
 "cells": [
  {
   "cell_type": "code",
   "execution_count": 104,
   "metadata": {
    "collapsed": true,
    "pycharm": {
     "name": "#%%\n"
    }
   },
   "outputs": [],
   "source": [
    "import pandas as pd\n",
    "import numpy as np\n",
    "import matplotlib.pyplot as plt\n",
    "import seaborn as sns\n",
    "from glob import glob\n",
    "from descriptors.sf.get_sf_param import get_sf_radial_params\n",
    "from ase.io import read\n",
    "import os\n",
    "\n",
    "from constants.constants import get_silicon_all_scf_data_sd\n",
    "from descriptors.sf.get_sf_value import SfFuncVal"
   ]
  },
  {
   "cell_type": "code",
   "execution_count": 105,
   "metadata": {
    "collapsed": false,
    "pycharm": {
     "name": "#%%\n"
    }
   },
   "outputs": [],
   "source": [
    "rcut = 5\n",
    "param_df = get_sf_radial_params(elm=['Si'], rcut=rcut, nb_param_pairs=6)\n",
    "g2_params = param_df[['eta', 'rs']].values"
   ]
  },
  {
   "cell_type": "code",
   "execution_count": 106,
   "metadata": {},
   "outputs": [],
   "source": [
    "from descriptors.sf.get_sf_param import get_sf_ang_params\n",
    "\n",
    "ang_param_df = get_sf_ang_params(\n",
    "    elm=['Si'],\n",
    "    rcut=rcut,\n",
    "    nb_param_pairs=2,\n",
    "    ang_type='angular_narrow',\n",
    "    zetas=[1, 4, 8],\n",
    "    r_lower=3\n",
    ")\n",
    "g4_params = ang_param_df[['eta', 'zeta', 'lam']].values"
   ]
  },
  {
   "cell_type": "code",
   "execution_count": 107,
   "metadata": {
    "collapsed": false,
    "pycharm": {
     "name": "#%%\n"
    }
   },
   "outputs": [
    {
     "name": "stdout",
     "output_type": "stream",
     "text": [
      "54615\n"
     ]
    }
   ],
   "source": [
    "# all_structures = get_silicon_all_scf_data_sd()\n",
    "\n",
    "with open('/Users/y1u0d2/desktop/Lab/result/n2p2/Si/90/data/dirs.txt', mode='r') as f:\n",
    "    all_structures = [s.strip() for s in f.readlines()]\n",
    "\n",
    "print(len(all_structures))"
   ]
  },
  {
   "cell_type": "code",
   "execution_count": 108,
   "metadata": {
    "collapsed": false,
    "pycharm": {
     "name": "#%%\n"
    }
   },
   "outputs": [
    {
     "name": "stdout",
     "output_type": "stream",
     "text": [
      "54577\n"
     ]
    }
   ],
   "source": [
    "all_structures = list(filter(lambda x: 'dimer' not in x, all_structures))\n",
    "print(len(all_structures))"
   ]
  },
  {
   "cell_type": "code",
   "execution_count": null,
   "metadata": {},
   "outputs": [],
   "source": []
  },
  {
   "cell_type": "code",
   "execution_count": null,
   "metadata": {},
   "outputs": [],
   "source": []
  },
  {
   "cell_type": "code",
   "execution_count": 109,
   "metadata": {
    "collapsed": false,
    "pycharm": {
     "name": "#%%\n"
    }
   },
   "outputs": [],
   "source": [
    "from scf.qelattice import get_qel\n",
    "import random\n",
    "\n",
    "sample_size = 100\n",
    "df_list = []\n",
    "\n",
    "for i, path2structure in enumerate(random.sample(all_structures, sample_size)):\n",
    "    try:\n",
    "        qel = get_qel(path2structure)\n",
    "        force_df = pd.DataFrame(data=qel.get_force(), columns=['fx', 'fy', 'fz'])\n",
    "    except Exception as e:\n",
    "        print(e, path2structure)\n",
    "        continue\n",
    "\n",
    "    structure = read(os.path.join(path2structure, 'scf.in'), format='espresso-in')\n",
    "    symbols = ['Si' for _ in range(structure.get_global_number_of_atoms())]\n",
    "    structure.set_chemical_symbols(symbols)\n",
    "\n",
    "    df_sf = SfFuncVal.get_g2_value(\n",
    "        g2_params=g2_params,\n",
    "        structure=structure,\n",
    "        species=['Si', 'Si'],\n",
    "        rcut=rcut,\n",
    "        periodic=False\n",
    "        )\n",
    "    \n",
    "    df_sf_ang = SfFuncVal.get_g4_value(\n",
    "        g4_params=g4_params,\n",
    "        structure=structure,\n",
    "        species=['Si', 'Si', 'Si'],\n",
    "        rcut=rcut,\n",
    "        periodic=False\n",
    "        )\n",
    "    \n",
    "    df_list.append(pd.concat([df_sf, df_sf_ang, force_df], axis=1))"
   ]
  },
  {
   "cell_type": "code",
   "execution_count": 110,
   "metadata": {
    "collapsed": false,
    "pycharm": {
     "name": "#%%\n"
    }
   },
   "outputs": [],
   "source": [
    "all_sf_df = pd.concat(df_list)\n",
    "all_sf_df.drop(columns=['g1'], inplace=True)"
   ]
  },
  {
   "cell_type": "code",
   "execution_count": null,
   "metadata": {},
   "outputs": [],
   "source": []
  },
  {
   "cell_type": "code",
   "execution_count": 111,
   "metadata": {},
   "outputs": [
    {
     "name": "stdout",
     "output_type": "stream",
     "text": [
      "1592\n"
     ]
    }
   ],
   "source": [
    "print(len(all_sf_df))"
   ]
  },
  {
   "cell_type": "code",
   "execution_count": 112,
   "metadata": {
    "collapsed": false,
    "pycharm": {
     "name": "#%%\n"
    }
   },
   "outputs": [
    {
     "name": "stdout",
     "output_type": "stream",
     "text": [
      "['eta-11.89_rs-0.8333_rcut-5', 'eta-6.543_rs-1.123_rcut-5', 'eta-3.601_rs-1.514_rcut-5', 'eta-1.982_rs-2.041_rcut-5', 'eta-1.091_rs-2.752_rcut-5', 'eta-0.6002_rs-3.709_rcut-5', 'eta-0.05556_zeta-1.0_lam--1.0_rcut-5', 'eta-0.05556_zeta-1.0_lam-1.0_rcut-5', 'eta-0.05556_zeta-4.0_lam--1.0_rcut-5', 'eta-0.05556_zeta-4.0_lam-1.0_rcut-5', 'eta-0.05556_zeta-8.0_lam--1.0_rcut-5', 'eta-0.05556_zeta-8.0_lam-1.0_rcut-5', 'eta-0.02_zeta-1.0_lam--1.0_rcut-5', 'eta-0.02_zeta-1.0_lam-1.0_rcut-5', 'eta-0.02_zeta-4.0_lam--1.0_rcut-5', 'eta-0.02_zeta-4.0_lam-1.0_rcut-5', 'eta-0.02_zeta-8.0_lam--1.0_rcut-5', 'eta-0.02_zeta-8.0_lam-1.0_rcut-5']\n"
     ]
    }
   ],
   "source": [
    "from sklearn.preprocessing import StandardScaler\n",
    "from sklearn.model_selection import train_test_split\n",
    "\n",
    "feature_cols = [col for col in all_sf_df.columns if 'eta' in col]\n",
    "target_cols = ['fx', 'fy', 'fz']\n",
    "\n",
    "print(feature_cols)\n",
    "\n",
    "feature_df = all_sf_df[feature_cols].copy()\n",
    "target_df = all_sf_df[target_cols].copy()\n",
    "\n",
    "X_train, X_test, y_train, y_test = train_test_split(feature_df.values, target_df.values, test_size=0.8, random_state=42)"
   ]
  },
  {
   "cell_type": "code",
   "execution_count": 113,
   "metadata": {
    "collapsed": false,
    "pycharm": {
     "name": "#%%\n"
    }
   },
   "outputs": [],
   "source": [
    "from sklearn.preprocessing import StandardScaler\n",
    "from sklearn.model_selection import train_test_split\n",
    "\n",
    "feature_cols = [col for col in all_sf_df.columns if 'eta' in col]\n",
    "target_cols = ['fx', 'fy', 'fz']\n",
    "\n",
    "feature_df = all_sf_df[feature_cols].copy()\n",
    "target_df = all_sf_df[target_cols].copy()\n",
    "\n",
    "X_train, X_test, y_train, y_test = train_test_split(feature_df.values, target_df.values, test_size=0.8, random_state=42)"
   ]
  },
  {
   "cell_type": "code",
   "execution_count": 114,
   "metadata": {},
   "outputs": [],
   "source": [
    "scaler = StandardScaler()\n",
    "scaler.fit(X_train)\n",
    "\n",
    "X_train_scaled = scaler.transform(X_train)\n",
    "X_test_scaled = scaler.transform(X_test)"
   ]
  },
  {
   "cell_type": "code",
   "execution_count": 115,
   "metadata": {
    "pycharm": {
     "name": "#%%\n"
    }
   },
   "outputs": [],
   "source": [
    "from tensorflow.keras.models import Sequential\n",
    "import tensorflow as tf\n",
    "\n",
    "model = tf.keras.Sequential([\n",
    "    tf.keras.layers.Dense(20, activation=tf.keras.layers.LeakyReLU(alpha=0.01)),\n",
    "    tf.keras.layers.Dense(20, activation=tf.keras.layers.LeakyReLU(alpha=0.01)),\n",
    "    tf.keras.layers.Dense(3, activation='linear')\n",
    "], name='mlp')\n",
    "\n",
    "model.compile(optimizer=tf.keras.optimizers.Adam(learning_rate=0.05),\n",
    "              loss=tf.keras.losses.MeanSquaredError(),\n",
    "              metrics=['mae'])"
   ]
  },
  {
   "cell_type": "code",
   "execution_count": 116,
   "metadata": {
    "pycharm": {
     "name": "#%%\n"
    }
   },
   "outputs": [
    {
     "name": "stdout",
     "output_type": "stream",
     "text": [
      "Epoch 1/20\n",
      "8/8 [==============================] - 1s 22ms/step - loss: 18.0552 - mae: 2.4046 - val_loss: 13.7906 - val_mae: 2.1565\n",
      "Epoch 2/20\n",
      "8/8 [==============================] - 0s 4ms/step - loss: 17.4228 - mae: 2.3879 - val_loss: 13.1197 - val_mae: 2.0578\n",
      "Epoch 3/20\n",
      "8/8 [==============================] - 0s 4ms/step - loss: 17.0176 - mae: 2.3257 - val_loss: 13.2326 - val_mae: 2.0690\n",
      "Epoch 4/20\n",
      "8/8 [==============================] - 0s 4ms/step - loss: 16.7296 - mae: 2.3143 - val_loss: 12.9395 - val_mae: 2.0392\n",
      "Epoch 5/20\n",
      "8/8 [==============================] - 0s 4ms/step - loss: 16.5792 - mae: 2.3240 - val_loss: 12.6984 - val_mae: 2.0494\n",
      "Epoch 6/20\n",
      "8/8 [==============================] - 0s 4ms/step - loss: 16.3617 - mae: 2.3537 - val_loss: 13.0553 - val_mae: 2.1034\n",
      "Epoch 7/20\n",
      "8/8 [==============================] - 0s 4ms/step - loss: 15.7011 - mae: 2.3078 - val_loss: 12.3444 - val_mae: 2.0438\n",
      "Epoch 8/20\n",
      "8/8 [==============================] - 0s 4ms/step - loss: 16.0128 - mae: 2.3333 - val_loss: 12.7160 - val_mae: 2.1384\n",
      "Epoch 9/20\n",
      "8/8 [==============================] - 0s 4ms/step - loss: 16.0611 - mae: 2.3545 - val_loss: 12.1678 - val_mae: 2.0864\n",
      "Epoch 10/20\n",
      "8/8 [==============================] - 0s 4ms/step - loss: 15.4980 - mae: 2.3074 - val_loss: 11.9520 - val_mae: 2.0335\n",
      "Epoch 11/20\n",
      "8/8 [==============================] - 0s 4ms/step - loss: 14.6446 - mae: 2.2788 - val_loss: 12.9895 - val_mae: 2.0916\n",
      "Epoch 12/20\n",
      "8/8 [==============================] - 0s 4ms/step - loss: 14.1731 - mae: 2.2642 - val_loss: 14.0975 - val_mae: 2.1361\n",
      "Epoch 13/20\n",
      "8/8 [==============================] - 0s 4ms/step - loss: 14.9959 - mae: 2.2398 - val_loss: 15.3433 - val_mae: 2.1550\n",
      "Epoch 14/20\n",
      "8/8 [==============================] - 0s 4ms/step - loss: 16.7889 - mae: 2.3224 - val_loss: 13.0095 - val_mae: 2.0759\n",
      "Epoch 15/20\n",
      "1/8 [==>...........................] - ETA: 0s - loss: 6.3570 - mae: 1.7271Restoring model weights from the end of the best epoch: 10.\n",
      "8/8 [==============================] - 0s 5ms/step - loss: 15.3929 - mae: 2.3005 - val_loss: 13.0081 - val_mae: 2.1133\n",
      "Epoch 15: early stopping\n"
     ]
    }
   ],
   "source": [
    "callbacks = [tf.keras.callbacks.EarlyStopping(patience=5, restore_best_weights=True, verbose=1)]\n",
    "\n",
    "history = model.fit(X_train_scaled, y_train, batch_size=32, epochs=20,\n",
    "                    validation_split=0.2, callbacks=callbacks)"
   ]
  },
  {
   "cell_type": "code",
   "execution_count": 117,
   "metadata": {},
   "outputs": [
    {
     "name": "stdout",
     "output_type": "stream",
     "text": [
      "Model: \"mlp\"\n",
      "_________________________________________________________________\n",
      " Layer (type)                Output Shape              Param #   \n",
      "=================================================================\n",
      " dense_12 (Dense)            (None, 20)                380       \n",
      "                                                                 \n",
      " dense_13 (Dense)            (None, 20)                420       \n",
      "                                                                 \n",
      " dense_14 (Dense)            (None, 3)                 63        \n",
      "                                                                 \n",
      "=================================================================\n",
      "Total params: 863\n",
      "Trainable params: 863\n",
      "Non-trainable params: 0\n",
      "_________________________________________________________________\n"
     ]
    }
   ],
   "source": [
    "model.summary()"
   ]
  },
  {
   "cell_type": "code",
   "execution_count": 118,
   "metadata": {},
   "outputs": [],
   "source": [
    "test_loss, test_acc = model.evaluate(X_test_scaled, y_test, verbose=0)"
   ]
  },
  {
   "cell_type": "code",
   "execution_count": 119,
   "metadata": {},
   "outputs": [
    {
     "data": {
      "text/plain": [
       "<matplotlib.collections.PathCollection at 0x17bd83070>"
      ]
     },
     "execution_count": 119,
     "metadata": {},
     "output_type": "execute_result"
    },
    {
     "data": {
      "image/png": "[encoded data removed]",
      "text/plain": [
       "<Figure size 1000x600 with 1 Axes>"
      ]
     },
     "metadata": {},
     "output_type": "display_data"
    }
   ],
   "source": [
    "fig = plt.figure(figsize=(10,6))\n",
    "ax = fig.add_subplot(111)\n",
    "\n",
    "ax.scatter(target_df.values[:, 0], target_df.values[:, 1])"
   ]
  },
  {
   "cell_type": "code",
   "execution_count": 120,
   "metadata": {},
   "outputs": [
    {
     "name": "stdout",
     "output_type": "stream",
     "text": [
      "10/10 [==============================] - 0s 859us/step\n"
     ]
    },
    {
     "data": {
      "text/plain": [
       "(-30.0, 30.0)"
      ]
     },
     "execution_count": 120,
     "metadata": {},
     "output_type": "execute_result"
    },
    {
     "data": {
      "image/png": "[encoded data removed]",
      "text/plain": [
       "<Figure size 800x800 with 1 Axes>"
      ]
     },
     "metadata": {},
     "output_type": "display_data"
    }
   ],
   "source": [
    "y_train_predicted = model.predict(X_train_scaled)\n",
    "\n",
    "fig = plt.figure(figsize=(8,8))\n",
    "ax = fig.add_subplot(111)\n",
    "\n",
    "ax.scatter(np.ravel(y_train), np.ravel(y_train_predicted))\n",
    "ax.set_xlabel('Observed')\n",
    "ax.set_ylabel('Predicted')\n",
    "\n",
    "ax.set_xlim(-30, 30)\n",
    "ax.set_ylim(-30, 30)"
   ]
  },
  {
   "cell_type": "code",
   "execution_count": 121,
   "metadata": {},
   "outputs": [
    {
     "name": "stdout",
     "output_type": "stream",
     "text": [
      "40/40 [==============================] - 0s 701us/step\n"
     ]
    },
    {
     "data": {
      "text/plain": [
       "(-30.0, 30.0)"
      ]
     },
     "execution_count": 121,
     "metadata": {},
     "output_type": "execute_result"
    },
    {
     "data": {
      "image/png": "[encoded data removed]",
      "text/plain": [
       "<Figure size 800x800 with 1 Axes>"
      ]
     },
     "metadata": {},
     "output_type": "display_data"
    }
   ],
   "source": [
    "y_test_predicted = model.predict(X_test_scaled)\n",
    "\n",
    "fig = plt.figure(figsize=(8,8))\n",
    "ax = fig.add_subplot(111)\n",
    "\n",
    "ax.scatter(np.ravel(y_test), np.ravel(y_test_predicted))\n",
    "ax.set_xlabel('Observed')\n",
    "ax.set_ylabel('Predicted')\n",
    "\n",
    "ax.set_xlim(-30, 30)\n",
    "ax.set_ylim(-30, 30)"
   ]
  },
  {
   "cell_type": "code",
   "execution_count": 122,
   "metadata": {},
   "outputs": [
    {
     "data": {
      "text/plain": [
       "<AxesSubplot: ylabel='Frequency'>"
      ]
     },
     "execution_count": 122,
     "metadata": {},
     "output_type": "execute_result"
    },
    {
     "data": {
      "image/png": "[encoded data removed]",
      "text/plain": [
       "<Figure size 640x480 with 1 Axes>"
      ]
     },
     "metadata": {},
     "output_type": "display_data"
    }
   ],
   "source": [
    "target_df['fx'].plot.hist(bins=30)"
   ]
  },
  {
   "cell_type": "code",
   "execution_count": 123,
   "metadata": {},
   "outputs": [
    {
     "name": "stderr",
     "output_type": "stream",
     "text": [
      "/Users/y1u0d2/opt/anaconda3/envs/ml/lib/python3.10/site-packages/pandas/core/arraylike.py:405: RuntimeWarning: invalid value encountered in log\n",
      "  result = getattr(ufunc, method)(*inputs, **kwargs)\n"
     ]
    }
   ],
   "source": [
    "target_df['fx_scaled'] = np.log(target_df['fx'])"
   ]
  },
  {
   "cell_type": "code",
   "execution_count": 164,
   "metadata": {},
   "outputs": [],
   "source": [
    "G = tf.Variable(X_train_scaled)\n",
    "\n",
    "with tf.GradientTape() as tape:\n",
    "  # y = model.predict(G.numpy())\n",
    "  y = model(G)\n",
    "\n",
    "g = tape.gradient(y, G)"
   ]
  },
  {
   "cell_type": "code",
   "execution_count": 165,
   "metadata": {},
   "outputs": [
    {
     "data": {
      "text/plain": [
       "<tf.Tensor: shape=(318, 18), dtype=float32, numpy=\n",
       "array([[-1.4298231e-02, -1.5547865e-02, -1.7378664e-02, ...,\n",
       "        -4.2878353e-04,  2.0912679e-02, -3.5809041e-03],\n",
       "       [-3.1857449e-01, -4.9788269e-01, -3.9753467e-01, ...,\n",
       "        -4.3286169e-01,  1.8141571e-01, -2.7272308e-01],\n",
       "       [-2.7260381e-01, -4.8857671e-01, -3.0922392e-01, ...,\n",
       "        -3.8976794e-01,  1.9931756e-01, -2.2620794e-01],\n",
       "       ...,\n",
       "       [-5.8076954e-01, -7.3278534e-01, -5.2062488e-01, ...,\n",
       "        -4.8295844e-02,  4.3369913e-01,  8.7493099e-03],\n",
       "       [-2.0136587e-02, -2.7666893e-02, -3.2267056e-02, ...,\n",
       "         3.0163545e-03,  1.9948648e-02,  1.7857939e-02],\n",
       "       [-1.6358243e-02, -2.3342315e-02, -2.5498660e-02, ...,\n",
       "         1.6120654e-03,  1.8713417e-02,  1.6661242e-02]], dtype=float32)>"
      ]
     },
     "execution_count": 165,
     "metadata": {},
     "output_type": "execute_result"
    }
   ],
   "source": []
  },
  {
   "cell_type": "code",
   "execution_count": null,
   "metadata": {},
   "outputs": [],
   "source": []
  },
  {
   "cell_type": "code",
   "execution_count": null,
   "metadata": {},
   "outputs": [],
   "source": []
  }
 ],
 "metadata": {
  "kernelspec": {
   "display_name": "Python 3.10.4 ('ml')",
   "language": "python",
   "name": "python3"
  },
  "language_info": {
   "codemirror_mode": {
    "name": "ipython",
    "version": 3
   },
   "file_extension": ".py",
   "mimetype": "text/x-python",
   "name": "python",
   "nbconvert_exporter": "python",
   "pygments_lexer": "ipython3",
   "version": "3.10.6"
  },
  "vscode": {
   "interpreter": {
    "hash": "523738ac47dcf7681d48eb184ac702eac622ded297e68c9c931bbc5de5caff01"
   }
  }
 },
 "nbformat": 4,
 "nbformat_minor": 0
}
