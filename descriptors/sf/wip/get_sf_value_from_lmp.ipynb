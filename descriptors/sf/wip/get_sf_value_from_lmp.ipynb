{
 "cells": [
  {
   "cell_type": "code",
   "execution_count": 1,
   "metadata": {
    "collapsed": true,
    "pycharm": {
     "name": "#%%\n"
    }
   },
   "outputs": [],
   "source": [
    "import pandas as pd\n",
    "import numpy as np\n",
    "import matplotlib.pyplot as plt\n",
    "import  seaborn as sns\n",
    "from glob import glob\n",
    "from descriptors.sf.get_sf_param import get_sf_radial_params"
   ]
  },
  {
   "cell_type": "code",
   "execution_count": 2,
   "metadata": {
    "collapsed": false,
    "pycharm": {
     "name": "#%%\n"
    }
   },
   "outputs": [],
   "source": [
    "path2root = '/Users/y1u0d2/desktop/Lab/result/lammps/Si/sputtering/sw/atom6750/0deg_100eV'\n",
    "\n",
    "dump_files = glob(f'{path2root}/data.Si.*')\n",
    "dump_files.sort()"
   ]
  },
  {
   "cell_type": "code",
   "execution_count": 3,
   "metadata": {
    "collapsed": false,
    "pycharm": {
     "name": "#%%\n"
    }
   },
   "outputs": [],
   "source": [
    "from ase.io import lammpsdata, read\n",
    "import os\n",
    "\n",
    "rcut = 6\n",
    "param_df = get_sf_radial_params(elm=['Si'], rcut=rcut, nb_param_pairs=6)\n",
    "g2_params = param_df[['eta', 'rs']].values"
   ]
  },
  {
   "cell_type": "code",
   "execution_count": null,
   "metadata": {
    "collapsed": false,
    "pycharm": {
     "name": "#%%\n"
    }
   },
   "outputs": [],
   "source": [
    "from descriptors.sf.get_sf_value import SfFuncVal\n",
    "\n",
    "dump_file = dump_files[1]\n",
    "structure = lammpsdata.read_lammps_data(file=dump_file, style='atomic')"
   ]
  },
  {
   "cell_type": "code",
   "execution_count": null,
   "metadata": {
    "collapsed": false,
    "pycharm": {
     "name": "#%%\n"
    }
   },
   "outputs": [],
   "source": []
  },
  {
   "cell_type": "code",
   "execution_count": null,
   "metadata": {
    "collapsed": false,
    "pycharm": {
     "name": "#%%\n"
    }
   },
   "outputs": [],
   "source": [
    "for i, dump_file in enumerate(dump_files):\n",
    "    structure = lammpsdata.read_lammps_data(file=dump_file, style='atomic')\n",
    "    symbols = ['Si' for _ in range(structure.get_global_number_of_atoms())]\n",
    "    structure.set_chemical_symbols(symbols)\n",
    "\n",
    "    df_sf = SfFuncVal.get_g2_value(\n",
    "        g2_params=g2_params,\n",
    "        structure=structure,\n",
    "        species=['Si', 'Si'],\n",
    "        rcut=rcut,\n",
    "        periodic=False\n",
    "        )\n",
    "\n",
    "    path2out = '/home/y1u0d2/result/lammps/scripts/Si/sputtering/sw/atom6750/csv/0deg_100eV'\n",
    "    pickle_filename = f'sf-dump_{i}.pickle'\n",
    "    df_sf.to_pickle(os.path.join(path2out, pickle_filename))"
   ]
  },
  {
   "cell_type": "code",
   "execution_count": null,
   "metadata": {
    "collapsed": false,
    "pycharm": {
     "name": "#%%\n"
    }
   },
   "outputs": [],
   "source": []
  },
  {
   "cell_type": "code",
   "execution_count": null,
   "metadata": {
    "collapsed": false,
    "pycharm": {
     "name": "#%%\n"
    }
   },
   "outputs": [],
   "source": [
    "from sklearn.preprocessing import StandardScaler\n",
    "\n",
    "scaler = StandardScaler()\n",
    "df_scaled = pd.DataFrame(data=scaler.fit_transform(df_sf), columns=df_sf.columns)"
   ]
  },
  {
   "cell_type": "code",
   "execution_count": null,
   "metadata": {
    "collapsed": false,
    "pycharm": {
     "name": "#%%\n"
    }
   },
   "outputs": [],
   "source": [
    "df_scaled"
   ]
  },
  {
   "cell_type": "code",
   "execution_count": null,
   "metadata": {
    "collapsed": false,
    "pycharm": {
     "name": "#%%\n"
    }
   },
   "outputs": [],
   "source": [
    "positions = structure.get_positions()\n",
    "x = positions[:,0]\n",
    "y = positions[:,1]\n",
    "z = positions[:,2]"
   ]
  },
  {
   "cell_type": "code",
   "execution_count": null,
   "metadata": {
    "collapsed": false,
    "pycharm": {
     "name": "#%%\n"
    }
   },
   "outputs": [],
   "source": [
    "# fig = plt.figure(figsize=(20,20))\n",
    "# ax = fig.add_subplot(111)\n",
    "# ax.scatter(y,z)"
   ]
  },
  {
   "cell_type": "code",
   "execution_count": null,
   "metadata": {
    "collapsed": false,
    "pycharm": {
     "name": "#%%\n"
    }
   },
   "outputs": [],
   "source": [
    "fig = plt.figure(figsize=(20,10))\n",
    "ax = fig.add_subplot(111)\n",
    "sns.boxplot(data=df_scaled, showfliers=False, ax=ax)\n",
    "sns.stripplot(data=df_scaled, jitter=True, ax=ax)"
   ]
  },
  {
   "cell_type": "code",
   "execution_count": null,
   "metadata": {
    "collapsed": false,
    "pycharm": {
     "name": "#%%\n"
    }
   },
   "outputs": [],
   "source": [
    "path2data = '/Users/y1u0d2/desktop/Lab/result/lammps/Si/sputtering/sw/atom6750/data'\n",
    "# df_sf.to_pickle(f'/Users/y1u0d2/desktop/Lab/result/lammps/Si/sputtering/sw/atom6750/data/sample.pickle')"
   ]
  },
  {
   "cell_type": "code",
   "execution_count": null,
   "metadata": {
    "collapsed": false,
    "pycharm": {
     "name": "#%%\n"
    }
   },
   "outputs": [],
   "source": [
    "# df_sf.to_csv(f'/Users/y1u0d2/desktop/Lab/result/lammps/Si/sputtering/sw/atom6750/data/sample.csv', index=False)"
   ]
  },
  {
   "cell_type": "code",
   "execution_count": null,
   "metadata": {
    "collapsed": false,
    "pycharm": {
     "name": "#%%\n"
    }
   },
   "outputs": [],
   "source": [
    "# df_pickle = pd.read_pickle(os.path.join(path2data, 'sample.pickle'))"
   ]
  },
  {
   "cell_type": "code",
   "execution_count": null,
   "metadata": {
    "collapsed": false,
    "pycharm": {
     "name": "#%%\n"
    }
   },
   "outputs": [],
   "source": [
    "# df_csv = pd.read_csv(os.path.join(path2data, 'sample.csv'))"
   ]
  },
  {
   "cell_type": "code",
   "execution_count": 74,
   "metadata": {
    "collapsed": false,
    "pycharm": {
     "is_executing": true,
     "name": "#%%\n"
    }
   },
   "outputs": [
    {
     "data": {
      "text/plain": [
       "<AxesSubplot:>"
      ]
     },
     "execution_count": 74,
     "metadata": {},
     "output_type": "execute_result"
    },
    {
     "data": {
      "image/png": "[encoded data removed]",
      "text/plain": [
       "<Figure size 1440x720 with 1 Axes>"
      ]
     },
     "metadata": {
      "needs_background": "light"
     },
     "output_type": "display_data"
    }
   ],
   "source": [
    "fig = plt.figure(figsize=(20,10))\n",
    "ax = fig.add_subplot(111)\n",
    "sns.boxplot(data=df_scaled, showfliers=False, ax=ax)\n",
    "sns.stripplot(data=df_scaled, jitter=True, ax=ax)"
   ]
  },
  {
   "cell_type": "code",
   "execution_count": 75,
   "metadata": {
    "collapsed": false,
    "pycharm": {
     "is_executing": true,
     "name": "#%%\n"
    }
   },
   "outputs": [],
   "source": [
    "path2data = '/Users/y1u0d2/desktop/Lab/result/lammps/Si/sputtering/sw/atom6750/data'\n",
    "# df_sf.to_pickle(f'/Users/y1u0d2/desktop/Lab/result/lammps/Si/sputtering/sw/atom6750/data/sample.pickle')"
   ]
  },
  {
   "cell_type": "code",
   "execution_count": 76,
   "metadata": {
    "pycharm": {
     "name": "#%%\n"
    }
   },
   "outputs": [],
   "source": [
    "# df_sf.to_csv(f'/Users/y1u0d2/desktop/Lab/result/lammps/Si/sputtering/sw/atom6750/data/sample.csv', index=False)"
   ]
  },
  {
   "cell_type": "code",
   "execution_count": 77,
   "metadata": {
    "pycharm": {
     "name": "#%%\n"
    }
   },
   "outputs": [],
   "source": [
    "# df_pickle = pd.read_pickle(os.path.join(path2data, 'sample.pickle'))"
   ]
  },
  {
   "cell_type": "code",
   "execution_count": 78,
   "metadata": {
    "pycharm": {
     "name": "#%%\n"
    }
   },
   "outputs": [],
   "source": [
    "# df_csv = pd.read_csv(os.path.join(path2data, 'sample.csv'))"
   ]
  },
  {
   "cell_type": "code",
   "execution_count": null,
   "metadata": {
    "pycharm": {
     "name": "#%%\n"
    }
   },
   "outputs": [],
   "source": []
  },
  {
   "cell_type": "code",
   "execution_count": null,
   "metadata": {
    "pycharm": {
     "name": "#%%\n"
    }
   },
   "outputs": [],
   "source": []
  }
 ],
 "metadata": {
  "kernelspec": {
   "display_name": "Python 3.10.4 ('ml')",
   "language": "python",
   "name": "python3"
  },
  "language_info": {
   "codemirror_mode": {
    "name": "ipython",
    "version": 3
   },
   "file_extension": ".py",
   "mimetype": "text/x-python",
   "name": "python",
   "nbconvert_exporter": "python",
   "pygments_lexer": "ipython3",
   "version": "3.10.6 | packaged by conda-forge | (main, Aug 22 2022, 20:43:44) [Clang 13.0.1 ]"
  },
  "vscode": {
   "interpreter": {
    "hash": "523738ac47dcf7681d48eb184ac702eac622ded297e68c9c931bbc5de5caff01"
   }
  }
 },
 "nbformat": 4,
 "nbformat_minor": 0
}
