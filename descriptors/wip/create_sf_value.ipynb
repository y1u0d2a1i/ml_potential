{
 "cells": [
  {
   "cell_type": "code",
   "execution_count": 1,
   "metadata": {
    "pycharm": {
     "name": "#%%\n"
    }
   },
   "outputs": [],
   "source": [
    "import pandas as pd\n",
    "import numpy as np\n",
    "import matplotlib.pyplot as plt\n",
    "\n",
    "from dscribe.descriptors import ACSF\n",
    "from descriptors.sf.get_sf_param import get_sf_radial_params"
   ]
  },
  {
   "cell_type": "code",
   "execution_count": 2,
   "metadata": {
    "pycharm": {
     "name": "#%%\n"
    }
   },
   "outputs": [],
   "source": [
    "from ase.io import read\n",
    "import os\n",
    "\n",
    "path2scf = '/Users/y1u0d2/desktop/Lab/result/qe/Si/mp-165/coord/l_3/scf_5'\n",
    "structure = read(filename=os.path.join(path2scf, 'scf.in'), format='espresso-in')\n",
    "\n",
    "rcut = 8\n",
    "param_df = get_sf_radial_params(elm=['Si'], rcut=rcut, nb_param_pairs=10)\n",
    "g2_params = param_df[['eta', 'rs']].values\n",
    "columns = [f'eta-{param[0]}_rs-{param[1]}' for param in g2_params]\n",
    "columns.insert(0, 'g1')\n",
    "\n",
    "acsf = ACSF(\n",
    "    species=['Si', 'Si'],\n",
    "    rcut=rcut,\n",
    "    g2_params=g2_params,\n",
    "    periodic=True,\n",
    ")\n",
    "sf_value = acsf.create(system=structure)"
   ]
  },
  {
   "cell_type": "code",
   "execution_count": 3,
   "metadata": {
    "pycharm": {
     "name": "#%%\n"
    }
   },
   "outputs": [],
   "source": [
    "from descriptors.sf.get_sf_value import SfFuncVal\n",
    "\n",
    "df = SfFuncVal.get_g2_value(\n",
    "    g2_params=g2_params,\n",
    "    structure=structure,\n",
    "    species=['Si', 'Si'],\n",
    "    rcut=8\n",
    "    )"
   ]
  },
  {
   "cell_type": "code",
   "execution_count": null,
   "metadata": {
    "pycharm": {
     "name": "#%%\n"
    }
   },
   "outputs": [],
   "source": []
  },
  {
   "cell_type": "code",
   "execution_count": null,
   "metadata": {
    "pycharm": {
     "name": "#%%\n"
    }
   },
   "outputs": [],
   "source": []
  },
  {
   "cell_type": "code",
   "execution_count": null,
   "metadata": {
    "pycharm": {
     "name": "#%%\n"
    }
   },
   "outputs": [],
   "source": []
  }
 ],
 "metadata": {
  "kernelspec": {
   "display_name": "Python 3.10.4 ('ml')",
   "language": "python",
   "name": "python3"
  },
  "language_info": {
   "codemirror_mode": {
    "name": "ipython",
    "version": 3
   },
   "file_extension": ".py",
   "mimetype": "text/x-python",
   "name": "python",
   "nbconvert_exporter": "python",
   "pygments_lexer": "ipython3",
   "version": "3.10.6"
  },
  "orig_nbformat": 4,
  "vscode": {
   "interpreter": {
    "hash": "523738ac47dcf7681d48eb184ac702eac622ded297e68c9c931bbc5de5caff01"
   }
  }
 },
 "nbformat": 4,
 "nbformat_minor": 2
}
