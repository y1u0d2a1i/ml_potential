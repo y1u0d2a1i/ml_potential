{
 "cells": [
  {
   "cell_type": "code",
   "execution_count": 1,
   "metadata": {
    "pycharm": {
     "name": "#%%\n"
    }
   },
   "outputs": [],
   "source": [
    "import pandas as pd\n",
    "import numpy as np\n",
    "import matplotlib.pyplot as plt\n",
    "\n",
    "from dscribe.descriptors import ACSF\n",
    "from descriptors.sf.get_sf_param import get_sf_radial_params"
   ]
  },
  {
   "cell_type": "code",
   "execution_count": 3,
   "metadata": {
    "pycharm": {
     "name": "#%%\n"
    }
   },
   "outputs": [
    {
     "ename": "FileNotFoundError",
     "evalue": "[Errno 2] No such file or directory: '/Users/y1u0d2/desktop/Lab/result/qe/Si/mp-165/coord/l_3/scf_5/scf.in'",
     "output_type": "error",
     "traceback": [
      "\u001b[0;31m---------------------------------------------------------------------------\u001b[0m",
      "\u001b[0;31mFileNotFoundError\u001b[0m                         Traceback (most recent call last)",
      "\u001b[1;32m/Users/y1u0d2/Desktop/Project/ml_potential/descriptors/wip/create_sf_value.ipynb Cell 2\u001b[0m in \u001b[0;36m5\n\u001b[1;32m      <a href='vscode-notebook-cell:/Users/y1u0d2/Desktop/Project/ml_potential/descriptors/wip/create_sf_value.ipynb#W1sZmlsZQ%3D%3D?line=1'>2</a>\u001b[0m \u001b[39mimport\u001b[39;00m \u001b[39mos\u001b[39;00m\n\u001b[1;32m      <a href='vscode-notebook-cell:/Users/y1u0d2/Desktop/Project/ml_potential/descriptors/wip/create_sf_value.ipynb#W1sZmlsZQ%3D%3D?line=3'>4</a>\u001b[0m \u001b[39m# path2scf = '/Users/y1u0d2/desktop/Lab/result/qe/Si/mp-165/coord/l_3/scf_5'\u001b[39;00m\n\u001b[0;32m----> <a href='vscode-notebook-cell:/Users/y1u0d2/Desktop/Project/ml_potential/descriptors/wip/create_sf_value.ipynb#W1sZmlsZQ%3D%3D?line=4'>5</a>\u001b[0m structure \u001b[39m=\u001b[39m read(filename\u001b[39m=\u001b[39mos\u001b[39m.\u001b[39mpath\u001b[39m.\u001b[39mjoin(path2scf, \u001b[39m'\u001b[39m\u001b[39mscf.in\u001b[39m\u001b[39m'\u001b[39m), \u001b[39mformat\u001b[39m\u001b[39m=\u001b[39m\u001b[39m'\u001b[39m\u001b[39mespresso-in\u001b[39m\u001b[39m'\u001b[39m)\n\u001b[1;32m      <a href='vscode-notebook-cell:/Users/y1u0d2/Desktop/Project/ml_potential/descriptors/wip/create_sf_value.ipynb#W1sZmlsZQ%3D%3D?line=6'>7</a>\u001b[0m rcut \u001b[39m=\u001b[39m \u001b[39m8\u001b[39m\n\u001b[1;32m      <a href='vscode-notebook-cell:/Users/y1u0d2/Desktop/Project/ml_potential/descriptors/wip/create_sf_value.ipynb#W1sZmlsZQ%3D%3D?line=7'>8</a>\u001b[0m param_df \u001b[39m=\u001b[39m get_sf_radial_params(elm\u001b[39m=\u001b[39m[\u001b[39m'\u001b[39m\u001b[39mSi\u001b[39m\u001b[39m'\u001b[39m], rcut\u001b[39m=\u001b[39mrcut, nb_param_pairs\u001b[39m=\u001b[39m\u001b[39m10\u001b[39m)\n",
      "File \u001b[0;32m~/.local/lib/python3.10/site-packages/ase/io/formats.py:736\u001b[0m, in \u001b[0;36mread\u001b[0;34m(filename, index, format, parallel, do_not_split_by_at_sign, **kwargs)\u001b[0m\n\u001b[1;32m    733\u001b[0m     \u001b[39mreturn\u001b[39;00m \u001b[39mlist\u001b[39m(_iread(filename, index, \u001b[39mformat\u001b[39m, io, parallel\u001b[39m=\u001b[39mparallel,\n\u001b[1;32m    734\u001b[0m                        \u001b[39m*\u001b[39m\u001b[39m*\u001b[39mkwargs))\n\u001b[1;32m    735\u001b[0m \u001b[39melse\u001b[39;00m:\n\u001b[0;32m--> 736\u001b[0m     \u001b[39mreturn\u001b[39;00m \u001b[39mnext\u001b[39;49m(_iread(filename, \u001b[39mslice\u001b[39;49m(index, \u001b[39mNone\u001b[39;49;00m), \u001b[39mformat\u001b[39;49m, io,\n\u001b[1;32m    737\u001b[0m                        parallel\u001b[39m=\u001b[39;49mparallel, \u001b[39m*\u001b[39;49m\u001b[39m*\u001b[39;49mkwargs))\n",
      "File \u001b[0;32m~/.local/lib/python3.10/site-packages/ase/parallel.py:275\u001b[0m, in \u001b[0;36mparallel_generator.<locals>.new_generator\u001b[0;34m(*args, **kwargs)\u001b[0m\n\u001b[1;32m    269\u001b[0m \u001b[39m@functools\u001b[39m\u001b[39m.\u001b[39mwraps(generator)\n\u001b[1;32m    270\u001b[0m \u001b[39mdef\u001b[39;00m \u001b[39mnew_generator\u001b[39m(\u001b[39m*\u001b[39margs, \u001b[39m*\u001b[39m\u001b[39m*\u001b[39mkwargs):\n\u001b[1;32m    271\u001b[0m     \u001b[39mif\u001b[39;00m (world\u001b[39m.\u001b[39msize \u001b[39m==\u001b[39m \u001b[39m1\u001b[39m \u001b[39mor\u001b[39;00m\n\u001b[1;32m    272\u001b[0m         args \u001b[39mand\u001b[39;00m \u001b[39mgetattr\u001b[39m(args[\u001b[39m0\u001b[39m], \u001b[39m'\u001b[39m\u001b[39mserial\u001b[39m\u001b[39m'\u001b[39m, \u001b[39mFalse\u001b[39;00m) \u001b[39mor\u001b[39;00m\n\u001b[1;32m    273\u001b[0m         \u001b[39mnot\u001b[39;00m kwargs\u001b[39m.\u001b[39mpop(\u001b[39m'\u001b[39m\u001b[39mparallel\u001b[39m\u001b[39m'\u001b[39m, \u001b[39mTrue\u001b[39;00m)):\n\u001b[1;32m    274\u001b[0m         \u001b[39m# Disable:\u001b[39;00m\n\u001b[0;32m--> 275\u001b[0m         \u001b[39mfor\u001b[39;00m result \u001b[39min\u001b[39;00m generator(\u001b[39m*\u001b[39margs, \u001b[39m*\u001b[39m\u001b[39m*\u001b[39mkwargs):\n\u001b[1;32m    276\u001b[0m             \u001b[39myield\u001b[39;00m result\n\u001b[1;32m    277\u001b[0m         \u001b[39mreturn\u001b[39;00m\n",
      "File \u001b[0;32m~/.local/lib/python3.10/site-packages/ase/io/formats.py:793\u001b[0m, in \u001b[0;36m_iread\u001b[0;34m(filename, index, format, io, parallel, full_output, **kwargs)\u001b[0m\n\u001b[1;32m    791\u001b[0m \u001b[39mif\u001b[39;00m io\u001b[39m.\u001b[39macceptsfd:\n\u001b[1;32m    792\u001b[0m     mode \u001b[39m=\u001b[39m \u001b[39m'\u001b[39m\u001b[39mrb\u001b[39m\u001b[39m'\u001b[39m \u001b[39mif\u001b[39;00m io\u001b[39m.\u001b[39misbinary \u001b[39melse\u001b[39;00m \u001b[39m'\u001b[39m\u001b[39mr\u001b[39m\u001b[39m'\u001b[39m\n\u001b[0;32m--> 793\u001b[0m     fd \u001b[39m=\u001b[39m open_with_compression(filename, mode)\n\u001b[1;32m    794\u001b[0m     must_close_fd \u001b[39m=\u001b[39m \u001b[39mTrue\u001b[39;00m\n\u001b[1;32m    795\u001b[0m \u001b[39melse\u001b[39;00m:\n",
      "File \u001b[0;32m~/.local/lib/python3.10/site-packages/ase/io/formats.py:551\u001b[0m, in \u001b[0;36mopen_with_compression\u001b[0;34m(filename, mode)\u001b[0m\n\u001b[1;32m    548\u001b[0m     \u001b[39mreturn\u001b[39;00m lzma\u001b[39m.\u001b[39mopen(filename, mode)\n\u001b[1;32m    549\u001b[0m \u001b[39melse\u001b[39;00m:\n\u001b[1;32m    550\u001b[0m     \u001b[39m# Either None or unknown string\u001b[39;00m\n\u001b[0;32m--> 551\u001b[0m     \u001b[39mreturn\u001b[39;00m \u001b[39mopen\u001b[39;49m(filename, mode)\n",
      "\u001b[0;31mFileNotFoundError\u001b[0m: [Errno 2] No such file or directory: '/Users/y1u0d2/desktop/Lab/result/qe/Si/mp-165/coord/l_3/scf_5/scf.in'"
     ]
    }
   ],
   "source": [
    "from ase.io import read\n",
    "import os\n",
    "\n",
    "# path2scf = '/Users/y1u0d2/desktop/Lab/result/qe/Si/mp-165/coord/l_3/scf_5'\n",
    "structure = read(filename=os.path.join(path2scf, 'scf.in'), format='espresso-in')\n",
    "\n",
    "rcut = 8\n",
    "param_df = get_sf_radial_params(elm=['Si'], rcut=rcut, nb_param_pairs=10)\n",
    "g2_params = param_df[['eta', 'rs']].values\n",
    "columns = [f'eta-{param[0]}_rs-{param[1]}' for param in g2_params]\n",
    "columns.insert(0, 'g1')\n",
    "\n",
    "acsf = ACSF(\n",
    "    species=['Si', 'Si'],\n",
    "    rcut=rcut,\n",
    "    g2_params=g2_params,\n",
    "    periodic=True,\n",
    ")\n",
    "sf_value = acsf.create(system=structure)"
   ]
  },
  {
   "cell_type": "code",
   "execution_count": null,
   "metadata": {
    "pycharm": {
     "name": "#%%\n"
    }
   },
   "outputs": [],
   "source": [
    "from descriptors.sf.get_sf_value import SfFuncVal\n",
    "\n",
    "df = SfFuncVal.get_g2_value(\n",
    "    g2_params=g2_params,\n",
    "    structure=structure,\n",
    "    species=['Si', 'Si'],\n",
    "    rcut=8\n",
    "    )"
   ]
  },
  {
   "cell_type": "code",
   "execution_count": null,
   "metadata": {
    "pycharm": {
     "name": "#%%\n"
    }
   },
   "outputs": [],
   "source": []
  },
  {
   "cell_type": "code",
   "execution_count": null,
   "metadata": {
    "pycharm": {
     "name": "#%%\n"
    }
   },
   "outputs": [],
   "source": []
  },
  {
   "cell_type": "code",
   "execution_count": null,
   "metadata": {
    "pycharm": {
     "name": "#%%\n"
    }
   },
   "outputs": [],
   "source": []
  }
 ],
 "metadata": {
  "kernelspec": {
   "display_name": "Python 3.10.4 ('ml')",
   "language": "python",
   "name": "python3"
  },
  "language_info": {
   "codemirror_mode": {
    "name": "ipython",
    "version": 3
   },
   "file_extension": ".py",
   "mimetype": "text/x-python",
   "name": "python",
   "nbconvert_exporter": "python",
   "pygments_lexer": "ipython3",
   "version": "3.10.6"
  },
  "orig_nbformat": 4,
  "vscode": {
   "interpreter": {
    "hash": "523738ac47dcf7681d48eb184ac702eac622ded297e68c9c931bbc5de5caff01"
   }
  }
 },
 "nbformat": 4,
 "nbformat_minor": 2
}
