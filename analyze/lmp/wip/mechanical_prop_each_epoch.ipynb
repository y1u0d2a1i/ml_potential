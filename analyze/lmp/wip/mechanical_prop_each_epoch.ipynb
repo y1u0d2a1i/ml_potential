{
 "cells": [
  {
   "cell_type": "code",
   "execution_count": 1,
   "metadata": {},
   "outputs": [],
   "source": [
    "import numpy as np\n",
    "import pandas as pd\n",
    "import matplotlib.pyplot as plt\n",
    "from glob import glob\n",
    "import os\n",
    "import shutil"
   ]
  },
  {
   "cell_type": "code",
   "execution_count": 2,
   "metadata": {},
   "outputs": [],
   "source": [
    "path2n2p2_result = '/Users/y1u0d2/desktop/Lab/result/n2p2/Si/89/02'\n",
    "path2mechanical_prop_files = '/Users/y1u0d2/desktop/Lab/result/lammps/Si/elastic/template'"
   ]
  },
  {
   "cell_type": "code",
   "execution_count": 3,
   "metadata": {},
   "outputs": [],
   "source": [
    "# 各epochのweight.*.outに対して、elastic constantを計算する\n",
    "# result dirの中でelastic dirを作りその中に各epochのelastic fileを作る"
   ]
  },
  {
   "cell_type": "code",
   "execution_count": 4,
   "metadata": {},
   "outputs": [],
   "source": [
    "path2elastic = os.path.join(path2n2p2_result, 'elastic')\n",
    "if not os.path.exists(path2elastic):\n",
    "    os.mkdir(path2elastic)"
   ]
  },
  {
   "cell_type": "code",
   "execution_count": 5,
   "metadata": {},
   "outputs": [],
   "source": [
    "from ml_utils.util import remove_empty_from_array\n",
    "\n",
    "def change_nnpdir(lines, path2nnpdir):\n",
    "    for i, l in enumerate(lines):\n",
    "        if 'variable nnpDir' in l:\n",
    "            dir_l = remove_empty_from_array(l.split(' '))\n",
    "            dir_l[-1] = f'\"{path2nnpdir}\"'\n",
    "            lines[i] = ' '.join(dir_l)\n",
    "            break\n",
    "    return lines"
   ]
  },
  {
   "cell_type": "code",
   "execution_count": 6,
   "metadata": {},
   "outputs": [
    {
     "name": "stdout",
     "output_type": "stream",
     "text": [
      "weights.014.000048.out\n",
      "weights.014.000049.out\n",
      "weights.014.000006.out\n",
      "weights.014.000012.out\n",
      "weights.014.000013.out\n",
      "weights.014.000007.out\n",
      "weights.014.000011.out\n",
      "weights.014.000005.out\n",
      "weights.014.000039.out\n",
      "weights.014.000038.out\n",
      "weights.014.000004.out\n",
      "weights.014.000010.out\n",
      "weights.014.000028.out\n",
      "weights.014.000014.out\n",
      "weights.014.000000.out\n",
      "weights.014.000001.out\n",
      "weights.014.000015.out\n",
      "weights.014.000029.out\n",
      "weights.014.000003.out\n",
      "weights.014.000017.out\n",
      "weights.014.000016.out\n",
      "weights.014.000002.out\n",
      "weights.014.000027.out\n",
      "weights.014.000033.out\n",
      "weights.014.000032.out\n",
      "weights.014.000026.out\n",
      "weights.014.000030.out\n",
      "weights.014.000024.out\n",
      "weights.014.000018.out\n",
      "weights.014.000019.out\n",
      "weights.014.000025.out\n",
      "weights.014.000031.out\n",
      "weights.014.000009.out\n",
      "weights.014.000035.out\n",
      "weights.014.000021.out\n",
      "weights.014.000020.out\n",
      "weights.014.000034.out\n",
      "weights.014.000008.out\n",
      "weights.014.000022.out\n",
      "weights.014.000036.out\n",
      "weights.014.000037.out\n",
      "weights.014.000023.out\n",
      "weights.014.000044.out\n",
      "weights.014.000050.out\n",
      "weights.014.000045.out\n",
      "weights.014.000047.out\n",
      "weights.014.000046.out\n",
      "weights.014.000042.out\n",
      "weights.014.000043.out\n",
      "weights.014.000041.out\n",
      "weights.014.000040.out\n"
     ]
    }
   ],
   "source": [
    "weights_files = glob(f'{path2n2p2_result}/weight*')\n",
    "for weights_f in weights_files:\n",
    "    print(weights_f.split('/')[-1])\n",
    "    epoch = int(weights_f.split('/')[-1].split('.')[-2])\n",
    "    path2epoch = os.path.join(path2elastic, f'e_{epoch}')\n",
    "\n",
    "    # copy mechanical prop files\n",
    "    if not os.path.exists(path2epoch): shutil.copytree(path2mechanical_prop_files, path2epoch)\n",
    "\n",
    "    # copy n2p2 files\n",
    "    shutil.copy(os.path.join(path2n2p2_result, 'input.nn'), path2epoch)\n",
    "    shutil.copy(os.path.join(path2n2p2_result, 'scaling.data'), path2epoch)\n",
    "    shutil.copy(weights_f, path2epoch)\n",
    "    os.rename(os.path.join(path2epoch, weights_f.split('/')[-1]), os.path.join(path2epoch, 'weights.014.data'))\n",
    "\n",
    "    # change potential.mod\n",
    "    with open(os.path.join(path2epoch, 'potential.mod'), mode='r') as f:\n",
    "        lines = [s.strip() for s in f.readlines()]\n",
    "    changed_lines = change_nnpdir(lines, path2epoch)\n",
    "    with open(os.path.join(path2epoch, 'potential.mod'), mode='w') as f:\n",
    "        f.write('\\n'.join(changed_lines))\n",
    "    \n",
    "    # break"
   ]
  },
  {
   "cell_type": "code",
   "execution_count": 7,
   "metadata": {},
   "outputs": [],
   "source": [
    "# from analyze.lmp.mechanical_prop_each_epoch import make_elastic_dirs\n",
    "\n",
    "# make_elastic_dirs(path2n2p2_result=path2n2p2_result, path2mechanical_prop_files=path2mechanical_prop_files)"
   ]
  },
  {
   "cell_type": "code",
   "execution_count": 8,
   "metadata": {},
   "outputs": [],
   "source": [
    "# from glob import glob\n",
    "# from analyze.lmp.mechanical_prop_each_epoch import make_elastic_dirs\n",
    "# import subprocess\n",
    "# import os\n",
    "\n",
    "\n",
    "# path2n2p2_result = '/home/y1u0d2/result/n2p2/Si/84/02'\n",
    "# path2mechanical_prop_files = '/home/y1u0d2/result/lammps/scripts/Si/elastic/template'\n",
    "\n",
    "# make_elastic_dirs(path2n2p2_result=path2n2p2_result, path2mechanical_prop_files=path2mechanical_prop_files)\n",
    "\n",
    "# elastic_dirs = glob(f'{path2n2p2_result}/elastic/e_*')\n",
    "# for path in elastic_dirs:\n",
    "#     try:\n",
    "#         os.chdir(path)\n",
    "#         process = subprocess.Popen(\n",
    "#         f'mpirun -np 4 lmp -in in.elastic',\n",
    "#         shell=True)\n",
    "#         process.wait()\n",
    "#     except:\n",
    "#         print(path)"
   ]
  },
  {
   "cell_type": "code",
   "execution_count": null,
   "metadata": {},
   "outputs": [],
   "source": []
  }
 ],
 "metadata": {
  "kernelspec": {
   "display_name": "ml",
   "language": "python",
   "name": "python3"
  },
  "language_info": {
   "codemirror_mode": {
    "name": "ipython",
    "version": 3
   },
   "file_extension": ".py",
   "mimetype": "text/x-python",
   "name": "python",
   "nbconvert_exporter": "python",
   "pygments_lexer": "ipython3",
   "version": "3.10.6"
  },
  "orig_nbformat": 4,
  "vscode": {
   "interpreter": {
    "hash": "523738ac47dcf7681d48eb184ac702eac622ded297e68c9c931bbc5de5caff01"
   }
  }
 },
 "nbformat": 4,
 "nbformat_minor": 2
}
