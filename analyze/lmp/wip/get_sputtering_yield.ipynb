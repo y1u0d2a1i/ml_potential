{
 "cells": [
  {
   "cell_type": "code",
   "execution_count": 1,
   "metadata": {
    "pycharm": {
     "name": "#%%\n"
    }
   },
   "outputs": [],
   "source": [
    "# get sputtering yield from etch.dat"
   ]
  },
  {
   "cell_type": "code",
   "execution_count": 2,
   "metadata": {
    "pycharm": {
     "name": "#%%\n"
    }
   },
   "outputs": [],
   "source": [
    "import numpy as np\n",
    "import pandas as pd\n",
    "import matplotlib.pyplot as plt\n",
    "import seaborn as sns\n",
    "import os"
   ]
  },
  {
   "cell_type": "markdown",
   "metadata": {
    "collapsed": false,
    "pycharm": {
     "name": "#%% md\n"
    }
   },
   "source": []
  },
  {
   "cell_type": "code",
   "execution_count": 3,
   "metadata": {
    "collapsed": false,
    "pycharm": {
     "name": "#%%\n"
    }
   },
   "outputs": [],
   "source": [
    "# path2target = '/Users/y1u0d2/desktop/Lab/result/lammps/Si/sputtering/tersoff/atom6750/result/0deg_1000eV'\n",
    "# path2target = '/Users/y1u0d2/desktop/Lab/result/lammps/Si/sputtering/ml/atom6750/model07/0deg_500eV'\n",
    "# path2target = '/Users/y1u0d2/desktop/Lab/result/lammps/Si/sputtering/sw/atom6750/result/0deg_1000eV/'\n",
    "path2target = '/Users/y1u0d2/desktop/Lab/result/lammps/Si/sputtering/ml/model_19/0deg_1000eV'"
   ]
  },
  {
   "cell_type": "code",
   "execution_count": 4,
   "metadata": {
    "pycharm": {
     "name": "#%%\n"
    }
   },
   "outputs": [],
   "source": [
    "with open(os.path.join(path2target, 'etch.dat'), mode='r') as f:\n",
    "    lines = [s.strip() for s in f.readlines()]"
   ]
  },
  {
   "cell_type": "code",
   "execution_count": 5,
   "metadata": {
    "pycharm": {
     "name": "#%%\n"
    }
   },
   "outputs": [],
   "source": [
    "idx_list = []\n",
    "for i, l in enumerate(lines):\n",
    "    if 'ITEM: TIMESTEP' in l:\n",
    "        idx_list.append(i)\n",
    "\n",
    "idx_list_shift = idx_list[1:]\n",
    "idx_list_shift.append(len(lines))"
   ]
  },
  {
   "cell_type": "code",
   "execution_count": 6,
   "metadata": {
    "pycharm": {
     "name": "#%%\n"
    }
   },
   "outputs": [],
   "source": [
    "block = []\n",
    "for idx1, idx2 in zip(idx_list, idx_list_shift):\n",
    "    block.append(lines[idx1:idx2])"
   ]
  },
  {
   "cell_type": "code",
   "execution_count": 7,
   "metadata": {
    "pycharm": {
     "name": "#%%\n"
    }
   },
   "outputs": [],
   "source": [
    "result = []\n",
    "\n",
    "timestep_idx = 1\n",
    "num_sputter_atom_idx = 3\n",
    "for b in block:\n",
    "    timestep = int(b[timestep_idx])\n",
    "    num_sputter_atom = int(b[num_sputter_atom_idx])\n",
    "    result.append(np.array([timestep, num_sputter_atom]))\n",
    "\n",
    "result = np.array(result)"
   ]
  },
  {
   "cell_type": "code",
   "execution_count": 8,
   "metadata": {
    "pycharm": {
     "name": "#%%\n"
    }
   },
   "outputs": [],
   "source": [
    "total_num_sputter_atom = result[:,1].sum()"
   ]
  },
  {
   "cell_type": "code",
   "execution_count": 9,
   "metadata": {
    "pycharm": {
     "name": "#%%\n"
    }
   },
   "outputs": [],
   "source": [
    "insert_atom_every = 20000\n",
    "last_timestep = int(block[-1][timestep_idx])\n",
    "def get_num_insert_atom(insert_atom_every, last_timestep):\n",
    "    return last_timestep // insert_atom_every"
   ]
  },
  {
   "cell_type": "code",
   "execution_count": 10,
   "metadata": {
    "pycharm": {
     "name": "#%%\n"
    }
   },
   "outputs": [],
   "source": [
    "total_num_insert_atom = get_num_insert_atom(insert_atom_every, last_timestep)"
   ]
  },
  {
   "cell_type": "code",
   "execution_count": 11,
   "metadata": {
    "pycharm": {
     "name": "#%%\n"
    }
   },
   "outputs": [],
   "source": [
    "sp_yield = total_num_sputter_atom / total_num_insert_atom\n",
    "sp_yield_depo = (total_num_sputter_atom - total_num_insert_atom) / total_num_insert_atom"
   ]
  },
  {
   "cell_type": "code",
   "execution_count": 12,
   "metadata": {
    "pycharm": {
     "name": "#%%\n"
    }
   },
   "outputs": [
    {
     "name": "stdout",
     "output_type": "stream",
     "text": [
      "total number of injected atoms: 1378\n",
      "total number of sputtered atoms: 742\n",
      "sputtering yield: 0.5384615384615384\n",
      "sputtering yield considering deposition: -0.46153846153846156\n"
     ]
    }
   ],
   "source": [
    "print(f'total number of injected atoms: {total_num_insert_atom}')\n",
    "print(f'total number of sputtered atoms: {total_num_sputter_atom}')\n",
    "print(f'sputtering yield: {sp_yield}')\n",
    "print(f'sputtering yield considering deposition: {sp_yield_depo}')"
   ]
  },
  {
   "cell_type": "code",
   "execution_count": 13,
   "metadata": {
    "pycharm": {
     "name": "#%%\n"
    }
   },
   "outputs": [
    {
     "data": {
      "text/plain": [
       "<matplotlib.collections.PathCollection at 0x13179cb90>"
      ]
     },
     "execution_count": 13,
     "metadata": {},
     "output_type": "execute_result"
    },
    {
     "data": {
      "image/png": "[encoded data removed]",
      "text/plain": [
       "<Figure size 1000x1000 with 1 Axes>"
      ]
     },
     "metadata": {},
     "output_type": "display_data"
    }
   ],
   "source": [
    "fig = plt.figure(figsize=(10,10))\n",
    "ax = plt.subplot()\n",
    "\n",
    "df = pd.DataFrame(data=result, columns=['timestep', 'sy'])\n",
    "ax.scatter(df['timestep'], df['sy'])\n",
    "# ax.set_ylim(0, 20)"
   ]
  },
  {
   "cell_type": "code",
   "execution_count": 14,
   "metadata": {
    "collapsed": false,
    "pycharm": {
     "name": "#%%\n"
    }
   },
   "outputs": [],
   "source": [
    "upper_n_injected_atom = 750\n",
    "\n",
    "df_filtered = df.loc[df['timestep'] <= upper_n_injected_atom * insert_atom_every]"
   ]
  },
  {
   "cell_type": "code",
   "execution_count": null,
   "metadata": {},
   "outputs": [],
   "source": []
  },
  {
   "cell_type": "code",
   "execution_count": 15,
   "metadata": {
    "collapsed": false,
    "pycharm": {
     "name": "#%%\n"
    }
   },
   "outputs": [],
   "source": [
    "total_n_sputtered_atom = df_filtered['sy'].sum()\n",
    "total_n_injected_atom = df_filtered['timestep'].values[-1] / insert_atom_every\n",
    "sputtering_yield = total_n_sputtered_atom / total_n_injected_atom\n",
    "sputtering_yield_depo = (total_n_sputtered_atom - total_n_injected_atom) / total_n_injected_atom"
   ]
  },
  {
   "cell_type": "code",
   "execution_count": 16,
   "metadata": {
    "collapsed": false,
    "pycharm": {
     "name": "#%%\n"
    }
   },
   "outputs": [
    {
     "name": "stdout",
     "output_type": "stream",
     "text": [
      "total number of injected atoms: 750.0\n",
      "total number of sputtered atoms: 381\n",
      "sputtering yield: 0.508\n",
      "sputtering yield considering deposition: -0.492\n"
     ]
    }
   ],
   "source": [
    "print(f'total number of injected atoms: {total_n_injected_atom}')\n",
    "print(f'total number of sputtered atoms: {total_n_sputtered_atom}')\n",
    "print(f'sputtering yield: {sputtering_yield}')\n",
    "print(f'sputtering yield considering deposition: {sputtering_yield_depo}')"
   ]
  },
  {
   "cell_type": "code",
   "execution_count": null,
   "metadata": {},
   "outputs": [],
   "source": []
  },
  {
   "cell_type": "code",
   "execution_count": null,
   "metadata": {},
   "outputs": [],
   "source": []
  },
  {
   "cell_type": "code",
   "execution_count": null,
   "metadata": {},
   "outputs": [],
   "source": []
  },
  {
   "cell_type": "markdown",
   "metadata": {},
   "source": []
  },
  {
   "cell_type": "code",
   "execution_count": 17,
   "metadata": {
    "collapsed": false,
    "pycharm": {
     "name": "#%%\n"
    }
   },
   "outputs": [],
   "source": [
    "# import os\n",
    "# import shutil\n",
    "\n",
    "\n",
    "# path2root = '/home/y1u0d2/result/lammps/sputtering/Si/tersoff/atom6750'\n",
    "# path2template = '/home/y1u0d2/result/lammps/sputtering/Si/tersoff/atom6750/template'\n",
    "\n",
    "# energy_range = [10, 50, 100, 200, 500, 750, 1000]\n",
    "\n",
    "# def get_inject_energy(path2target):\n",
    "#     with open(path2target, mode='r') as f:\n",
    "#         lines = [s.strip() for s in f.readlines()]\n",
    "#         for line in lines:\n",
    "#             if 'enrg' in line:\n",
    "#                 print(line)\n",
    "#                 break\n",
    "#     return\n",
    "\n",
    "# for energy in energy_range:\n",
    "#     path2target = os.path.join(path2root, f'0deg_{energy}eV')\n",
    "#     if os.path.exists(path2target):\n",
    "#         print(path2target)\n",
    "#         get_inject_energy(os.path.join(path2target, 'in.tersoff'))"
   ]
  },
  {
   "cell_type": "code",
   "execution_count": null,
   "metadata": {
    "collapsed": false,
    "pycharm": {
     "name": "#%%\n"
    }
   },
   "outputs": [],
   "source": []
  },
  {
   "cell_type": "code",
   "execution_count": null,
   "metadata": {},
   "outputs": [],
   "source": []
  },
  {
   "cell_type": "code",
   "execution_count": null,
   "metadata": {},
   "outputs": [],
   "source": []
  },
  {
   "cell_type": "code",
   "execution_count": null,
   "metadata": {},
   "outputs": [],
   "source": []
  }
 ],
 "metadata": {
  "kernelspec": {
   "display_name": "Python 3.10.6 ('ml')",
   "language": "python",
   "name": "python3"
  },
  "language_info": {
   "codemirror_mode": {
    "name": "ipython",
    "version": 3
   },
   "file_extension": ".py",
   "mimetype": "text/x-python",
   "name": "python",
   "nbconvert_exporter": "python",
   "pygments_lexer": "ipython3",
   "version": "3.11.0"
  },
  "orig_nbformat": 4,
  "vscode": {
   "interpreter": {
    "hash": "523738ac47dcf7681d48eb184ac702eac622ded297e68c9c931bbc5de5caff01"
   }
  }
 },
 "nbformat": 4,
 "nbformat_minor": 2
}
