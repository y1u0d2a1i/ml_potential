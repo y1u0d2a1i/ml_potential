{
 "cells": [
  {
   "cell_type": "code",
   "execution_count": 9,
   "metadata": {},
   "outputs": [],
   "source": [
    "import numpy as np\n",
    "import pandas as pd\n",
    "import matplotlib.pyplot as plt\n",
    "\n",
    "import ovito\n",
    "from ovito.io import import_file\n",
    "import ovito.vis as ovito_vis"
   ]
  },
  {
   "cell_type": "code",
   "execution_count": 6,
   "metadata": {},
   "outputs": [],
   "source": [
    "path2dump = '/Users/y1u0d2/desktop/Lab/result/lammps/Si/sputtering/ml/atom6750/model_18/0deg_200eV'\n",
    "pipeline = import_file(f\"{path2dump}/dump.lammpstrj\")"
   ]
  },
  {
   "cell_type": "code",
   "execution_count": 7,
   "metadata": {},
   "outputs": [
    {
     "ename": "AttributeError",
     "evalue": "'ovito.vis.Viewport' object has no attribute 'background_color'",
     "output_type": "error",
     "traceback": [
      "\u001b[0;31m---------------------------------------------------------------------------\u001b[0m",
      "\u001b[0;31mAttributeError\u001b[0m                            Traceback (most recent call last)",
      "Cell \u001b[0;32mIn[7], line 5\u001b[0m\n\u001b[1;32m      3\u001b[0m vp\u001b[39m.\u001b[39mcamera_pos \u001b[39m=\u001b[39m (\u001b[39m0\u001b[39m, \u001b[39m0\u001b[39m, \u001b[39m0\u001b[39m)\n\u001b[1;32m      4\u001b[0m vp\u001b[39m.\u001b[39mcamera_dir \u001b[39m=\u001b[39m (\u001b[39m0\u001b[39m, \u001b[39m0\u001b[39m, \u001b[39m1\u001b[39m)\n\u001b[0;32m----> 5\u001b[0m vp\u001b[39m.\u001b[39;49mbackground_color \u001b[39m=\u001b[39m (\u001b[39m1\u001b[39m, \u001b[39m1\u001b[39m, \u001b[39m1\u001b[39m)\n\u001b[1;32m      6\u001b[0m vp\u001b[39m.\u001b[39mrender_image(\u001b[39m'\u001b[39m\u001b[39mframe_000000.png\u001b[39m\u001b[39m'\u001b[39m, size\u001b[39m=\u001b[39m(\u001b[39m800\u001b[39m, \u001b[39m600\u001b[39m), transparent_background\u001b[39m=\u001b[39m\u001b[39mTrue\u001b[39;00m)\n",
      "\u001b[0;31mAttributeError\u001b[0m: 'ovito.vis.Viewport' object has no attribute 'background_color'"
     ]
    }
   ],
   "source": [
    "vp = ovito_vis.Viewport()\n",
    "vp.type = ovito_vis.Viewport.Type.ORTHO\n",
    "vp.camera_pos = (0, 0, 0)\n",
    "vp.camera_dir = (0, 0, 1)\n",
    "vp.background_color = (1, 1, 1)\n",
    "vp.render_image('frame_000000.png', size=(800, 600), transparent_background=True)"
   ]
  },
  {
   "cell_type": "code",
   "execution_count": 12,
   "metadata": {},
   "outputs": [
    {
     "ename": "AttributeError",
     "evalue": "module 'ovito.vis' has no attribute 'RenderSettings'",
     "output_type": "error",
     "traceback": [
      "\u001b[0;31m---------------------------------------------------------------------------\u001b[0m",
      "\u001b[0;31mAttributeError\u001b[0m                            Traceback (most recent call last)",
      "Cell \u001b[0;32mIn[12], line 1\u001b[0m\n\u001b[0;32m----> 1\u001b[0m settings \u001b[39m=\u001b[39m ovito_vis\u001b[39m.\u001b[39;49mRenderSettings(\n\u001b[1;32m      2\u001b[0m     filename_pattern\u001b[39m=\u001b[39m\u001b[39m'\u001b[39m\u001b[39mframe_\u001b[39m\u001b[39m{:06d}\u001b[39;00m\u001b[39m.png\u001b[39m\u001b[39m'\u001b[39m,\n\u001b[1;32m      3\u001b[0m     size\u001b[39m=\u001b[39m(\u001b[39m800\u001b[39m, \u001b[39m600\u001b[39m),\n\u001b[1;32m      4\u001b[0m     renderer_type\u001b[39m=\u001b[39movito_vis\u001b[39m.\u001b[39mRendererType\u001b[39m.\u001b[39mTachyon,\n\u001b[1;32m      5\u001b[0m     fps\u001b[39m=\u001b[39m\u001b[39m25\u001b[39m,\n\u001b[1;32m      6\u001b[0m     range_padding\u001b[39m=\u001b[39m\u001b[39m0.5\u001b[39m,\n\u001b[1;32m      7\u001b[0m     particle_radius\u001b[39m=\u001b[39m\u001b[39m0.5\u001b[39m,\n\u001b[1;32m      8\u001b[0m     color_map\u001b[39m=\u001b[39movito_vis\u001b[39m.\u001b[39mColorMap(name\u001b[39m=\u001b[39m\u001b[39m'\u001b[39m\u001b[39mGray\u001b[39m\u001b[39m'\u001b[39m, \u001b[39mmin\u001b[39m\u001b[39m=\u001b[39m\u001b[39m0\u001b[39m, \u001b[39mmax\u001b[39m\u001b[39m=\u001b[39m\u001b[39m1\u001b[39m),\n\u001b[1;32m      9\u001b[0m     show_axes\u001b[39m=\u001b[39m\u001b[39mFalse\u001b[39;00m,\n\u001b[1;32m     10\u001b[0m     show_bounds\u001b[39m=\u001b[39m\u001b[39mTrue\u001b[39;00m,\n\u001b[1;32m     11\u001b[0m     ortho_unit_cell\u001b[39m=\u001b[39m\u001b[39mTrue\u001b[39;00m,\n\u001b[1;32m     12\u001b[0m     background_color\u001b[39m=\u001b[39m(\u001b[39m1\u001b[39m, \u001b[39m1\u001b[39m, \u001b[39m1\u001b[39m)\n\u001b[1;32m     13\u001b[0m )\n",
      "\u001b[0;31mAttributeError\u001b[0m: module 'ovito.vis' has no attribute 'RenderSettings'"
     ]
    }
   ],
   "source": [
    "settings = ovito_vis.RenderSettings(\n",
    "    filename_pattern='frame_{:06d}.png',\n",
    "    size=(800, 600),\n",
    "    renderer_type=ovito_vis.RendererType.Tachyon,\n",
    "    fps=25,\n",
    "    range_padding=0.5,\n",
    "    particle_radius=0.5,\n",
    "    color_map=ovito_vis.ColorMap(name='Gray', min=0, max=1),\n",
    "    show_axes=False,\n",
    "    show_bounds=True,\n",
    "    ortho_unit_cell=True,\n",
    "    background_color=(1, 1, 1)\n",
    ")"
   ]
  },
  {
   "cell_type": "code",
   "execution_count": null,
   "metadata": {},
   "outputs": [],
   "source": []
  }
 ],
 "metadata": {
  "kernelspec": {
   "display_name": "mlp",
   "language": "python",
   "name": "python3"
  },
  "language_info": {
   "codemirror_mode": {
    "name": "ipython",
    "version": 3
   },
   "file_extension": ".py",
   "mimetype": "text/x-python",
   "name": "python",
   "nbconvert_exporter": "python",
   "pygments_lexer": "ipython3",
   "version": "3.11.0"
  },
  "orig_nbformat": 4
 },
 "nbformat": 4,
 "nbformat_minor": 2
}
