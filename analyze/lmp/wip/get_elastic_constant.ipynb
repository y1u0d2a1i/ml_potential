{
 "cells": [
  {
   "cell_type": "code",
   "execution_count": 1,
   "metadata": {
    "collapsed": true,
    "pycharm": {
     "name": "#%%\n"
    }
   },
   "outputs": [],
   "source": [
    "import numpy as np\n",
    "import pandas as pd"
   ]
  },
  {
   "cell_type": "code",
   "execution_count": 2,
   "metadata": {
    "collapsed": false,
    "pycharm": {
     "name": "#%%\n"
    }
   },
   "outputs": [],
   "source": [
    "C11 = 165.64\n",
    "C12 = 63.94\n",
    "C44 = 79.51\n",
    "et = np.array(\n",
    "    [\n",
    "        [C11, C12, C12, 0, 0, 0],\n",
    "        [C12, C11, C12, 0, 0, 0],\n",
    "        [C12, C12, C11, 0, 0, 0],\n",
    "        [0, 0, 0, C44, 0, 0],\n",
    "        [0, 0, 0, 0, C44, 0],\n",
    "        [0, 0, 0, 0, 0, C44],\n",
    "    ]\n",
    ")\n",
    "c11_cubic = (et[0,0] + et[1,1] + et[2,2]) / 3\n",
    "c12_cubic = (et[0,1] + et[1,2] + et[2,0]) / 3\n",
    "c44_cubic = (et[3,3] + et[4,4] + et[5,5]) / 3\n",
    "H = 2 * C44 + C12 - C11"
   ]
  },
  {
   "cell_type": "code",
   "execution_count": 3,
   "metadata": {
    "collapsed": false,
    "pycharm": {
     "name": "#%%\n"
    }
   },
   "outputs": [],
   "source": [
    "# lammps\n",
    "bulk_modulus = (c11_cubic + 2 * c12_cubic) / 3\n",
    "shear_modulus1 = c44_cubic\n",
    "shear_modulus2 = (c11_cubic - c12_cubic) / 2\n",
    "shear_modulus = C44 - (1/5) * H\n",
    "poisson_ratio = 1 / (1 + c11_cubic / c12_cubic)"
   ]
  },
  {
   "cell_type": "code",
   "execution_count": 4,
   "metadata": {
    "collapsed": false,
    "pycharm": {
     "name": "#%%\n"
    }
   },
   "outputs": [
    {
     "name": "stdout",
     "output_type": "stream",
     "text": [
      "bulk_modulus: 97.83999999999999\n",
      "shear_modulus1: 79.51\n",
      "shear_modulus2: 50.849999999999994\n",
      "shear_modulus: 68.04599999999999\n",
      "poisson_ratio: 0.27850858088683683\n"
     ]
    }
   ],
   "source": [
    "print(f'bulk_modulus: {bulk_modulus}')\n",
    "print(f'shear_modulus1: {shear_modulus1}')\n",
    "print(f'shear_modulus2: {shear_modulus2}')\n",
    "print(f'shear_modulus: {shear_modulus}')\n",
    "print(f'poisson_ratio: {poisson_ratio}')"
   ]
  },
  {
   "cell_type": "code",
   "execution_count": 5,
   "metadata": {
    "collapsed": false,
    "pycharm": {
     "name": "#%%\n"
    }
   },
   "outputs": [],
   "source": [
    "bulk_modulus = (c11_cubic + 2 * c12_cubic) / 3\n",
    "shear_modulus = ((et[0,0] + et[1,1] + et[2,2]) - (et[0,1] + et[1,2] + et[2,0]) + 3 * (et[3,3] + et[4,4] + et[5,5])) / 15"
   ]
  },
  {
   "cell_type": "code",
   "execution_count": 6,
   "metadata": {
    "collapsed": false,
    "pycharm": {
     "name": "#%%\n"
    }
   },
   "outputs": [
    {
     "name": "stdout",
     "output_type": "stream",
     "text": [
      "bulk_modulus: 97.83999999999999\n",
      "shear_modulus: 68.046\n"
     ]
    }
   ],
   "source": [
    "print(f'bulk_modulus: {bulk_modulus}')\n",
    "print(f'shear_modulus: {shear_modulus}')"
   ]
  },
  {
   "cell_type": "code",
   "execution_count": 7,
   "metadata": {
    "collapsed": false,
    "pycharm": {
     "name": "#%%\n"
    }
   },
   "outputs": [
    {
     "data": {
      "text/plain": [
       "79.51"
      ]
     },
     "execution_count": 7,
     "metadata": {},
     "output_type": "execute_result"
    }
   ],
   "source": [
    "c44_cubic"
   ]
  },
  {
   "cell_type": "code",
   "execution_count": 8,
   "metadata": {
    "collapsed": false,
    "pycharm": {
     "name": "#%%\n"
    }
   },
   "outputs": [],
   "source": [
    "# class ElasticTensor:\n",
    "#     def __init__(self, C11, C12, C44):\n",
    "#         self.C11 = C11\n",
    "#         self.C12 = C12\n",
    "#         self.C44 = C44\n",
    "#\n",
    "#     def get_elastic_tensor(self):\n",
    "#         et = np.array(\n",
    "#                 [\n",
    "#                     [self.C11, self.C12, self.C12, 0, 0, 0],\n",
    "#                     [self.C12, self.C11, self.C12, 0, 0, 0],\n",
    "#                     [self.C12, self.C12, self.C11, 0, 0, 0],\n",
    "#                     [0, 0, 0, self.C44, 0, 0],\n",
    "#                     [0, 0, 0, 0, self.C44, 0],\n",
    "#                     [0, 0, 0, 0, 0, self.C44],\n",
    "#                 ]\n",
    "#             )\n",
    "#         return et\n",
    "#\n",
    "#\n",
    "# class MechanicalProp:\n",
    "#     def __init__(self, et: np.array):\n",
    "#         \"\"\"\n",
    "#         Args:\n",
    "#             et: elastic tensor\n",
    "#         \"\"\"\n",
    "#         self.et = et\n",
    "#         self.c11_cubic = (self.et[0,0] + self.et[1,1] + self.et[2,2]) / 3\n",
    "#         self.c12_cubic = (self.et[0,1] + self.et[1,2] + self.et[2,0]) / 3\n",
    "#         self.c44_cubic = (self.et[3,3] + self.et[4,4] + self.et[5,5]) / 3\n",
    "#         pass\n",
    "#\n",
    "#     def get_bulk_modulus(self):\n",
    "#         bulk_modulus = (self.c11_cubic + 2 * self.c12_cubic) / 3\n",
    "#         return bulk_modulus\n",
    "#\n",
    "#     def get_shear_modulus(self, type: str):\n",
    "#         if type == 'lmp1':\n",
    "#             return self.c44_cubic\n",
    "#         elif type == 'lmp2':\n",
    "#             return (self.c11_cubic - self.c12_cubic) / 2\n",
    "#         elif type == 'mp':\n",
    "#             return (self.c11_cubic - self.c12_cubic + 3 * self.c44_cubic) / 5\n",
    "#         else:\n",
    "#             raise Exception('invalid type')\n",
    "#\n",
    "#     def get_poisson_ratio(self):\n",
    "#         poisson_ratio = 1 / (1 + self.c11_cubic / self.c12_cubic)\n",
    "#         return poisson_ratio"
   ]
  },
  {
   "cell_type": "code",
   "execution_count": 10,
   "metadata": {
    "collapsed": false,
    "pycharm": {
     "name": "#%%\n"
    }
   },
   "outputs": [
    {
     "name": "stdout",
     "output_type": "stream",
     "text": [
      "bulk_modulus: 101.42288261327593\n",
      "shear_modulus1: 56.4493368527217\n",
      "shear_modulus2: 37.50119748625955\n",
      "shear_modulus: 48.870081106136844\n",
      "poisson_ratio: 0.33541030023956997\n"
     ]
    }
   ],
   "source": [
    "from analyze.lmp.get_mechanical_prop import ElasticTensor, MechanicalProp\n",
    "\n",
    "C11 = 151.424479261622\n",
    "C12 = 76.4220842891029\n",
    "C44 = 56.4493368527217\n",
    "\n",
    "et = ElasticTensor(C11=C11, C12=C12, C44=C44)\n",
    "et = et.get_elastic_tensor()\n",
    "\n",
    "obj = MechanicalProp(et)\n",
    "\n",
    "print(f'bulk_modulus: {obj.get_bulk_modulus()}')\n",
    "print(f'shear_modulus1: {obj.get_shear_modulus(\"lmp1\")}')\n",
    "print(f'shear_modulus2: {obj.get_shear_modulus(\"lmp2\")}')\n",
    "print(f'shear_modulus: {obj.get_shear_modulus(\"mp\")}')\n",
    "print(f'poisson_ratio: {obj.get_poisson_ratio()}')"
   ]
  },
  {
   "cell_type": "code",
   "execution_count": 9,
   "metadata": {
    "collapsed": false,
    "pycharm": {
     "name": "#%%\n"
    }
   },
   "outputs": [],
   "source": []
  }
 ],
 "metadata": {
  "kernelspec": {
   "display_name": "Python 3.10.4 ('ml')",
   "language": "python",
   "name": "python3"
  },
  "language_info": {
   "codemirror_mode": {
    "name": "ipython",
    "version": 2
   },
   "file_extension": ".py",
   "mimetype": "text/x-python",
   "name": "python",
   "nbconvert_exporter": "python",
   "pygments_lexer": "ipython2",
   "version": "3.10.4"
  },
  "vscode": {
   "interpreter": {
    "hash": "523738ac47dcf7681d48eb184ac702eac622ded297e68c9c931bbc5de5caff01"
   }
  }
 },
 "nbformat": 4,
 "nbformat_minor": 0
}
