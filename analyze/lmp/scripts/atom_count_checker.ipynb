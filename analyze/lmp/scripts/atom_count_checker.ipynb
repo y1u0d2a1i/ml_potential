{
 "cells": [
  {
   "attachments": {},
   "cell_type": "markdown",
   "metadata": {},
   "source": [
    "### スパッタリングシミュレーションで原子が基盤の下から抜けていないか確認するスクリプト"
   ]
  },
  {
   "cell_type": "code",
   "execution_count": 18,
   "metadata": {},
   "outputs": [],
   "source": [
    "import numpy as np\n",
    "import pandas as pd\n",
    "import matplotlib.pyplot as plt\n",
    "\n",
    "import os"
   ]
  },
  {
   "cell_type": "code",
   "execution_count": 19,
   "metadata": {},
   "outputs": [],
   "source": [
    "path2target = \"/home/k0472/k047207/result/lammps/Si/sputtering/ml/depth15/model18/0deg_1000eV\""
   ]
  },
  {
   "cell_type": "code",
   "execution_count": 20,
   "metadata": {},
   "outputs": [],
   "source": [
    "def get_num_sputtered_injected_atoms(path2target, insert_atom_every=20000):\n",
    "    with open(os.path.join(path2target, 'etch.dat'), mode='r') as f:\n",
    "        lines = [s.strip() for s in f.readlines()]\n",
    "    idx_list = []\n",
    "    for i, l in enumerate(lines):\n",
    "        if 'ITEM: TIMESTEP' in l:\n",
    "            idx_list.append(i)\n",
    "\n",
    "    idx_list_shift = idx_list[1:]\n",
    "    idx_list_shift.append(len(lines))\n",
    "    block = []\n",
    "    for idx1, idx2 in zip(idx_list, idx_list_shift):\n",
    "        block.append(lines[idx1:idx2])\n",
    "\n",
    "    result = []\n",
    "    timestep_idx = 1\n",
    "    num_sputter_atom_idx = 3\n",
    "    for b in block:\n",
    "        timestep = int(b[timestep_idx])\n",
    "        num_sputter_atom = int(b[num_sputter_atom_idx])\n",
    "        result.append(np.array([timestep, num_sputter_atom]))\n",
    "    result = np.array(result)\n",
    "\n",
    "    total_num_sputter_atom = result[:,1].sum()\n",
    "    last_timestep = int(block[-1][timestep_idx])\n",
    "    def get_num_insert_atom(insert_atom_every, last_timestep):\n",
    "        return last_timestep // insert_atom_every\n",
    "    \n",
    "    total_num_insert_atom = get_num_insert_atom(insert_atom_every, last_timestep)\n",
    "\n",
    "    return total_num_sputter_atom, total_num_insert_atom"
   ]
  },
  {
   "cell_type": "code",
   "execution_count": 21,
   "metadata": {},
   "outputs": [],
   "source": [
    "total_num_sputter_atom, total_num_insert_atom = get_num_sputtered_injected_atoms(path2target)"
   ]
  },
  {
   "cell_type": "code",
   "execution_count": 22,
   "metadata": {},
   "outputs": [
    {
     "name": "stdout",
     "output_type": "stream",
     "text": [
      "total_num_sputter_atom:  713\n",
      "total_num_insert_atom:  1000\n"
     ]
    }
   ],
   "source": [
    "print(\"total_num_sputter_atom: \", total_num_sputter_atom)\n",
    "print(\"total_num_insert_atom: \", total_num_insert_atom)"
   ]
  },
  {
   "cell_type": "code",
   "execution_count": 23,
   "metadata": {},
   "outputs": [],
   "source": [
    "with open(os.path.join(path2target, 'log.lammps'), mode='r') as f:\n",
    "    lines = [s.strip() for s in f.readlines()]\n",
    "num_atom_list = list(filter(lambda s: 'Loop time' in s, lines))\n",
    "\n",
    "init_num_atom = int(num_atom_list[0].split(' ')[-2])\n",
    "final_num_atom = int(num_atom_list[-1].split(' ')[-2])\n",
    "final_num_atom_expected = init_num_atom - total_num_sputter_atom + total_num_insert_atom"
   ]
  },
  {
   "cell_type": "code",
   "execution_count": 24,
   "metadata": {},
   "outputs": [
    {
     "name": "stdout",
     "output_type": "stream",
     "text": [
      "初期構造の原子数:  11250\n",
      "注入原子数 1000\n",
      "スパッタした原子数 713\n",
      "想定される最終構造の原子数:  11537\n",
      "最終構造の原子数:  11535\n",
      "-> 2原子が突き抜けている\n"
     ]
    }
   ],
   "source": [
    "print(\"初期構造の原子数: \", init_num_atom)\n",
    "print(\"注入原子数\", total_num_insert_atom)\n",
    "print(\"スパッタした原子数\", total_num_sputter_atom)\n",
    "\n",
    "print(\"想定される最終構造の原子数: \", final_num_atom_expected)\n",
    "print(\"最終構造の原子数: \", final_num_atom)\n",
    "if final_num_atom_expected == final_num_atom:\n",
    "    print(\"-> 原子は突き抜けていない\")\n",
    "else:\n",
    "    num_passed_atom = final_num_atom_expected - final_num_atom\n",
    "    print(f\"-> {num_passed_atom}原子が突き抜けている\")"
   ]
  },
  {
   "cell_type": "code",
   "execution_count": null,
   "metadata": {},
   "outputs": [],
   "source": []
  },
  {
   "cell_type": "code",
   "execution_count": 25,
   "metadata": {},
   "outputs": [],
   "source": [
    "num_atom_list = list(filter(lambda s: 'Loop time' in s, lines))\n",
    "init_num_atom = int(num_atom_list[0].split(' ')[-2])\n",
    "final_num_atom = int(num_atom_list[-1].split(' ')[-2])"
   ]
  },
  {
   "cell_type": "code",
   "execution_count": 26,
   "metadata": {},
   "outputs": [
    {
     "data": {
      "text/plain": [
       "11250"
      ]
     },
     "execution_count": 26,
     "metadata": {},
     "output_type": "execute_result"
    }
   ],
   "source": [
    "init_num_atom"
   ]
  },
  {
   "cell_type": "code",
   "execution_count": null,
   "metadata": {},
   "outputs": [],
   "source": []
  }
 ],
 "metadata": {
  "kernelspec": {
   "display_name": "ml",
   "language": "python",
   "name": "python3"
  },
  "language_info": {
   "codemirror_mode": {
    "name": "ipython",
    "version": 3
   },
   "file_extension": ".py",
   "mimetype": "text/x-python",
   "name": "python",
   "nbconvert_exporter": "python",
   "pygments_lexer": "ipython3",
   "version": "3.10.4"
  },
  "orig_nbformat": 4
 },
 "nbformat": 4,
 "nbformat_minor": 2
}
