{
 "cells": [
  {
   "cell_type": "code",
   "execution_count": 57,
   "metadata": {},
   "outputs": [],
   "source": [
    "# %matplotlib nbagg\n",
    "import numpy as np\n",
    "import pandas as pd\n",
    "import matplotlib.pyplot as plt\n",
    "import matplotlib.animation as animation\n",
    "import seaborn as sns\n",
    "from glob import glob\n",
    "\n",
    "from ase.io import lammpsdata, read\n",
    "import os\n",
    "\n",
    "from analyze.lmp.get_depth_profile import get_depth_profile, get_z_position_from_single_dump\n",
    "\n",
    "x_width = round(5.43 * 7.5, 2)\n",
    "y_width = round(5.43 * 7.5, 2)\n",
    "z_width = round(5.43 * 15.0, 2)\n",
    "upper_limit = 5.43 * 17.5\n",
    "\n",
    "\n",
    "# ni_lattice_constant = 2.316\n",
    "# x_width = round(ni_lattice_constant * 15, 2)\n",
    "# y_width = round(ni_lattice_constant * 15, 2)\n",
    "# z_width = round(ni_lattice_constant * 30, 2)\n",
    "# upper_limit = ni_lattice_constant * 35.0"
   ]
  },
  {
   "cell_type": "code",
   "execution_count": 58,
   "metadata": {},
   "outputs": [
    {
     "name": "stdout",
     "output_type": "stream",
     "text": [
      "1000\n"
     ]
    }
   ],
   "source": [
    "path2data = '/home/k0472/k047207/result/lammps/Si/sputtering/ml/model_18/0deg_3000eV'\n",
    "# path2data = '/Users/y1u0d2/desktop/Lab/result/lammps/Ni/Ni_self'\n",
    "pathes = glob(f'{path2data}/data.Si.*')\n",
    "pathes.sort()\n",
    "print(len(pathes))"
   ]
  },
  {
   "cell_type": "code",
   "execution_count": 59,
   "metadata": {},
   "outputs": [],
   "source": [
    "# create img dir\n",
    "path2imgs = f'{path2data}/img'\n",
    "if not os.path.exists(path2imgs):\n",
    "    os.makedirs(path2imgs)"
   ]
  },
  {
   "cell_type": "code",
   "execution_count": 60,
   "metadata": {},
   "outputs": [],
   "source": [
    "init_df = get_depth_profile(get_z_position_from_single_dump(pathes[0]), x_width=x_width, y_width=y_width, z_width=z_width)\n",
    "\n",
    "plt.ioff()\n",
    "for i, path in enumerate(pathes):\n",
    "    fig = plt.figure(figsize=(8,6))\n",
    "    ax = fig.add_subplot(111)\n",
    "\n",
    "    ax.set_xlabel('Density(cm^-3)')\n",
    "    ax.set_ylabel('Depth(ang)')\n",
    "    ax.set_ylim(-z_width, 10)\n",
    "    ax.set_xlim(0, 6.0e+23)\n",
    "\n",
    "    ax.plot(init_df['ma'], init_df['linspace'],  label='initial structure')\n",
    "\n",
    "    df = get_depth_profile(get_z_position_from_single_dump(path), x_width=x_width, y_width=y_width, z_width=z_width)\n",
    "    ax.plot(df['ma'], df['linspace'], label=f'after {i} injection')\n",
    "\n",
    "    # set legend place to left-bottom\n",
    "    ax.legend(loc='lower left')\n",
    "\n",
    "    fig.savefig(f'{path2imgs}/depth_{str(i).zfill(4)}.png')\n",
    "    plt.close(fig)"
   ]
  },
  {
   "cell_type": "code",
   "execution_count": 61,
   "metadata": {},
   "outputs": [
    {
     "name": "stderr",
     "output_type": "stream",
     "text": [
      "/tmp/ipykernel_85686/1634452068.py:6: DeprecationWarning: Starting with ImageIO v3 the behavior of this function will switch to that of iio.v3.imread. To keep the current behavior (and make this warning disappear) use `import imageio.v2 as imageio` or call `imageio.v2.imread` directly.\n",
      "  images = [imageio.imread(img) for img in sorted(glob(f'{path2imgs}/depth_*.png'))]\n"
     ]
    }
   ],
   "source": [
    "# create gif from images\n",
    "\n",
    "import imageio\n",
    "import os\n",
    "\n",
    "images = [imageio.imread(img) for img in sorted(glob(f'{path2imgs}/depth_*.png'))]\n",
    "imageio.mimsave(f'{path2imgs}/depth_profile.gif', images, fps=10)"
   ]
  },
  {
   "cell_type": "code",
   "execution_count": 62,
   "metadata": {},
   "outputs": [],
   "source": [
    "# fig = plt.figure(figsize=(8,6))\n",
    "# ax = fig.add_subplot(111)\n",
    "\n",
    "# ax.set_title('Depth profile')\n",
    "# ax.set_xlabel('Density(cm^-3)')\n",
    "# ax.set_ylabel('Depth(ang)')\n",
    "# ax.set_ylim(-z_width, 10)\n",
    "\n",
    "# df = get_depth_profile(get_z_position_from_single_dump(pathes[0]), x_width=x_width, y_width=y_width, z_width=z_width)\n",
    "# ax.plot(df['ma'], df['linspace'],  label='initial structure')\n",
    "\n",
    "# df = get_depth_profile(get_z_position_from_single_dump(pathes[-1]), x_width=x_width, y_width=y_width, z_width=z_width)\n",
    "# ax.plot(df['ma'], df['linspace'])\n",
    "\n",
    "# ax.legend()"
   ]
  },
  {
   "cell_type": "code",
   "execution_count": null,
   "metadata": {},
   "outputs": [],
   "source": []
  },
  {
   "cell_type": "code",
   "execution_count": null,
   "metadata": {},
   "outputs": [],
   "source": []
  },
  {
   "cell_type": "code",
   "execution_count": null,
   "metadata": {},
   "outputs": [],
   "source": []
  },
  {
   "cell_type": "code",
   "execution_count": null,
   "metadata": {},
   "outputs": [],
   "source": []
  }
 ],
 "metadata": {
  "kernelspec": {
   "display_name": "Python 3.10.4 ('bq')",
   "language": "python",
   "name": "python3"
  },
  "language_info": {
   "codemirror_mode": {
    "name": "ipython",
    "version": 3
   },
   "file_extension": ".py",
   "mimetype": "text/x-python",
   "name": "python",
   "nbconvert_exporter": "python",
   "pygments_lexer": "ipython3",
   "version": "3.10.4"
  },
  "orig_nbformat": 4,
  "vscode": {
   "interpreter": {
    "hash": "afbdfdb411ea127d90d9590b51ffcad44ff5285b8a92d4a65a7f07728951d293"
   }
  }
 },
 "nbformat": 4,
 "nbformat_minor": 2
}
