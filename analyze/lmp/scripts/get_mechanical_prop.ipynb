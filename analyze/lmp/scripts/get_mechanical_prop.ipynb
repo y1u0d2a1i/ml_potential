{
 "cells": [
  {
   "cell_type": "code",
   "execution_count": 1,
   "metadata": {},
   "outputs": [
    {
     "name": "stdout",
     "output_type": "stream",
     "text": [
      "bulk_modulus: 83.33333333333333\n",
      "shear_modulus1: 75.0\n",
      "shear_modulus2: 45.5\n",
      "shear_modulus: 63.2\n",
      "poisson_ratio: 0.2690355329949239\n"
     ]
    }
   ],
   "source": [
    "from analyze.lmp.get_mechanical_prop import ElasticTensor, MechanicalProp\n",
    "\n",
    "C11 = 144\n",
    "C12 = 53\n",
    "C44 = 75\n",
    "\n",
    "et = ElasticTensor(C11=C11, C12=C12, C44=C44)\n",
    "et = et.get_elastic_tensor()\n",
    "\n",
    "obj = MechanicalProp(et)\n",
    "\n",
    "print(f'bulk_modulus: {obj.get_bulk_modulus()}')\n",
    "print(f'shear_modulus1: {obj.get_shear_modulus(\"lmp1\")}')\n",
    "print(f'shear_modulus2: {obj.get_shear_modulus(\"lmp2\")}')\n",
    "print(f'shear_modulus: {obj.get_shear_modulus(\"mp\")}')\n",
    "print(f'poisson_ratio: {obj.get_poisson_ratio()}')"
   ]
  },
  {
   "cell_type": "code",
   "execution_count": null,
   "metadata": {},
   "outputs": [],
   "source": []
  }
 ],
 "metadata": {
  "kernelspec": {
   "display_name": "Python 3.10.4 ('ml')",
   "language": "python",
   "name": "python3"
  },
  "language_info": {
   "codemirror_mode": {
    "name": "ipython",
    "version": 3
   },
   "file_extension": ".py",
   "mimetype": "text/x-python",
   "name": "python",
   "nbconvert_exporter": "python",
   "pygments_lexer": "ipython3",
   "version": "3.10.6"
  },
  "orig_nbformat": 4,
  "vscode": {
   "interpreter": {
    "hash": "523738ac47dcf7681d48eb184ac702eac622ded297e68c9c931bbc5de5caff01"
   }
  }
 },
 "nbformat": 4,
 "nbformat_minor": 2
}
