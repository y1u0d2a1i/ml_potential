{
 "cells": [
  {
   "cell_type": "code",
   "execution_count": 7,
   "metadata": {},
   "outputs": [],
   "source": [
    "import numpy as np\n",
    "import pandas as pd\n",
    "import matplotlib.pyplot as plt\n",
    "from glob import glob\n",
    "import os"
   ]
  },
  {
   "cell_type": "code",
   "execution_count": 8,
   "metadata": {},
   "outputs": [],
   "source": [
    "path2target = '/Users/y1u0d2/desktop/Lab/result/n2p2/Si/37/three/rc_6-np_7'"
   ]
  },
  {
   "cell_type": "code",
   "execution_count": 9,
   "metadata": {},
   "outputs": [],
   "source": [
    "from analyze.n2p2_lattice import N2p2Lattice, get_structures_for_n2p2_lattice\n",
    "\n",
    "structures = get_structures_for_n2p2_lattice(path2target, 'input.data')\n",
    "path_index_master = []\n",
    "for i ,structure in enumerate(structures):\n",
    "    n2p2_lattice = N2p2Lattice(structure)\n",
    "    path_index_master.append([i, n2p2_lattice.path, n2p2_lattice.mpid])"
   ]
  },
  {
   "cell_type": "code",
   "execution_count": 10,
   "metadata": {},
   "outputs": [],
   "source": [
    "master_df = pd.DataFrame(data=path_index_master, columns=['index', 'path', 'mpid'])"
   ]
  },
  {
   "cell_type": "code",
   "execution_count": 11,
   "metadata": {},
   "outputs": [
    {
     "data": {
      "text/html": [
       "<div>\n",
       "<style scoped>\n",
       "    .dataframe tbody tr th:only-of-type {\n",
       "        vertical-align: middle;\n",
       "    }\n",
       "\n",
       "    .dataframe tbody tr th {\n",
       "        vertical-align: top;\n",
       "    }\n",
       "\n",
       "    .dataframe thead th {\n",
       "        text-align: right;\n",
       "    }\n",
       "</style>\n",
       "<table border=\"1\" class=\"dataframe\">\n",
       "  <thead>\n",
       "    <tr style=\"text-align: right;\">\n",
       "      <th></th>\n",
       "      <th>index</th>\n",
       "      <th>path</th>\n",
       "      <th>mpid</th>\n",
       "    </tr>\n",
       "  </thead>\n",
       "  <tbody>\n",
       "    <tr>\n",
       "      <th>0</th>\n",
       "      <td>0</td>\n",
       "      <td>/Users/y1u0d2/desktop/Lab/data/qe_data/Si/mp-1...</td>\n",
       "      <td>mp-1079649</td>\n",
       "    </tr>\n",
       "    <tr>\n",
       "      <th>1</th>\n",
       "      <td>1</td>\n",
       "      <td>/Users/y1u0d2/desktop/Lab/data/qe_data/Si/mp-1...</td>\n",
       "      <td>mp-1056579</td>\n",
       "    </tr>\n",
       "    <tr>\n",
       "      <th>2</th>\n",
       "      <td>2</td>\n",
       "      <td>/Users/y1u0d2/desktop/Lab/data/qe_data/Si/mp-1...</td>\n",
       "      <td>mp-16220</td>\n",
       "    </tr>\n",
       "    <tr>\n",
       "      <th>3</th>\n",
       "      <td>3</td>\n",
       "      <td>/Users/y1u0d2/desktop/Lab/data/qe_data/Si/mp-1...</td>\n",
       "      <td>mp-165</td>\n",
       "    </tr>\n",
       "    <tr>\n",
       "      <th>4</th>\n",
       "      <td>4</td>\n",
       "      <td>/Users/y1u0d2/desktop/Lab/data/qe_data/Si/mp-1...</td>\n",
       "      <td>mp-149</td>\n",
       "    </tr>\n",
       "    <tr>\n",
       "      <th>...</th>\n",
       "      <td>...</td>\n",
       "      <td>...</td>\n",
       "      <td>...</td>\n",
       "    </tr>\n",
       "    <tr>\n",
       "      <th>6048</th>\n",
       "      <td>6048</td>\n",
       "      <td>/Users/y1u0d2/desktop/Lab/data/qe_data/Si/mp-1...</td>\n",
       "      <td>mp-1056579</td>\n",
       "    </tr>\n",
       "    <tr>\n",
       "      <th>6049</th>\n",
       "      <td>6049</td>\n",
       "      <td>/Users/y1u0d2/desktop/Lab/data/qe_data/Si/mp-1...</td>\n",
       "      <td>mp-10649</td>\n",
       "    </tr>\n",
       "    <tr>\n",
       "      <th>6050</th>\n",
       "      <td>6050</td>\n",
       "      <td>/Users/y1u0d2/desktop/Lab/data/qe_data/Si/mp-1...</td>\n",
       "      <td>mp-1056579</td>\n",
       "    </tr>\n",
       "    <tr>\n",
       "      <th>6051</th>\n",
       "      <td>6051</td>\n",
       "      <td>/Users/y1u0d2/desktop/Lab/data/qe_data/Si/mp-1...</td>\n",
       "      <td>mp-10649</td>\n",
       "    </tr>\n",
       "    <tr>\n",
       "      <th>6052</th>\n",
       "      <td>6052</td>\n",
       "      <td>/Users/y1u0d2/desktop/Lab/data/qe_data/Si/mp-1...</td>\n",
       "      <td>mp-149</td>\n",
       "    </tr>\n",
       "  </tbody>\n",
       "</table>\n",
       "<p>6053 rows × 3 columns</p>\n",
       "</div>"
      ],
      "text/plain": [
       "      index                                               path        mpid\n",
       "0         0  /Users/y1u0d2/desktop/Lab/data/qe_data/Si/mp-1...  mp-1079649\n",
       "1         1  /Users/y1u0d2/desktop/Lab/data/qe_data/Si/mp-1...  mp-1056579\n",
       "2         2  /Users/y1u0d2/desktop/Lab/data/qe_data/Si/mp-1...    mp-16220\n",
       "3         3  /Users/y1u0d2/desktop/Lab/data/qe_data/Si/mp-1...      mp-165\n",
       "4         4  /Users/y1u0d2/desktop/Lab/data/qe_data/Si/mp-1...      mp-149\n",
       "...     ...                                                ...         ...\n",
       "6048   6048  /Users/y1u0d2/desktop/Lab/data/qe_data/Si/mp-1...  mp-1056579\n",
       "6049   6049  /Users/y1u0d2/desktop/Lab/data/qe_data/Si/mp-1...    mp-10649\n",
       "6050   6050  /Users/y1u0d2/desktop/Lab/data/qe_data/Si/mp-1...  mp-1056579\n",
       "6051   6051  /Users/y1u0d2/desktop/Lab/data/qe_data/Si/mp-1...    mp-10649\n",
       "6052   6052  /Users/y1u0d2/desktop/Lab/data/qe_data/Si/mp-1...      mp-149\n",
       "\n",
       "[6053 rows x 3 columns]"
      ]
     },
     "execution_count": 11,
     "metadata": {},
     "output_type": "execute_result"
    }
   ],
   "source": [
    "master_df"
   ]
  },
  {
   "cell_type": "code",
   "execution_count": null,
   "metadata": {},
   "outputs": [],
   "source": []
  }
 ],
 "metadata": {
  "kernelspec": {
   "display_name": "Python 3.10.4 ('bq')",
   "language": "python",
   "name": "python3"
  },
  "language_info": {
   "codemirror_mode": {
    "name": "ipython",
    "version": 3
   },
   "file_extension": ".py",
   "mimetype": "text/x-python",
   "name": "python",
   "nbconvert_exporter": "python",
   "pygments_lexer": "ipython3",
   "version": "3.10.4"
  },
  "orig_nbformat": 4,
  "vscode": {
   "interpreter": {
    "hash": "afbdfdb411ea127d90d9590b51ffcad44ff5285b8a92d4a65a7f07728951d293"
   }
  }
 },
 "nbformat": 4,
 "nbformat_minor": 2
}
