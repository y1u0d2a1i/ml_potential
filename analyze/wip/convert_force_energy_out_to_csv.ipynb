{
 "cells": [
  {
   "cell_type": "code",
   "execution_count": 151,
   "metadata": {},
   "outputs": [],
   "source": [
    "import pandas as pd\n",
    "import numpy as np\n",
    "import matplotlib.pyplot as plt\n",
    "import seaborn as sns\n",
    "import glob\n",
    "from ml_utils.util import remove_empty_from_array"
   ]
  },
  {
   "cell_type": "code",
   "execution_count": 152,
   "metadata": {},
   "outputs": [],
   "source": [
    "path2target = '/Users/y1u0d2/desktop/Lab/result/n2p2/Si/07/rc_5-np_9'\n",
    "\n",
    "f_tests = glob.glob(f'{path2target}/testforces.*.out')\n",
    "f_trains = glob.glob(f'{path2target}/trainforces.*.out')\n",
    "e_tests = glob.glob(f'{path2target}/testpoints.*.out')\n",
    "e_trains = glob.glob(f'{path2target}/trainpoints.*.out')\n",
    "\n",
    "f_tests.sort()\n",
    "f_trains.sort()\n",
    "e_tests.sort()\n",
    "e_trains.sort()"
   ]
  },
  {
   "cell_type": "code",
   "execution_count": 153,
   "metadata": {},
   "outputs": [],
   "source": [
    "# path = f_tests[0]\n",
    "# with open(path, mode='r') as f:\n",
    "#     l_strip = [s.strip() for s in f.readlines()]"
   ]
  },
  {
   "cell_type": "code",
   "execution_count": 154,
   "metadata": {},
   "outputs": [],
   "source": [
    "# columns = ['index_s', 'index_a', 'Fref', 'Fnnp']\n",
    "\n",
    "# idx: int\n",
    "# for i, l in enumerate(l_strip):\n",
    "#     if (columns[0] in l) & (columns[1] in l) & (columns[2] in l) &(columns[3] in l):\n",
    "#         idx = i\n",
    "#         break\n",
    "    \n",
    "        "
   ]
  },
  {
   "cell_type": "code",
   "execution_count": 155,
   "metadata": {},
   "outputs": [],
   "source": [
    "# from ml_utils.util import remove_empty_from_array\n",
    "# rows = l_strip[idx+2:]\n",
    "# rows = [remove_empty_from_array(row.split(' ')) for row in rows]"
   ]
  },
  {
   "cell_type": "code",
   "execution_count": 156,
   "metadata": {},
   "outputs": [],
   "source": [
    "# df = pd.DataFrame(data=rows, columns=columns)"
   ]
  },
  {
   "cell_type": "code",
   "execution_count": 157,
   "metadata": {},
   "outputs": [],
   "source": [
    "def get_idx_from_columns(columns, lines):\n",
    "    \"\"\"\n",
    "    docstring\n",
    "    \"\"\"\n",
    "    for i, l in enumerate(lines):\n",
    "        flag = False\n",
    "        judge_list = [column in l for column in columns]\n",
    "        if all(judge_list):\n",
    "            idx = i\n",
    "            break\n",
    "    return idx\n",
    "    \n",
    "\n",
    "def convert_forceout_to_df(path2file):\n",
    "    \"\"\"\n",
    "    docstring\n",
    "    \"\"\"\n",
    "    with open(path2file, mode='r') as f:\n",
    "        l_strip = [s.strip() for s in f.readlines()]\n",
    "        \n",
    "    columns = ['index_s', 'index_a', 'Fref', 'Fnnp']\n",
    "    idx = get_idx_from_columns(columns, lines=l_strip)\n",
    "    rows = l_strip[idx+2:]\n",
    "    rows = [remove_empty_from_array(row.split(' ')) for row in rows]\n",
    "    df = pd.DataFrame(data=rows, columns=columns)\n",
    "    return df\n",
    "\n",
    "\n",
    "def convert_energyout_to_df(path2file):\n",
    "    \"\"\"\n",
    "    docstring\n",
    "    \"\"\"\n",
    "    with open(path2file, mode='r') as f:\n",
    "        l_strip = [s.strip() for s in f.readlines()]\n",
    "        \n",
    "    columns = ['index', 'Eref', 'Ennp']\n",
    "    idx = get_idx_from_columns(columns, lines=l_strip)\n",
    "    rows = l_strip[idx+2:]\n",
    "    rows = [remove_empty_from_array(row.split(' ')) for row in rows]\n",
    "    df = pd.DataFrame(data=rows, columns=columns)\n",
    "    return df"
   ]
  },
  {
   "cell_type": "code",
   "execution_count": 158,
   "metadata": {},
   "outputs": [],
   "source": [
    "from sklearn.metrics import r2_score, mean_squared_error, mean_absolute_error\n",
    "\n",
    "def calc_score(ref, pred) -> dict:\n",
    "    dic = {\n",
    "        'R2': r2_score(ref, pred),\n",
    "        'RMSE': np.sqrt(mean_squared_error(ref, pred)),\n",
    "        'MAE': mean_absolute_error(ref, pred)\n",
    "    }\n",
    "    return dic\n",
    "\n",
    "def calc_force_score(epoch, data_type, force_df: pd.DataFrame)-> dict:\n",
    "    ref, pred = force_df['Fref'], force_df['Fnnp']\n",
    "    dic = calc_score(ref, pred)\n",
    "    dic['epoch'] = epoch\n",
    "    dic['data_type'] = data_type\n",
    "    dic['type'] = 'force'\n",
    "    return dic\n",
    "\n",
    "def calc_energy_score(epoch, data_type, energy_df: pd.DataFrame) -> dict:\n",
    "    ref, pred = energy_df['Eref'], energy_df['Ennp']\n",
    "    dic = calc_score(ref, pred)\n",
    "    dic['epoch'] = epoch\n",
    "    dic['data_type'] = data_type\n",
    "    dic['type'] = 'energy'\n",
    "    return dic"
   ]
  },
  {
   "cell_type": "code",
   "execution_count": 159,
   "metadata": {},
   "outputs": [],
   "source": [
    "def get_epoch(path):\n",
    "    return path.split('/')[-1].split('.')[1]\n",
    "\n",
    "def validate_epoch_file(f_test, f_train, e_test, e_train):\n",
    "    if get_epoch(f_test) == get_epoch(f_train) == get_epoch(e_test) == get_epoch(e_train):\n",
    "        return True\n",
    "    else:\n",
    "        return False\n",
    "    \n",
    "all_score_dict = {}\n",
    "for i, (f_test, f_train, e_test, e_train) in  enumerate(zip(f_tests, f_trains, e_tests, e_trains)):\n",
    "    if validate_epoch_file(f_test, f_train, e_test, e_train):\n",
    "        epoch = int(get_epoch(f_test))\n",
    "        f_test_score = calc_force_score(epoch=epoch, data_type='test', force_df=convert_forceout_to_df(f_test))\n",
    "        f_train_score = calc_force_score(epoch=epoch, data_type='train', force_df=convert_forceout_to_df(f_train))\n",
    "        e_test_score = calc_energy_score(epoch=epoch, data_type='test', energy_df=convert_energyout_to_df(e_test))\n",
    "        e_train_score = calc_energy_score(epoch=epoch, data_type='train', energy_df=convert_energyout_to_df(e_train))\n",
    "        idx_start = 4*i\n",
    "        all_score_dict[idx_start] = f_test_score\n",
    "        all_score_dict[idx_start+1] = f_train_score\n",
    "        all_score_dict[idx_start+2] = e_test_score\n",
    "        all_score_dict[idx_start+3] = e_train_score\n"
   ]
  },
  {
   "cell_type": "code",
   "execution_count": 160,
   "metadata": {},
   "outputs": [],
   "source": [
    "score_df = pd.DataFrame.from_dict(all_score_dict, orient='index')"
   ]
  },
  {
   "cell_type": "code",
   "execution_count": 170,
   "metadata": {},
   "outputs": [],
   "source": [
    "force_score_test= score_df.loc[(score_df['type'] == 'force') & (score_df['data_type'] == 'test')]\n",
    "force_score_train= score_df.loc[(score_df['type'] == 'force') & (score_df['data_type'] == 'train')]"
   ]
  },
  {
   "cell_type": "code",
   "execution_count": 173,
   "metadata": {},
   "outputs": [
    {
     "data": {
      "text/plain": [
       "<matplotlib.legend.Legend at 0x12bc13550>"
      ]
     },
     "execution_count": 173,
     "metadata": {},
     "output_type": "execute_result"
    },
    {
     "data": {
      "image/png": "[encoded data removed]",
      "text/plain": [
       "<Figure size 720x432 with 1 Axes>"
      ]
     },
     "metadata": {
      "needs_background": "light"
     },
     "output_type": "display_data"
    }
   ],
   "source": [
    "fig = plt.figure(figsize=(10,6))\n",
    "ax = fig.add_subplot(111)\n",
    "\n",
    "ax.plot(force_score_test['epoch'], force_score_test['R2'], label='test', color='red')\n",
    "ax.plot(force_score_train['epoch'], force_score_train['R2'], label='train')\n",
    "ax.legend()"
   ]
  },
  {
   "cell_type": "code",
   "execution_count": 3,
   "metadata": {},
   "outputs": [],
   "source": [
    "from analyze.get_score_df import get_all_score_df\n",
    "\n",
    "path2target = '/Users/y1u0d2/desktop/Lab/result/n2p2/Si/07/rc_5-np_9'\n",
    "score_df = get_all_score_df(path2target)"
   ]
  },
  {
   "cell_type": "code",
   "execution_count": null,
   "metadata": {},
   "outputs": [],
   "source": []
  },
  {
   "cell_type": "code",
   "execution_count": null,
   "metadata": {},
   "outputs": [],
   "source": []
  },
  {
   "cell_type": "code",
   "execution_count": null,
   "metadata": {},
   "outputs": [],
   "source": []
  },
  {
   "cell_type": "code",
   "execution_count": null,
   "metadata": {},
   "outputs": [],
   "source": []
  }
 ],
 "metadata": {
  "kernelspec": {
   "display_name": "Python 3.10.4 ('ml')",
   "language": "python",
   "name": "python3"
  },
  "language_info": {
   "codemirror_mode": {
    "name": "ipython",
    "version": 3
   },
   "file_extension": ".py",
   "mimetype": "text/x-python",
   "name": "python",
   "nbconvert_exporter": "python",
   "pygments_lexer": "ipython3",
   "version": "3.10.4"
  },
  "orig_nbformat": 4,
  "vscode": {
   "interpreter": {
    "hash": "523738ac47dcf7681d48eb184ac702eac622ded297e68c9c931bbc5de5caff01"
   }
  }
 },
 "nbformat": 4,
 "nbformat_minor": 2
}
