{
 "cells": [
  {
   "cell_type": "code",
   "execution_count": 1,
   "metadata": {},
   "outputs": [],
   "source": [
    "import numpy as np\n",
    "import pandas as pd\n",
    "import matplotlib.pyplot as plt"
   ]
  },
  {
   "cell_type": "code",
   "execution_count": 20,
   "metadata": {},
   "outputs": [],
   "source": [
    "path2file = '/home/y1u0d2/result/n2p2/Si/94/three/03/trainforces.000177.out'"
   ]
  },
  {
   "cell_type": "code",
   "execution_count": 21,
   "metadata": {},
   "outputs": [],
   "source": [
    "with open(path2file, mode='r') as f:\n",
    "    l_strip = [s.strip() for s in f.readlines()]"
   ]
  },
  {
   "cell_type": "code",
   "execution_count": 23,
   "metadata": {},
   "outputs": [],
   "source": [
    "columns = ['index_s', 'index_a', 'Fref', 'Fnnp']"
   ]
  },
  {
   "cell_type": "code",
   "execution_count": 32,
   "metadata": {},
   "outputs": [
    {
     "data": {
      "text/plain": [
       "['################################################################################',\n",
       " '# Force comparison.',\n",
       " '################################################################################',\n",
       " '# Col  Name    Description',\n",
       " '################################################################################',\n",
       " '# 1    index_s Structure index.',\n",
       " '# 2    index_a Atom index (x, y, z components in consecutive lines).',\n",
       " '# 3    Fref    Reference force (training units).',\n",
       " '# 4    Fnnp    NNP force (training units).',\n",
       " '################################################################################',\n",
       " '#        1          2                3                4',\n",
       " '#  index_s    index_a             Fref             Fnnp',\n",
       " '#######################################################',\n",
       " '17          0  -7.02859011E-02  -4.48553228E-02',\n",
       " '17          0   5.19137383E-02   3.72639535E-02',\n",
       " '17          0  -9.55059000E-02  -9.60880608E-02',\n",
       " '17          1  -3.92005595E-02  -4.83866775E-02',\n",
       " '17          1  -4.93145407E-02  -4.31185192E-02',\n",
       " '17          1   2.67217995E-02   1.25660755E-02',\n",
       " '17          2   9.51280629E-02   9.76830914E-02']"
      ]
     },
     "execution_count": 32,
     "metadata": {},
     "output_type": "execute_result"
    }
   ],
   "source": [
    "l_strip[:20]"
   ]
  },
  {
   "cell_type": "code",
   "execution_count": 42,
   "metadata": {},
   "outputs": [],
   "source": [
    "force_arr = np.array([list(map(float, filter(None, row.split(' ')))) for row in l_strip[13:]])"
   ]
  },
  {
   "cell_type": "code",
   "execution_count": 33,
   "metadata": {},
   "outputs": [],
   "source": [
    "# load numpy array from txtfile\n",
    "force_arr = np.loadtxt(path2file, skiprows=12)"
   ]
  },
  {
   "cell_type": "code",
   "execution_count": 43,
   "metadata": {},
   "outputs": [],
   "source": [
    "force_df = pd.DataFrame(data=force_arr, columns=columns)"
   ]
  },
  {
   "cell_type": "code",
   "execution_count": 45,
   "metadata": {},
   "outputs": [],
   "source": [
    "force_df['Fnnp_original'] = force_df['Fnnp'] * 5"
   ]
  },
  {
   "cell_type": "code",
   "execution_count": null,
   "metadata": {},
   "outputs": [],
   "source": []
  }
 ],
 "metadata": {
  "kernelspec": {
   "display_name": "research",
   "language": "python",
   "name": "python3"
  },
  "language_info": {
   "codemirror_mode": {
    "name": "ipython",
    "version": 3
   },
   "file_extension": ".py",
   "mimetype": "text/x-python",
   "name": "python",
   "nbconvert_exporter": "python",
   "pygments_lexer": "ipython3",
   "version": "3.8.12"
  },
  "orig_nbformat": 4
 },
 "nbformat": 4,
 "nbformat_minor": 2
}
