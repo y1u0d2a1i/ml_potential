{
 "cells": [
  {
   "cell_type": "code",
   "execution_count": 14,
   "metadata": {},
   "outputs": [
    {
     "name": "stdout",
     "output_type": "stream",
     "text": [
      "/Users/y1u0d2/desktop/Lab/data/qe_data/Si/mp-165/eLP7OVcu6PAS1 32\n",
      "/Users/y1u0d2/desktop/Lab/data/qe_data/Si/mp-109/xh9J2gSSJxX1WoYK4tCl 8\n",
      "/Users/y1u0d2/desktop/Lab/data/qe_data/Si/mp-16220/ZJJatsfNHgV 34\n",
      "/Users/y1u0d2/desktop/Lab/data/qe_data/Si/mp-149_dimer/1aCZQRLW5Ro0Jv6 2\n",
      "/Users/y1u0d2/desktop/Lab/data/qe_data/Si/mp-10649/RoGnsAIB4gR 16\n",
      "/Users/y1u0d2/desktop/Lab/data/qe_data/Si/mp-149/D8NOvUfpY5Z2qm2BpxHD 8\n",
      "/Users/y1u0d2/desktop/Lab/data/qe_data/Si/mp-168/QBd81vPbpv1xs 8\n",
      "/Users/y1u0d2/desktop/Lab/data/qe_data/Si/mp-1079649/RmJJECRP7wEHtXs 8\n",
      "/Users/y1u0d2/desktop/Lab/data/qe_data/Si/mp-1056579/A5EN4O26gO 16\n"
     ]
    }
   ],
   "source": [
    "from constants.constants import get_path2data, get_silicon_all_scf_data\n",
    "from scf.get_lattice_info import QELattice\n",
    "from glob import glob\n",
    "\n",
    "path2data = get_path2data()\n",
    "dirs = glob(f'{path2data}/mp-*')\n",
    "for d in dirs:\n",
    "    scf_dirs = glob(f'{d}/*')\n",
    "    qel = QELattice(scf_dirs[0])\n",
    "    print(scf_dirs[0], qel.num_atom)"
   ]
  },
  {
   "cell_type": "code",
   "execution_count": 15,
   "metadata": {},
   "outputs": [],
   "source": [
    "all_dirs = get_silicon_all_scf_data()"
   ]
  },
  {
   "cell_type": "code",
   "execution_count": 16,
   "metadata": {},
   "outputs": [
    {
     "data": {
      "text/plain": [
       "7822"
      ]
     },
     "execution_count": 16,
     "metadata": {},
     "output_type": "execute_result"
    }
   ],
   "source": [
    "len(all_dirs)"
   ]
  },
  {
   "cell_type": "code",
   "execution_count": 17,
   "metadata": {},
   "outputs": [],
   "source": [
    "import pandas as pd\n",
    "result = []\n",
    "for path in all_dirs:\n",
    "    qel = QELattice(path)\n",
    "    mpid = list(filter(lambda x: 'mp-' in x, path.split('/')))[0]\n",
    "    n_atom = qel.num_atom\n",
    "    result.append([mpid, n_atom])\n",
    "\n"
   ]
  },
  {
   "cell_type": "code",
   "execution_count": 18,
   "metadata": {},
   "outputs": [],
   "source": [
    "df = pd.DataFrame(data=result, columns=['mpid', 'n_atom'])"
   ]
  },
  {
   "cell_type": "code",
   "execution_count": 19,
   "metadata": {},
   "outputs": [
    {
     "data": {
      "text/plain": [
       "mpid          n_atom\n",
       "mp-1056579    16        1350\n",
       "mp-10649      16        1058\n",
       "mp-1079649    8         1000\n",
       "mp-109        8         1059\n",
       "mp-149        8          595\n",
       "mp-149_dimer  2          410\n",
       "mp-16220      34        1306\n",
       "mp-165        32         573\n",
       "mp-168        8          471\n",
       "All                     7822\n",
       "dtype: int64"
      ]
     },
     "execution_count": 19,
     "metadata": {},
     "output_type": "execute_result"
    }
   ],
   "source": [
    "pt = pd.pivot_table(df, index=['mpid', 'n_atom'], aggfunc=len, margins=True)\n",
    "pt"
   ]
  },
  {
   "cell_type": "code",
   "execution_count": 3,
   "metadata": {},
   "outputs": [],
   "source": [
    "from constants.constants import get_all_structure_info\n",
    "\n",
    "pt = get_all_structure_info()"
   ]
  },
  {
   "cell_type": "code",
   "execution_count": 9,
   "metadata": {},
   "outputs": [
    {
     "data": {
      "text/plain": [
       "7822"
      ]
     },
     "execution_count": 9,
     "metadata": {},
     "output_type": "execute_result"
    }
   ],
   "source": [
    "pt['All'].values[0]"
   ]
  },
  {
   "cell_type": "code",
   "execution_count": null,
   "metadata": {},
   "outputs": [],
   "source": []
  }
 ],
 "metadata": {
  "kernelspec": {
   "display_name": "Python 3.10.6 ('ml')",
   "language": "python",
   "name": "python3"
  },
  "language_info": {
   "codemirror_mode": {
    "name": "ipython",
    "version": 3
   },
   "file_extension": ".py",
   "mimetype": "text/x-python",
   "name": "python",
   "nbconvert_exporter": "python",
   "pygments_lexer": "ipython3",
   "version": "3.10.6"
  },
  "orig_nbformat": 4,
  "vscode": {
   "interpreter": {
    "hash": "523738ac47dcf7681d48eb184ac702eac622ded297e68c9c931bbc5de5caff01"
   }
  }
 },
 "nbformat": 4,
 "nbformat_minor": 2
}
