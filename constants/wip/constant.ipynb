{
 "cells": [
  {
   "cell_type": "code",
   "execution_count": 9,
   "metadata": {},
   "outputs": [],
   "source": [
    "from constants.constants import get_silicon_all_scf_data, get_silicon_all_scf_data_sd\n",
    "\n",
    "all_dirs = get_silicon_all_scf_data(as_dict=True)"
   ]
  },
  {
   "cell_type": "code",
   "execution_count": 10,
   "metadata": {},
   "outputs": [
    {
     "name": "stdout",
     "output_type": "stream",
     "text": [
      "13186\n",
      "13186\n"
     ]
    }
   ],
   "source": [
    "all_dirs = get_silicon_all_scf_data_sd(as_dict=False)\n",
    "print(len(all_dirs))\n",
    "\n",
    "all_dirs = get_silicon_all_scf_data_sd(as_dict=True)\n",
    "print(sum([len(v) for v in all_dirs.values()]))    "
   ]
  },
  {
   "cell_type": "code",
   "execution_count": 5,
   "metadata": {},
   "outputs": [],
   "source": [
    "mpid_list = set([list(filter(lambda x: 'mp-' in x, d.split('/')))[0] for d in all_dirs])"
   ]
  },
  {
   "cell_type": "code",
   "execution_count": 9,
   "metadata": {},
   "outputs": [],
   "source": [
    "all_dirs_dict = {}\n",
    "for mpid in mpid_list:\n",
    "    all_dirs_dict[mpid] = list(filter(lambda x: f'/{mpid}/' in x, all_dirs))"
   ]
  },
  {
   "cell_type": "code",
   "execution_count": null,
   "metadata": {},
   "outputs": [],
   "source": []
  },
  {
   "cell_type": "code",
   "execution_count": null,
   "metadata": {},
   "outputs": [],
   "source": []
  }
 ],
 "metadata": {
  "kernelspec": {
   "display_name": "Python 3.10.6 ('ml')",
   "language": "python",
   "name": "python3"
  },
  "language_info": {
   "codemirror_mode": {
    "name": "ipython",
    "version": 3
   },
   "file_extension": ".py",
   "mimetype": "text/x-python",
   "name": "python",
   "nbconvert_exporter": "python",
   "pygments_lexer": "ipython3",
   "version": "3.10.6"
  },
  "orig_nbformat": 4,
  "vscode": {
   "interpreter": {
    "hash": "523738ac47dcf7681d48eb184ac702eac622ded297e68c9c931bbc5de5caff01"
   }
  }
 },
 "nbformat": 4,
 "nbformat_minor": 2
}
