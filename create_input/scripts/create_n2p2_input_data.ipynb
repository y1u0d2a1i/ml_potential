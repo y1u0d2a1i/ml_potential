{
 "cells": [
  {
   "cell_type": "code",
   "execution_count": 6,
   "metadata": {
    "pycharm": {
     "name": "#%%\n"
    }
   },
   "outputs": [],
   "source": [
    "import glob\n",
    "import os\n",
    "import pandas as pd\n",
    "from constants.constants import get_silicon_all_scf_data\n",
    "from constants.constants import get_silicon_all_scf_data_sd\n",
    "from create_input.from_scf import N2p2ScfParser\n",
    "from scf.scf_util import flatten\n",
    "from create_input.from_scf_minus_lmp import ScfMinusLammpsN2p2\n",
    "from create_input.get_filtered_structure_data import get_filtered_structure_path_by_energy\n",
    "from create_input.get_filtered_structure_data import get_filtered_structure_path_by_force\n",
    "from analyze.n2p2_lattice import N2p2Lattice, get_structures_for_n2p2_lattice"
   ]
  },
  {
   "cell_type": "code",
   "execution_count": 2,
   "metadata": {
    "pycharm": {
     "name": "#%%\n"
    }
   },
   "outputs": [
    {
     "name": "stdout",
     "output_type": "stream",
     "text": [
      "96461\n"
     ]
    }
   ],
   "source": [
    "# all_dirs = get_silicon_all_scf_data()\n",
    "# all_dirs = get_filtered_structure_path_by_force(force_threshold=50, is_zbl=False) + get_silicon_all_scf_data_sd()\n",
    "\n",
    "all_dirs = get_silicon_all_scf_data_sd()\n",
    "print(len(all_dirs))"
   ]
  },
  {
   "cell_type": "code",
   "execution_count": 19,
   "metadata": {},
   "outputs": [],
   "source": [
    "# # get path list from n2p2 input\n",
    "# path2inputdata = '/Users/y1u0d2/desktop/Lab/result/n2p2/Si/09/three'\n",
    "# # path2inputdata = '/Users/y1u0d2/desktop/Lab/result/nnp-train/two-three-body/02/01'\n",
    "# i_filename = 'input.data'\n",
    "\n",
    "# structures = get_structures_for_n2p2_lattice(path2inputdata, i_filename)\n",
    "\n",
    "# result = []\n",
    "# mpid_list = []\n",
    "\n",
    "# for structure in structures:\n",
    "#     n2p2_lattice = N2p2Lattice(structure)\n",
    "\n",
    "#     mpid_list.append(n2p2_lattice.mpid)\n",
    "#     result.append([\n",
    "#         n2p2_lattice.n_atoms,\n",
    "#         n2p2_lattice.path\n",
    "#     ])\n",
    "\n",
    "# df = pd.DataFrame(data=result, columns=['n_atoms', 'path'])\n",
    "# df['mpid'] = mpid_list\n",
    "\n",
    "# path_from_n2p2_input = df['path'].values"
   ]
  },
  {
   "cell_type": "code",
   "execution_count": 20,
   "metadata": {},
   "outputs": [],
   "source": [
    "# filtered_data = []\n",
    "# for d in all_dirs:\n",
    "#     with open(os.path.join(d, 'path.txt'), mode='r') as f:\n",
    "#         lines = [s.strip() for s in f.readlines()]\n",
    "#         path = lines[0]\n",
    "#     if path in path_from_n2p2_input:\n",
    "#         filtered_data.append(d)"
   ]
  },
  {
   "cell_type": "code",
   "execution_count": 21,
   "metadata": {},
   "outputs": [
    {
     "name": "stdout",
     "output_type": "stream",
     "text": [
      "3733\n",
      "3323\n"
     ]
    }
   ],
   "source": [
    "# print(len(path_from_n2p2_input))\n",
    "# print(len(filtered_data))"
   ]
  },
  {
   "cell_type": "code",
   "execution_count": 5,
   "metadata": {},
   "outputs": [
    {
     "name": "stdout",
     "output_type": "stream",
     "text": [
      "mp-165\n",
      "mp-109\n",
      "mp-16220\n",
      "mp-149_dimer\n",
      "mp-10649\n",
      "mp-149\n",
      "mp-168\n",
      "mp-1079649\n",
      "mp-1056579\n",
      "mp-571520\n",
      "mp-92\n"
     ]
    }
   ],
   "source": [
    "from create_input.sample_structure import remove_duplicated_structures\n",
    "\n",
    "sampled_df = remove_duplicated_structures(all_dirs)\n",
    "filtered_data = sampled_df['path'].values"
   ]
  },
  {
   "cell_type": "code",
   "execution_count": 2,
   "metadata": {},
   "outputs": [],
   "source": [
    "filtered_data = get_silicon_all_scf_data_sd()\n",
    "filtered_data = list(filter(lambda x: '/mp-165/' in x, filtered_data))"
   ]
  },
  {
   "cell_type": "code",
   "execution_count": 3,
   "metadata": {},
   "outputs": [
    {
     "data": {
      "text/plain": [
       "27516"
      ]
     },
     "execution_count": 3,
     "metadata": {},
     "output_type": "execute_result"
    }
   ],
   "source": [
    "len(all_dirs)"
   ]
  },
  {
   "cell_type": "code",
   "execution_count": 7,
   "metadata": {},
   "outputs": [],
   "source": [
    "path2target = '/Users/y1u0d2/desktop/Lab/result/n2p2/Si/88/data'\n",
    "with open(os.path.join(path2target, 'dirs.txt'), mode='r') as f:\n",
    "    all_dirs = [s.strip() for s in f.readlines()]"
   ]
  },
  {
   "cell_type": "code",
   "execution_count": null,
   "metadata": {},
   "outputs": [],
   "source": []
  },
  {
   "cell_type": "code",
   "execution_count": 10,
   "metadata": {},
   "outputs": [
    {
     "name": "stdout",
     "output_type": "stream",
     "text": [
      "2183\n",
      "2183\n"
     ]
    }
   ],
   "source": [
    "print(len(all_dirs))\n",
    "\n",
    "all_dirs = [d for d in all_dirs if 'mp-149/coord/sd' in d]\n",
    "\n",
    "print(len(all_dirs))"
   ]
  },
  {
   "cell_type": "code",
   "execution_count": null,
   "metadata": {},
   "outputs": [],
   "source": []
  },
  {
   "cell_type": "code",
   "execution_count": null,
   "metadata": {},
   "outputs": [],
   "source": []
  },
  {
   "cell_type": "code",
   "execution_count": 12,
   "metadata": {
    "pycharm": {
     "name": "#%%\n"
    }
   },
   "outputs": [],
   "source": [
    "# pure scf\n",
    "\n",
    "path2out = '/Users/y1u0d2/desktop/Lab/result/n2p2/Si/93/data'\n",
    "# all_dirs = list(filter(lambda x: 'mp-149_dimer' not in x, all_dirs))\n",
    "with open(f'{path2out}/input.data', mode='a') as f:\n",
    "    for d in all_dirs:\n",
    "        try:\n",
    "            n2p2_obj = N2p2ScfParser(path2scfout=d)\n",
    "            f.write('\\n'.join(list(n2p2_obj.n2p2_block)))\n",
    "        except:\n",
    "            print(d)\n",
    "            continue"
   ]
  },
  {
   "cell_type": "code",
   "execution_count": 14,
   "metadata": {
    "pycharm": {
     "name": "#%%\n"
    }
   },
   "outputs": [],
   "source": [
    "# scf - zbl\n",
    "import random\n",
    "\n",
    "path2out = '/Users/y1u0d2/desktop/Lab/result/n2p2/Si/60/data'\n",
    "energy_threshold = -640\n",
    "force_threshold = 50"
   ]
  },
  {
   "cell_type": "code",
   "execution_count": 8,
   "metadata": {},
   "outputs": [],
   "source": [
    "from analyze.get_structure_master import get_structure_master_df\n",
    "\n",
    "master_df = get_structure_master_df(path2target='/Users/y1u0d2/desktop/Lab/result/n2p2/Si/16/data')"
   ]
  },
  {
   "cell_type": "code",
   "execution_count": 15,
   "metadata": {},
   "outputs": [
    {
     "name": "stdout",
     "output_type": "stream",
     "text": [
      "{'mp-165': 61, 'mp-16220': 166, 'mp-149_dimer': 9, 'mp-149': 181}\n",
      "418 structures were removed\n",
      "8448\n"
     ]
    }
   ],
   "source": [
    "\n",
    "# filtered_data = get_filtered_structure_path_by_force(force_threshold)\n",
    "filtered_data = get_filtered_structure_path_by_energy(energy_threshold)\n",
    "# filtered_data = list(filter(lambda x: 'dimer' in x, filtered_data))\n",
    "filtered_data = random.sample(filtered_data, len(filtered_data))\n",
    "# filtered_data = list(filter(lambda x: 'mp-1056579' not in x, filtered_data))\n",
    "print(len(filtered_data))"
   ]
  },
  {
   "cell_type": "code",
   "execution_count": 10,
   "metadata": {},
   "outputs": [
    {
     "name": "stdout",
     "output_type": "stream",
     "text": [
      "6049\n",
      "5599\n"
     ]
    }
   ],
   "source": [
    "print(len(filtered_data))\n",
    "filtered_data = list(filter(lambda x: '/mp-149_dimer/' not in x, filtered_data))\n",
    "# filtered_data = list(filter(lambda x: '/mp-1056579/' not in x, filtered_data))\n",
    "print(len(filtered_data))"
   ]
  },
  {
   "cell_type": "code",
   "execution_count": 16,
   "metadata": {
    "pycharm": {
     "name": "#%%\n"
    }
   },
   "outputs": [
    {
     "name": "stdout",
     "output_type": "stream",
     "text": [
      "/Users/y1u0d2/desktop/Lab/data/qe_data/Si/mp-149/y1PfjoYtA885feQ9tv\n"
     ]
    }
   ],
   "source": [
    "# filtered_data = master_df['path'].values\n",
    "for d in filtered_data:\n",
    "    try:\n",
    "        n2p2_obj = ScfMinusLammpsN2p2(path2scfout=d, dump_filename='dump.out', is_comment=True)\n",
    "        with open(f'{path2out}/input.data', mode='a') as f:\n",
    "            f.write('\\n'.join(list(n2p2_obj.n2p2_block)))\n",
    "    except:\n",
    "        print(d)\n",
    "        continue"
   ]
  },
  {
   "cell_type": "code",
   "execution_count": null,
   "metadata": {
    "pycharm": {
     "name": "#%%\n"
    }
   },
   "outputs": [],
   "source": []
  },
  {
   "cell_type": "code",
   "execution_count": null,
   "metadata": {
    "pycharm": {
     "is_executing": true,
     "name": "#%%\n"
    }
   },
   "outputs": [],
   "source": []
  },
  {
   "cell_type": "code",
   "execution_count": null,
   "metadata": {
    "collapsed": false,
    "pycharm": {
     "name": "#%%\n"
    }
   },
   "outputs": [],
   "source": []
  }
 ],
 "metadata": {
  "kernelspec": {
   "display_name": "Python 3.10.6 ('ml')",
   "language": "python",
   "name": "python3"
  },
  "language_info": {
   "codemirror_mode": {
    "name": "ipython",
    "version": 3
   },
   "file_extension": ".py",
   "mimetype": "text/x-python",
   "name": "python",
   "nbconvert_exporter": "python",
   "pygments_lexer": "ipython3",
   "version": "3.10.6"
  },
  "orig_nbformat": 4,
  "vscode": {
   "interpreter": {
    "hash": "523738ac47dcf7681d48eb184ac702eac622ded297e68c9c931bbc5de5caff01"
   }
  }
 },
 "nbformat": 4,
 "nbformat_minor": 2
}
