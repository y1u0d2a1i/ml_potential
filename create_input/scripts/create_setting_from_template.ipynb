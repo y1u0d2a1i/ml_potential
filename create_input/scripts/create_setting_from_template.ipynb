{
 "cells": [
  {
   "cell_type": "code",
   "execution_count": 1,
   "metadata": {
    "pycharm": {
     "name": "#%%\n"
    }
   },
   "outputs": [],
   "source": [
    "import os\n",
    "from descriptors.sf.get_sf_param import get_sf_params_str\n",
    "from ml_utils.util import flatten"
   ]
  },
  {
   "cell_type": "code",
   "execution_count": 2,
   "metadata": {
    "pycharm": {
     "name": "#%%\n"
    }
   },
   "outputs": [],
   "source": [
    "# パラメータ取得\n",
    "from descriptors.sf.get_sf_param import get_sf_radial_params"
   ]
  },
  {
   "cell_type": "code",
   "execution_count": 3,
   "metadata": {
    "pycharm": {
     "name": "#%%\n"
    }
   },
   "outputs": [
    {
     "name": "stdout",
     "output_type": "stream",
     "text": [
      "[5, 6, 7]\n"
     ]
    }
   ],
   "source": [
    "rcut_range = list(range(5, 8, 1))\n",
    "pair_range = list(range(5, 8, 1))\n",
    "print(rcut_range)"
   ]
  },
  {
   "cell_type": "code",
   "execution_count": 9,
   "metadata": {
    "pycharm": {
     "name": "#%%\n"
    }
   },
   "outputs": [],
   "source": [
    "import copy\n",
    "import shutil\n",
    "\n",
    "num = 97\n",
    "\n",
    "path2root = f'/Users/y1u0d2/desktop/Lab/result/n2p2/Si/{num}'\n",
    "path2inputdata = f'/Users/y1u0d2/desktop/Lab/result/n2p2/Si/{num}/data'\n",
    "path2template = f'/Users/y1u0d2/desktop/Lab/result/n2p2/Si/{num}/template'\n",
    "\n",
    "with open(os.path.join(path2template, 'input.nn'), mode='r') as f:\n",
    "    l_strip = [s.strip() for s in f.readlines()]\n",
    "\n",
    "for rcut in rcut_range:\n",
    "    for num_p in pair_range:\n",
    "        config = l_strip.copy()\n",
    "        \n",
    "        # ディレクトリ作成 -> input.dataのコピー\n",
    "        d_name = f'rc_{rcut}-np_{num_p}'\n",
    "        path2target = os.path.join(path2root, d_name)\n",
    "        if not os.path.exists(path2target):\n",
    "            os.mkdir(path2target)\n",
    "            # shutil.copy(os.path.join(path2inputdata, 'input.data'), path2target)\n",
    "            \n",
    "        param_df = get_sf_radial_params(elm=['Si'], rcut=rcut, nb_param_pairs=num_p)\n",
    "        # shift 1.2 angstrom \n",
    "        # param_df['rs'] += 0.5\n",
    "        sf_lines = get_sf_params_str(param_df)\n",
    "        config.append(sf_lines)\n",
    "        config = flatten(config)\n",
    "        with open(os.path.join(path2target, 'input.nn'), mode='w') as f:\n",
    "            f.write('\\n'.join(config))\n",
    "        "
   ]
  },
  {
   "cell_type": "code",
   "execution_count": null,
   "metadata": {},
   "outputs": [],
   "source": []
  },
  {
   "cell_type": "code",
   "execution_count": null,
   "metadata": {},
   "outputs": [],
   "source": []
  }
 ],
 "metadata": {
  "kernelspec": {
   "display_name": "Python 3.10.6 ('ml')",
   "language": "python",
   "name": "python3"
  },
  "language_info": {
   "codemirror_mode": {
    "name": "ipython",
    "version": 3
   },
   "file_extension": ".py",
   "mimetype": "text/x-python",
   "name": "python",
   "nbconvert_exporter": "python",
   "pygments_lexer": "ipython3",
   "version": "3.11.0"
  },
  "orig_nbformat": 4,
  "vscode": {
   "interpreter": {
    "hash": "523738ac47dcf7681d48eb184ac702eac622ded297e68c9c931bbc5de5caff01"
   }
  }
 },
 "nbformat": 4,
 "nbformat_minor": 2
}
