{
 "cells": [
  {
   "cell_type": "code",
   "execution_count": null,
   "metadata": {},
   "outputs": [],
   "source": [
    "import subprocess\n",
    "import glob\n",
    "import os\n",
    "\n",
    "\n",
    "path2root = '/home/y1u0d2/result/n2p2/Si/10'\n",
    "dirs = glob.glob(f'{path2root}/rc*')\n",
    "\n",
    "for d in dirs:\n",
    "    os.chdir(d)\n",
    "    process = subprocess.Popen(f'nnp-norm', shell=True)\n",
    "    process.wait()\n",
    "    process = subprocess.Popen(f'mpirun -np 16 nnp-scaling 500', shell=True)\n",
    "    process.wait()\n",
    "    process = subprocess.Popen(f'mpirun -np 16 nnp-train', shell=True)\n",
    "    process.wait()"
   ]
  }
 ],
 "metadata": {
  "kernelspec": {
   "display_name": "Python 3.10.4 ('ml')",
   "language": "python",
   "name": "python3"
  },
  "language_info": {
   "name": "python",
   "version": "3.10.4"
  },
  "orig_nbformat": 4,
  "vscode": {
   "interpreter": {
    "hash": "523738ac47dcf7681d48eb184ac702eac622ded297e68c9c931bbc5de5caff01"
   }
  }
 },
 "nbformat": 4,
 "nbformat_minor": 2
}
