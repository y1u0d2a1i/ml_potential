{
 "cells": [
  {
   "cell_type": "code",
   "execution_count": 1,
   "metadata": {},
   "outputs": [
    {
     "ename": "TypeError",
     "evalue": "'type' object is not subscriptable",
     "output_type": "error",
     "traceback": [
      "\u001b[0;31m---------------------------------------------------------------------------\u001b[0m",
      "\u001b[0;31mTypeError\u001b[0m                                 Traceback (most recent call last)",
      "Cell \u001b[0;32mIn[1], line 3\u001b[0m\n\u001b[1;32m      1\u001b[0m \u001b[39m# input.nn に記述するための対称性関数の文字列取得\u001b[39;00m\n\u001b[0;32m----> 3\u001b[0m \u001b[39mfrom\u001b[39;00m \u001b[39mdescriptors\u001b[39;00m\u001b[39m.\u001b[39;00m\u001b[39msf\u001b[39;00m\u001b[39m.\u001b[39;00m\u001b[39mget_sf_param\u001b[39;00m \u001b[39mimport\u001b[39;00m get_sf_radial_params\n\u001b[1;32m      5\u001b[0m rcut \u001b[39m=\u001b[39m \u001b[39m6\u001b[39m\n\u001b[1;32m      6\u001b[0m param_df \u001b[39m=\u001b[39m get_sf_radial_params(elm\u001b[39m=\u001b[39m[\u001b[39m'\u001b[39m\u001b[39mSi\u001b[39m\u001b[39m'\u001b[39m], rcut\u001b[39m=\u001b[39mrcut, nb_param_pairs\u001b[39m=\u001b[39m\u001b[39m6\u001b[39m, sf_mode\u001b[39m=\u001b[39m\u001b[39m'\u001b[39m\u001b[39mcenter\u001b[39m\u001b[39m'\u001b[39m)\n",
      "File \u001b[0;32m~/Program/ml_potential/descriptors/sf/get_sf_param.py:8\u001b[0m\n\u001b[1;32m      4\u001b[0m \u001b[39mfrom\u001b[39;00m \u001b[39mml_utils\u001b[39;00m\u001b[39m.\u001b[39;00m\u001b[39mutil\u001b[39;00m \u001b[39mimport\u001b[39;00m remove_empty_from_array\n\u001b[1;32m      5\u001b[0m \u001b[39mfrom\u001b[39;00m \u001b[39mdescriptors\u001b[39;00m\u001b[39m.\u001b[39;00m\u001b[39msf\u001b[39;00m\u001b[39m.\u001b[39;00m\u001b[39msfparamgen\u001b[39;00m \u001b[39mimport\u001b[39;00m SymFuncParamGenerator\n\u001b[0;32m----> 8\u001b[0m \u001b[39mdef\u001b[39;00m \u001b[39mget_sf_radial_params\u001b[39m(elm: \u001b[39mlist\u001b[39;49m[\u001b[39mstr\u001b[39;49m], rcut: \u001b[39mfloat\u001b[39m, nb_param_pairs: \u001b[39mint\u001b[39m, sf_mode\u001b[39m=\u001b[39m\u001b[39m'\u001b[39m\u001b[39mshift\u001b[39m\u001b[39m'\u001b[39m) \u001b[39m-\u001b[39m\u001b[39m>\u001b[39m pd\u001b[39m.\u001b[39mDataFrame:\n\u001b[1;32m      9\u001b[0m     \u001b[39mif\u001b[39;00m \u001b[39mnot\u001b[39;00m sf_mode \u001b[39min\u001b[39;00m [\u001b[39m'\u001b[39m\u001b[39mshift\u001b[39m\u001b[39m'\u001b[39m, \u001b[39m'\u001b[39m\u001b[39mcenter\u001b[39m\u001b[39m'\u001b[39m]:\n\u001b[1;32m     10\u001b[0m         \u001b[39mraise\u001b[39;00m \u001b[39mException\u001b[39;00m(\u001b[39m'\u001b[39m\u001b[39mYour sf_mode is not available. Set shift or center\u001b[39m\u001b[39m'\u001b[39m)\n",
      "\u001b[0;31mTypeError\u001b[0m: 'type' object is not subscriptable"
     ]
    }
   ],
   "source": [
    "# input.nn に記述するための対称性関数の文字列取得\n",
    "\n",
    "from descriptors.sf.get_sf_param import get_sf_radial_params\n",
    "\n",
    "rcut = 6\n",
    "param_df = get_sf_radial_params(elm=['Si'], rcut=rcut, nb_param_pairs=6, sf_mode='center')\n",
    "g2_params = param_df[['eta', 'rs']].values"
   ]
  },
  {
   "cell_type": "code",
   "execution_count": 2,
   "metadata": {},
   "outputs": [
    {
     "name": "stdout",
     "output_type": "stream",
     "text": [
      "symfunction_short Si 2 Si 0.02778 0.0 6.0\n",
      "symfunction_short Si 2 Si 0.05288 0.0 6.0\n",
      "symfunction_short Si 2 Si 0.1007 0.0 6.0\n",
      "symfunction_short Si 2 Si 0.1916 0.0 6.0\n",
      "symfunction_short Si 2 Si 0.3648 0.0 6.0\n",
      "symfunction_short Si 2 Si 0.6944 0.0 6.0\n"
     ]
    }
   ],
   "source": [
    "for param in param_df.values:\n",
    "    param = [str(i) for i in param]\n",
    "    param = ' '.join(param)\n",
    "    print(param)"
   ]
  },
  {
   "cell_type": "code",
   "execution_count": 3,
   "metadata": {},
   "outputs": [
    {
     "name": "stdout",
     "output_type": "stream",
     "text": [
      "symfunction_short Si 3 Si Si 0.05556 -1.0 1.0 6.0 0.0\n",
      "symfunction_short Si 3 Si Si 0.05556 1.0 1.0 6.0 0.0\n",
      "symfunction_short Si 3 Si Si 0.05556 -1.0 6.0 6.0 0.0\n",
      "symfunction_short Si 3 Si Si 0.05556 1.0 6.0 6.0 0.0\n",
      "symfunction_short Si 3 Si Si 0.01389 -1.0 1.0 6.0 0.0\n",
      "symfunction_short Si 3 Si Si 0.01389 1.0 1.0 6.0 0.0\n",
      "symfunction_short Si 3 Si Si 0.01389 -1.0 6.0 6.0 0.0\n",
      "symfunction_short Si 3 Si Si 0.01389 1.0 6.0 6.0 0.0\n"
     ]
    }
   ],
   "source": [
    "from descriptors.sf.get_sf_param import get_sf_ang_params\n",
    "\n",
    "rcut = 6\n",
    "ang_param_df = get_sf_ang_params(\n",
    "    elm=['Si'],\n",
    "    rcut=rcut,\n",
    "    nb_param_pairs=2,\n",
    "    ang_type='angular_narrow',\n",
    "    zetas=[1, 6],\n",
    "    r_lower=3\n",
    ")\n",
    "for param in ang_param_df.values:\n",
    "    param = [str(i) for i in param]\n",
    "    param = ' '.join(param)\n",
    "    print(param)\n"
   ]
  },
  {
   "cell_type": "code",
   "execution_count": 20,
   "metadata": {},
   "outputs": [
    {
     "data": {
      "text/plain": [
       "array([['symfunction_short', 'Si', '2', 'Si', 1.903, 1.75, 7.0],\n",
       "       ['symfunction_short', 'Si', '2', 'Si', 0.9516, 2.475, 7.0],\n",
       "       ['symfunction_short', 'Si', '2', 'Si', 0.4758, 3.5, 7.0],\n",
       "       ['symfunction_short', 'Si', '2', 'Si', 0.2379, 4.95, 7.0]],\n",
       "      dtype=object)"
      ]
     },
     "execution_count": 20,
     "metadata": {},
     "output_type": "execute_result"
    }
   ],
   "source": [
    "param_df.values"
   ]
  },
  {
   "cell_type": "code",
   "execution_count": 21,
   "metadata": {},
   "outputs": [],
   "source": [
    "# input.nn に記述するための対称性関数の文字列取得\n",
    "from descriptors.sf.get_sf_param import get_sf_radial_params\n",
    "import pandas as pd\n",
    "\n",
    "rcut_range = list(range(3, 7, 1))\n",
    "pair_range = list(range(3, 7, 1))\n",
    "\n",
    "param_df_list = []\n",
    "for rcut in rcut_range:\n",
    "    for n_pair in pair_range:\n",
    "        param_df = get_sf_radial_params(elm=['Si'], rcut=rcut, nb_param_pairs=n_pair)\n",
    "        param_df_list.append(param_df)\n",
    "\n",
    "param_df_concat = pd.concat(param_df_list)"
   ]
  },
  {
   "cell_type": "code",
   "execution_count": 22,
   "metadata": {},
   "outputs": [],
   "source": [
    "g2_params = param_df_concat[['eta', 'rs']].values"
   ]
  },
  {
   "cell_type": "code",
   "execution_count": null,
   "metadata": {},
   "outputs": [],
   "source": []
  },
  {
   "cell_type": "code",
   "execution_count": 23,
   "metadata": {},
   "outputs": [
    {
     "name": "stdout",
     "output_type": "stream",
     "text": [
      "symfunction_short Si 2 Si 5.113 1.0 3.0\n",
      "symfunction_short Si 2 Si 2.458 1.442 3.0\n",
      "symfunction_short Si 2 Si 1.182 2.08 3.0\n",
      "symfunction_short Si 2 Si 10.36 0.75 3.0\n",
      "symfunction_short Si 2 Si 5.181 1.061 3.0\n",
      "symfunction_short Si 2 Si 2.59 1.5 3.0\n",
      "symfunction_short Si 2 Si 1.295 2.121 3.0\n",
      "symfunction_short Si 2 Si 19.26 0.6 3.0\n",
      "symfunction_short Si 2 Si 10.12 0.8278 3.0\n",
      "symfunction_short Si 2 Si 5.316 1.142 3.0\n",
      "symfunction_short Si 2 Si 2.792 1.576 3.0\n",
      "symfunction_short Si 2 Si 1.467 2.174 3.0\n",
      "symfunction_short Si 2 Si 33.03 0.5 3.0\n",
      "symfunction_short Si 2 Si 18.18 0.674 3.0\n",
      "symfunction_short Si 2 Si 10.0 0.9086 3.0\n",
      "symfunction_short Si 2 Si 5.505 1.225 3.0\n",
      "symfunction_short Si 2 Si 3.029 1.651 3.0\n",
      "symfunction_short Si 2 Si 1.667 2.226 3.0\n",
      "symfunction_short Si 2 Si 2.876 1.333 4.0\n",
      "symfunction_short Si 2 Si 1.383 1.923 4.0\n",
      "symfunction_short Si 2 Si 0.6647 2.773 4.0\n",
      "symfunction_short Si 2 Si 5.828 1.0 4.0\n",
      "symfunction_short Si 2 Si 2.914 1.414 4.0\n",
      "symfunction_short Si 2 Si 1.457 2.0 4.0\n",
      "symfunction_short Si 2 Si 0.7286 2.828 4.0\n",
      "symfunction_short Si 2 Si 10.84 0.8 4.0\n",
      "symfunction_short Si 2 Si 5.692 1.104 4.0\n",
      "symfunction_short Si 2 Si 2.99 1.523 4.0\n",
      "symfunction_short Si 2 Si 1.571 2.101 4.0\n",
      "symfunction_short Si 2 Si 0.8251 2.899 4.0\n",
      "symfunction_short Si 2 Si 18.58 0.6667 4.0\n",
      "symfunction_short Si 2 Si 10.22 0.8987 4.0\n",
      "symfunction_short Si 2 Si 5.627 1.211 4.0\n",
      "symfunction_short Si 2 Si 3.096 1.633 4.0\n",
      "symfunction_short Si 2 Si 1.704 2.201 4.0\n",
      "symfunction_short Si 2 Si 0.9378 2.967 4.0\n",
      "symfunction_short Si 2 Si 1.841 1.667 5.0\n",
      "symfunction_short Si 2 Si 0.8849 2.404 5.0\n",
      "symfunction_short Si 2 Si 0.4254 3.467 5.0\n",
      "symfunction_short Si 2 Si 3.73 1.25 5.0\n",
      "symfunction_short Si 2 Si 1.865 1.768 5.0\n",
      "symfunction_short Si 2 Si 0.9325 2.5 5.0\n",
      "symfunction_short Si 2 Si 0.4663 3.536 5.0\n",
      "symfunction_short Si 2 Si 6.935 1.0 5.0\n",
      "symfunction_short Si 2 Si 3.643 1.38 5.0\n",
      "symfunction_short Si 2 Si 1.914 1.904 5.0\n",
      "symfunction_short Si 2 Si 1.005 2.627 5.0\n",
      "symfunction_short Si 2 Si 0.5281 3.624 5.0\n",
      "symfunction_short Si 2 Si 11.89 0.8333 5.0\n",
      "symfunction_short Si 2 Si 6.543 1.123 5.0\n",
      "symfunction_short Si 2 Si 3.601 1.514 5.0\n",
      "symfunction_short Si 2 Si 1.982 2.041 5.0\n",
      "symfunction_short Si 2 Si 1.091 2.752 5.0\n",
      "symfunction_short Si 2 Si 0.6002 3.709 5.0\n",
      "symfunction_short Si 2 Si 1.278 2.0 6.0\n",
      "symfunction_short Si 2 Si 0.6145 2.884 6.0\n",
      "symfunction_short Si 2 Si 0.2954 4.16 6.0\n",
      "symfunction_short Si 2 Si 2.59 1.5 6.0\n",
      "symfunction_short Si 2 Si 1.295 2.121 6.0\n",
      "symfunction_short Si 2 Si 0.6476 3.0 6.0\n",
      "symfunction_short Si 2 Si 0.3238 4.243 6.0\n",
      "symfunction_short Si 2 Si 4.816 1.2 6.0\n",
      "symfunction_short Si 2 Si 2.53 1.656 6.0\n",
      "symfunction_short Si 2 Si 1.329 2.284 6.0\n",
      "symfunction_short Si 2 Si 0.6981 3.152 6.0\n",
      "symfunction_short Si 2 Si 0.3667 4.349 6.0\n",
      "symfunction_short Si 2 Si 8.257 1.0 6.0\n",
      "symfunction_short Si 2 Si 4.544 1.348 6.0\n",
      "symfunction_short Si 2 Si 2.501 1.817 6.0\n",
      "symfunction_short Si 2 Si 1.376 2.449 6.0\n",
      "symfunction_short Si 2 Si 0.7573 3.302 6.0\n",
      "symfunction_short Si 2 Si 0.4168 4.451 6.0\n"
     ]
    }
   ],
   "source": [
    "for param in param_df_concat.values:\n",
    "    param = [str(i) for i in param]\n",
    "    param = ' '.join(param)\n",
    "    print(param)"
   ]
  },
  {
   "cell_type": "code",
   "execution_count": null,
   "metadata": {},
   "outputs": [],
   "source": []
  }
 ],
 "metadata": {
  "kernelspec": {
   "display_name": "Python 3.10.6 ('ml')",
   "language": "python",
   "name": "python3"
  },
  "language_info": {
   "codemirror_mode": {
    "name": "ipython",
    "version": 3
   },
   "file_extension": ".py",
   "mimetype": "text/x-python",
   "name": "python",
   "nbconvert_exporter": "python",
   "pygments_lexer": "ipython3",
   "version": "3.8.12"
  },
  "orig_nbformat": 4,
  "vscode": {
   "interpreter": {
    "hash": "523738ac47dcf7681d48eb184ac702eac622ded297e68c9c931bbc5de5caff01"
   }
  }
 },
 "nbformat": 4,
 "nbformat_minor": 2
}
