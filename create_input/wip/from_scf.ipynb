{
 "cells": [
  {
   "cell_type": "code",
   "execution_count": 1,
   "metadata": {},
   "outputs": [],
   "source": [
    "import pandas as pd\n",
    "import numpy as np\n",
    "import glob\n",
    "\n",
    "path2root = '/Users/y1u0d2/desktop/Lab/result/qe/Si/mp-149/change_coord/l_5.46/result'\n",
    "\n",
    "dirs = glob.glob(f'{path2root}/scf*')"
   ]
  },
  {
   "cell_type": "code",
   "execution_count": 2,
   "metadata": {},
   "outputs": [],
   "source": [
    "from scf.get_lattice_info import QELattice\n",
    "\n",
    "d = dirs[0]\n",
    "qel = QELattice(path_to_target=d)"
   ]
  },
  {
   "cell_type": "code",
   "execution_count": 3,
   "metadata": {},
   "outputs": [
    {
     "data": {
      "text/plain": [
       "'/Users/y1u0d2/desktop/Lab/result/qe/Si/mp-149/change_coord/l_5.46/result/scf_33'"
      ]
     },
     "execution_count": 3,
     "metadata": {},
     "output_type": "execute_result"
    }
   ],
   "source": [
    "d"
   ]
  },
  {
   "cell_type": "code",
   "execution_count": 4,
   "metadata": {},
   "outputs": [
    {
     "name": "stdout",
     "output_type": "stream",
     "text": [
      "['lattice 5.468728 0.0 0.0', 'lattice 0.0 5.468728 0.0', 'lattice 0.0 0.0 5.468728']\n"
     ]
    }
   ],
   "source": [
    "cell = qel.get_cell()\n",
    "n2p2_cell = []\n",
    "for l_vec in cell:\n",
    "    l_vec = [str(i) for i in list(l_vec)]\n",
    "    tmp = ' '.join(l_vec)\n",
    "    n2p2_cell.append(f'lattice {tmp}')\n",
    "print(n2p2_cell)"
   ]
  },
  {
   "cell_type": "code",
   "execution_count": 5,
   "metadata": {},
   "outputs": [],
   "source": [
    "coord = qel.get_coord()\n",
    "force = qel.get_force()\n",
    "species = 'Si'"
   ]
  },
  {
   "cell_type": "code",
   "execution_count": 6,
   "metadata": {},
   "outputs": [
    {
     "name": "stdout",
     "output_type": "stream",
     "text": [
      "['atom 2.471865056 4.807011911999999 1.5859311199999997 Si 0 0 -8.319549128065173 -7.143044030314033 0.7390475273548072', 'atom 0.12031201599999998 0.23515530399999995 2.8710822 Si 0 0 1.7571368711454656 -0.22649630927733103 -0.7640086671521421', 'atom 1.9085860719999996 1.9523358959999997 5.047635944 Si 0 0 -0.33090343914767745 0.8364891103785742 -0.5002682833308221', 'atom 0.043749824 3.8663906959999994 1.099214328 Si 0 0 1.9466147543358527 -0.8499745612192084 1.02164009445414', 'atom 4.779668271999999 4.982011207999999 4.823418095999999 Si 0 0 -1.6576896382825403 0.5699042195839324 -0.6081290168068333', 'atom 3.4398299119999995 0.8640590239999999 1.110151784 Si 0 0 -20.95490076112295 -19.387310392915058 -21.001902974921553', 'atom 4.3749823999999995 1.8867111599999997 1.72264932 Si 0 0 26.040697014438162 28.342146280502817 17.370086432728343', 'atom 3.494517192 3.713266312 3.051550224 Si 0 0 1.5185945837016577 -2.1417143167396877 3.743534887674062']\n"
     ]
    }
   ],
   "source": [
    "n2p2_atom = []\n",
    "for c, f in zip(coord, force):\n",
    "    c = [str(i) for i in list(c)]\n",
    "    f = [str(i) for i in list(f)]\n",
    "    tmp_c = ' '.join(c)\n",
    "    tmp_f = ' '.join(f)\n",
    "    n2p2_atom.append(f'atom {tmp_c} {species} 0 0 {tmp_f}')\n",
    "print(n2p2_atom)"
   ]
  },
  {
   "cell_type": "code",
   "execution_count": 7,
   "metadata": {},
   "outputs": [],
   "source": [
    "energy = qel.get_energy()\n",
    "n2p2_energy = f'energy {energy}'\n",
    "\n",
    "n2p2_charge = 'charge 0'"
   ]
  },
  {
   "cell_type": "code",
   "execution_count": 8,
   "metadata": {},
   "outputs": [],
   "source": [
    "from scf.scf_util import flatten\n",
    "\n",
    "n2p2_block = [\n",
    "    'begin',\n",
    "    n2p2_cell,\n",
    "    n2p2_atom,\n",
    "    n2p2_energy,\n",
    "    n2p2_charge,\n",
    "    'end'\n",
    "]\n",
    "n2p2_block = flatten(n2p2_block)"
   ]
  },
  {
   "cell_type": "code",
   "execution_count": 9,
   "metadata": {},
   "outputs": [],
   "source": [
    "with open(f'{d}/input.data', mode='w') as f:\n",
    "    f.write('\\n'.join(n2p2_block))"
   ]
  },
  {
   "cell_type": "code",
   "execution_count": 11,
   "metadata": {},
   "outputs": [],
   "source": [
    "from create_input.from_scf import N2p2ScfParser\n",
    "\n",
    "\n",
    "path2root = '/Users/y1u0d2/desktop/Lab/result/qe/Si/mp-149/change_coord/l_5.46/result'\n",
    "dirs = glob.glob(f'{path2root}/scf*')\n",
    "d= dirs[0]\n",
    "\n",
    "tmp = N2p2ScfParser(path2scfout=d)"
   ]
  },
  {
   "cell_type": "code",
   "execution_count": 12,
   "metadata": {},
   "outputs": [
    {
     "name": "stdout",
     "output_type": "stream",
     "text": [
      "begin\n",
      "lattice 5.468728 0.0 0.0\n",
      "lattice 0.0 5.468728 0.0\n",
      "lattice 0.0 0.0 5.468728\n",
      "atom 2.471865056 4.807011911999999 1.5859311199999997 Si 0 0 -8.319549128065173 -7.143044030314033 0.7390475273548072\n",
      "atom 0.12031201599999998 0.23515530399999995 2.8710822 Si 0 0 1.7571368711454656 -0.22649630927733103 -0.7640086671521421\n",
      "atom 1.9085860719999996 1.9523358959999997 5.047635944 Si 0 0 -0.33090343914767745 0.8364891103785742 -0.5002682833308221\n",
      "atom 0.043749824 3.8663906959999994 1.099214328 Si 0 0 1.9466147543358527 -0.8499745612192084 1.02164009445414\n",
      "atom 4.779668271999999 4.982011207999999 4.823418095999999 Si 0 0 -1.6576896382825403 0.5699042195839324 -0.6081290168068333\n",
      "atom 3.4398299119999995 0.8640590239999999 1.110151784 Si 0 0 -20.95490076112295 -19.387310392915058 -21.001902974921553\n",
      "atom 4.3749823999999995 1.8867111599999997 1.72264932 Si 0 0 26.040697014438162 28.342146280502817 17.370086432728343\n",
      "atom 3.494517192 3.713266312 3.051550224 Si 0 0 1.5185945837016577 -2.1417143167396877 3.743534887674062\n",
      "energy -5065.650847744\n",
      "charge 0.0\n",
      "end\n"
     ]
    }
   ],
   "source": [
    "for i in tmp.n2p2_block:\n",
    "    print(i)"
   ]
  },
  {
   "cell_type": "code",
   "execution_count": null,
   "metadata": {},
   "outputs": [],
   "source": []
  },
  {
   "cell_type": "code",
   "execution_count": null,
   "metadata": {},
   "outputs": [],
   "source": []
  }
 ],
 "metadata": {
  "kernelspec": {
   "display_name": "Python 3.10.4 ('ml')",
   "language": "python",
   "name": "python3"
  },
  "language_info": {
   "codemirror_mode": {
    "name": "ipython",
    "version": 3
   },
   "file_extension": ".py",
   "mimetype": "text/x-python",
   "name": "python",
   "nbconvert_exporter": "python",
   "pygments_lexer": "ipython3",
   "version": "3.10.4"
  },
  "orig_nbformat": 4,
  "vscode": {
   "interpreter": {
    "hash": "523738ac47dcf7681d48eb184ac702eac622ded297e68c9c931bbc5de5caff01"
   }
  }
 },
 "nbformat": 4,
 "nbformat_minor": 2
}
