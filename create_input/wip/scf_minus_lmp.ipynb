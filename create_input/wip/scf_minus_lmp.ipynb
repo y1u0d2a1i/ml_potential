{
 "cells": [
  {
   "cell_type": "code",
   "execution_count": 1,
   "metadata": {},
   "outputs": [],
   "source": [
    "from create_input.from_scf_minus_lmp import ScfMinusLammpsN2p2"
   ]
  },
  {
   "cell_type": "code",
   "execution_count": 2,
   "metadata": {},
   "outputs": [],
   "source": [
    "path2target = '/Users/y1u0d2/desktop/Lab/data/qe_data/Si/mp-149/0bGQj603QLrk'\n",
    "\n",
    "obj = ScfMinusLammpsN2p2(path2scfout=path2target, dump_filename='dump.out')"
   ]
  },
  {
   "cell_type": "code",
   "execution_count": 3,
   "metadata": {},
   "outputs": [
    {
     "data": {
      "text/plain": [
       "-5076.042580394071"
      ]
     },
     "execution_count": 3,
     "metadata": {},
     "output_type": "execute_result"
    }
   ],
   "source": [
    "obj.get_calced_energy()"
   ]
  },
  {
   "cell_type": "code",
   "execution_count": 8,
   "metadata": {},
   "outputs": [
    {
     "data": {
      "text/plain": [
       "array([[2.565 , 4.8792, 2.3085],\n",
       "       [0.7809, 0.1995, 3.4029],\n",
       "       [1.4592, 1.6929, 4.9647],\n",
       "       [0.4902, 3.2433, 1.14  ],\n",
       "       [4.9533, 5.1471, 4.9761],\n",
       "       [3.4542, 0.3876, 0.5529],\n",
       "       [4.5087, 2.4909, 1.8354],\n",
       "       [2.9298, 3.8589, 3.9672]])"
      ]
     },
     "execution_count": 8,
     "metadata": {},
     "output_type": "execute_result"
    }
   ],
   "source": [
    "obj.qel.get_coord()"
   ]
  },
  {
   "cell_type": "code",
   "execution_count": 9,
   "metadata": {},
   "outputs": [
    {
     "data": {
      "text/plain": [
       "array([[-0.19560689,  0.15132923, -0.49287533],\n",
       "       [-0.11282861,  0.09136685, -0.05895691],\n",
       "       [ 0.15825122,  0.11946712,  0.14451992],\n",
       "       [ 0.5215626 ,  0.26742396, -0.31757878],\n",
       "       [ 0.08170944, -0.24841359, -0.05650934],\n",
       "       [-0.13629238,  0.29990386,  0.05502596],\n",
       "       [-0.53186534, -0.30295117,  0.27438966],\n",
       "       [ 0.21506995, -0.37812626,  0.45198479]])"
      ]
     },
     "execution_count": 9,
     "metadata": {},
     "output_type": "execute_result"
    }
   ],
   "source": [
    "obj.qel.get_force()"
   ]
  },
  {
   "cell_type": "code",
   "execution_count": null,
   "metadata": {},
   "outputs": [],
   "source": []
  }
 ],
 "metadata": {
  "kernelspec": {
   "display_name": "Python 3.10.4 ('bq')",
   "language": "python",
   "name": "python3"
  },
  "language_info": {
   "codemirror_mode": {
    "name": "ipython",
    "version": 3
   },
   "file_extension": ".py",
   "mimetype": "text/x-python",
   "name": "python",
   "nbconvert_exporter": "python",
   "pygments_lexer": "ipython3",
   "version": "3.10.4"
  },
  "orig_nbformat": 4,
  "vscode": {
   "interpreter": {
    "hash": "afbdfdb411ea127d90d9590b51ffcad44ff5285b8a92d4a65a7f07728951d293"
   }
  }
 },
 "nbformat": 4,
 "nbformat_minor": 2
}
