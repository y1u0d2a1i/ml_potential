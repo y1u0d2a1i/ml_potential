{
 "cells": [
  {
   "cell_type": "code",
   "execution_count": 3,
   "metadata": {},
   "outputs": [],
   "source": [
    "import numpy as np\n",
    "import pandas as pd\n",
    "import matplotlib.pyplot as plt\n",
    "import os"
   ]
  },
  {
   "cell_type": "code",
   "execution_count": 7,
   "metadata": {},
   "outputs": [],
   "source": [
    "path2input = '/Users/y1u0d2/desktop/Lab/result/n2p2/Si/88/data'\n",
    "\n",
    "with open(os.path.join(path2input, 'input.data'), mode='r') as f:\n",
    "    lines = [s.strip() for s in f.readlines()]\n",
    "    pathes = [l.split(' ')[1] for l in lines if 'comment' in l]"
   ]
  },
  {
   "cell_type": "code",
   "execution_count": 9,
   "metadata": {},
   "outputs": [
    {
     "name": "stdout",
     "output_type": "stream",
     "text": [
      "/Users/y1u0d2/desktop/Lab/result/qe/Si/mp-149_dimer/coord/01/result/scf_33\n",
      "/Users/y1u0d2/desktop/Lab/result/qe/Si/mp-149_dimer/coord/01/result/scf_60\n",
      "/Users/y1u0d2/desktop/Lab/result/qe/Si/mp-149_dimer/coord/01/result/scf_58\n",
      "/Users/y1u0d2/desktop/Lab/result/qe/Si/mp-149_dimer/coord/01/result/scf_67\n",
      "/Users/y1u0d2/desktop/Lab/result/qe/Si/mp-149_dimer/coord/01/result/scf_51\n",
      "/Users/y1u0d2/desktop/Lab/result/qe/Si/mp-149_dimer/coord/01/result/scf_56\n",
      "/Users/y1u0d2/desktop/Lab/result/qe/Si/mp-149_dimer/coord/01/result/scf_35\n",
      "/Users/y1u0d2/desktop/Lab/result/qe/Si/mp-149_dimer/coord/01/result/scf_57\n",
      "/Users/y1u0d2/desktop/Lab/result/qe/Si/mp-149_dimer/coord/01/result/scf_50\n",
      "/Users/y1u0d2/desktop/Lab/result/qe/Si/mp-149_dimer/coord/01/result/scf_59\n",
      "/Users/y1u0d2/desktop/Lab/result/qe/Si/mp-149_dimer/coord/01/result/scf_66\n",
      "/Users/y1u0d2/desktop/Lab/result/qe/Si/mp-149_dimer/coord/01/result/scf_61\n",
      "/Users/y1u0d2/desktop/Lab/result/qe/Si/mp-149_dimer/coord/01/result/scf_7\n",
      "/Users/y1u0d2/desktop/Lab/result/qe/Si/mp-149_dimer/coord/01/result/scf_9\n",
      "/Users/y1u0d2/desktop/Lab/result/qe/Si/mp-149_dimer/coord/01/result/scf_8\n",
      "/Users/y1u0d2/desktop/Lab/result/qe/Si/mp-149_dimer/coord/01/result/scf_6\n",
      "/Users/y1u0d2/desktop/Lab/result/qe/Si/mp-149_dimer/coord/01/result/scf_43\n",
      "/Users/y1u0d2/desktop/Lab/result/qe/Si/mp-149_dimer/coord/01/result/scf_44\n",
      "/Users/y1u0d2/desktop/Lab/result/qe/Si/mp-149_dimer/coord/01/result/scf_21\n",
      "/Users/y1u0d2/desktop/Lab/result/qe/Si/mp-149_dimer/coord/01/result/scf_19\n",
      "/Users/y1u0d2/desktop/Lab/result/qe/Si/mp-149_dimer/coord/01/result/scf_26\n",
      "/Users/y1u0d2/desktop/Lab/result/qe/Si/mp-149_dimer/coord/01/result/scf_10\n",
      "/Users/y1u0d2/desktop/Lab/result/qe/Si/mp-149_dimer/coord/01/result/scf_28\n",
      "/Users/y1u0d2/desktop/Lab/result/qe/Si/mp-149_dimer/coord/01/result/scf_17\n",
      "/Users/y1u0d2/desktop/Lab/result/qe/Si/mp-149_dimer/coord/01/result/scf_45\n",
      "/Users/y1u0d2/desktop/Lab/result/qe/Si/mp-149_dimer/coord/01/result/scf_42\n",
      "/Users/y1u0d2/desktop/Lab/result/qe/Si/mp-149_dimer/coord/01/result/scf_29\n",
      "/Users/y1u0d2/desktop/Lab/result/qe/Si/mp-149_dimer/coord/01/result/scf_16\n",
      "/Users/y1u0d2/desktop/Lab/result/qe/Si/mp-149_dimer/coord/01/result/scf_11\n",
      "/Users/y1u0d2/desktop/Lab/result/qe/Si/mp-149_dimer/coord/01/result/scf_18\n",
      "/Users/y1u0d2/desktop/Lab/result/qe/Si/mp-149_dimer/coord/01/result/scf_27\n",
      "/Users/y1u0d2/desktop/Lab/result/qe/Si/mp-149_dimer/coord/01/result/scf_20\n",
      "/Users/y1u0d2/desktop/Lab/result/qe/Si/mp-149_dimer/coord/01/result/scf_63\n",
      "/Users/y1u0d2/desktop/Lab/result/qe/Si/mp-149_dimer/coord/01/result/scf_55\n",
      "/Users/y1u0d2/desktop/Lab/result/qe/Si/mp-149_dimer/coord/01/result/scf_52\n",
      "/Users/y1u0d2/desktop/Lab/result/qe/Si/mp-149_dimer/coord/01/result/scf_39\n",
      "/Users/y1u0d2/desktop/Lab/result/qe/Si/mp-149_dimer/coord/01/result/scf_37\n",
      "/Users/y1u0d2/desktop/Lab/result/qe/Si/mp-149_dimer/coord/01/result/scf_30\n",
      "/Users/y1u0d2/desktop/Lab/result/qe/Si/mp-149_dimer/coord/01/result/scf_53\n",
      "/Users/y1u0d2/desktop/Lab/result/qe/Si/mp-149_dimer/coord/01/result/scf_54\n",
      "/Users/y1u0d2/desktop/Lab/result/qe/Si/mp-149_dimer/coord/01/result/scf_62\n",
      "/Users/y1u0d2/desktop/Lab/result/qe/Si/mp-149_dimer/coord/01/result/scf_36\n",
      "/Users/y1u0d2/desktop/Lab/result/qe/Si/mp-149_dimer/coord/01/result/scf_38\n",
      "/Users/y1u0d2/desktop/Lab/result/qe/Si/mp-149_dimer/coord/01/result/scf_3\n",
      "/Users/y1u0d2/desktop/Lab/result/qe/Si/mp-149_dimer/coord/01/result/scf_4\n",
      "/Users/y1u0d2/desktop/Lab/result/qe/Si/mp-149_dimer/coord/01/result/scf_5\n",
      "/Users/y1u0d2/desktop/Lab/result/qe/Si/mp-149_dimer/coord/01/result/scf_25\n",
      "/Users/y1u0d2/desktop/Lab/result/qe/Si/mp-149_dimer/coord/01/result/scf_22\n",
      "/Users/y1u0d2/desktop/Lab/result/qe/Si/mp-149_dimer/coord/01/result/scf_14\n",
      "/Users/y1u0d2/desktop/Lab/result/qe/Si/mp-149_dimer/coord/01/result/scf_13\n",
      "/Users/y1u0d2/desktop/Lab/result/qe/Si/mp-149_dimer/coord/01/result/scf_47\n",
      "/Users/y1u0d2/desktop/Lab/result/qe/Si/mp-149_dimer/coord/01/result/scf_40\n",
      "/Users/y1u0d2/desktop/Lab/result/qe/Si/mp-149_dimer/coord/01/result/scf_49\n",
      "/Users/y1u0d2/desktop/Lab/result/qe/Si/mp-149_dimer/coord/01/result/scf_71\n",
      "/Users/y1u0d2/desktop/Lab/result/qe/Si/mp-149_dimer/coord/01/result/scf_12\n",
      "/Users/y1u0d2/desktop/Lab/result/qe/Si/mp-149_dimer/coord/01/result/scf_15\n",
      "/Users/y1u0d2/desktop/Lab/result/qe/Si/mp-149_dimer/coord/01/result/scf_23\n",
      "/Users/y1u0d2/desktop/Lab/result/qe/Si/mp-149_dimer/coord/01/result/scf_24\n",
      "/Users/y1u0d2/desktop/Lab/result/qe/Si/mp-149_dimer/coord/01/result/scf_48\n",
      "/Users/y1u0d2/desktop/Lab/result/qe/Si/mp-149_dimer/coord/01/result/scf_41\n",
      "/Users/y1u0d2/desktop/Lab/result/qe/Si/mp-149_dimer/coord/01/result/scf_46\n"
     ]
    }
   ],
   "source": [
    "for path in pathes:\n",
    "    print(path)"
   ]
  },
  {
   "cell_type": "code",
   "execution_count": null,
   "metadata": {},
   "outputs": [],
   "source": []
  }
 ],
 "metadata": {
  "kernelspec": {
   "display_name": "ml",
   "language": "python",
   "name": "python3"
  },
  "language_info": {
   "codemirror_mode": {
    "name": "ipython",
    "version": 3
   },
   "file_extension": ".py",
   "mimetype": "text/x-python",
   "name": "python",
   "nbconvert_exporter": "python",
   "pygments_lexer": "ipython3",
   "version": "3.10.6"
  },
  "orig_nbformat": 4,
  "vscode": {
   "interpreter": {
    "hash": "523738ac47dcf7681d48eb184ac702eac622ded297e68c9c931bbc5de5caff01"
   }
  }
 },
 "nbformat": 4,
 "nbformat_minor": 2
}
