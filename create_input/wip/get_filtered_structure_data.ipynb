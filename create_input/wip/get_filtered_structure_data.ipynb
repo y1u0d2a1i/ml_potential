{
 "cells": [
  {
   "cell_type": "code",
   "execution_count": 1,
   "metadata": {},
   "outputs": [],
   "source": [
    "import glob\n",
    "import os\n",
    "from constants.constants import get_silicon_all_scf_data\n",
    "from create_input.from_scf import N2p2ScfParser\n",
    "from scf.scf_util import flatten\n",
    "from create_input.from_scf_minus_lmp import ScfMinusLammpsN2p2\n",
    "from create_input.get_filtered_structure_data import get_filtered_structure_path"
   ]
  },
  {
   "cell_type": "code",
   "execution_count": 2,
   "metadata": {},
   "outputs": [],
   "source": [
    "all_dirs = get_silicon_all_scf_data()"
   ]
  },
  {
   "cell_type": "code",
   "execution_count": 3,
   "metadata": {},
   "outputs": [
    {
     "data": {
      "text/plain": [
       "7822"
      ]
     },
     "execution_count": 3,
     "metadata": {},
     "output_type": "execute_result"
    }
   ],
   "source": [
    "len(all_dirs)"
   ]
  },
  {
   "cell_type": "code",
   "execution_count": 4,
   "metadata": {},
   "outputs": [
    {
     "name": "stdout",
     "output_type": "stream",
     "text": [
      "/Users/y1u0d2/desktop/Lab/data/qe_data/Si/mp-165/RVLH2KDmqMz4DG\n",
      "/Users/y1u0d2/desktop/Lab/data/qe_data/Si/mp-165/hqT7k58OIYh\n",
      "/Users/y1u0d2/desktop/Lab/data/qe_data/Si/mp-165/gO644qjJGX5qYh83cnW\n",
      "/Users/y1u0d2/desktop/Lab/data/qe_data/Si/mp-165/Lw6dn4b37OyV60\n",
      "/Users/y1u0d2/desktop/Lab/data/qe_data/Si/mp-16220/5JEhfsqN7p8Su5b\n",
      "/Users/y1u0d2/desktop/Lab/data/qe_data/Si/mp-16220/GbmxootSjJesjc5AZ\n",
      "/Users/y1u0d2/desktop/Lab/data/qe_data/Si/mp-16220/vRb6QZTee1LhtDi\n",
      "/Users/y1u0d2/desktop/Lab/data/qe_data/Si/mp-16220/BDoCerysavou3eDBdD1\n",
      "/Users/y1u0d2/desktop/Lab/data/qe_data/Si/mp-16220/z4CqrF5mmhQ\n",
      "/Users/y1u0d2/desktop/Lab/data/qe_data/Si/mp-16220/VNGwtqEdx5\n",
      "/Users/y1u0d2/desktop/Lab/data/qe_data/Si/mp-16220/bcGOsbKqBr5AJsLRcAC9\n",
      "/Users/y1u0d2/desktop/Lab/data/qe_data/Si/mp-16220/HWwvsSntXmzqq2Jy\n",
      "/Users/y1u0d2/desktop/Lab/data/qe_data/Si/mp-16220/6tPwCvXvu7w36gBQpQ\n"
     ]
    }
   ],
   "source": [
    "# scf - zbl\n",
    "\n",
    "path2out = '/Users/y1u0d2/desktop/Lab/result/n2p2/Si/16/data'\n",
    "energy_threshold = -650\n",
    "\n",
    "filtered_data = []\n",
    "\n",
    "# all_dirs = list(filter(lambda x: 'mp-149_dimer' not in x, all_dirs))\n",
    "\n",
    "for d in all_dirs:\n",
    "    try:\n",
    "        n2p2_obj = ScfMinusLammpsN2p2(path2scfout=d, dump_filename='dump.out', is_comment=True)\n",
    "        if n2p2_obj.get_calced_energy() / n2p2_obj.num_atom > energy_threshold:\n",
    "            filtered_data.append(d)\n",
    "            # print(n2p2_obj.get_calced_energy())\n",
    "            # print(f'under energy threshold: {d}')\n",
    "            # continue\n",
    "    except:\n",
    "        print(d)\n",
    "        continue"
   ]
  },
  {
   "cell_type": "code",
   "execution_count": null,
   "metadata": {},
   "outputs": [],
   "source": []
  },
  {
   "cell_type": "code",
   "execution_count": null,
   "metadata": {},
   "outputs": [],
   "source": []
  },
  {
   "cell_type": "code",
   "execution_count": null,
   "metadata": {},
   "outputs": [],
   "source": []
  },
  {
   "cell_type": "code",
   "execution_count": null,
   "metadata": {},
   "outputs": [],
   "source": []
  }
 ],
 "metadata": {
  "kernelspec": {
   "display_name": "Python 3.10.4 ('ml')",
   "language": "python",
   "name": "python3"
  },
  "language_info": {
   "codemirror_mode": {
    "name": "ipython",
    "version": 3
   },
   "file_extension": ".py",
   "mimetype": "text/x-python",
   "name": "python",
   "nbconvert_exporter": "python",
   "pygments_lexer": "ipython3",
   "version": "3.10.6"
  },
  "orig_nbformat": 4,
  "vscode": {
   "interpreter": {
    "hash": "523738ac47dcf7681d48eb184ac702eac622ded297e68c9c931bbc5de5caff01"
   }
  }
 },
 "nbformat": 4,
 "nbformat_minor": 2
}
