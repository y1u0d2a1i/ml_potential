{
 "cells": [
  {
   "cell_type": "code",
   "execution_count": 1,
   "metadata": {
    "pycharm": {
     "name": "#%%\n"
    }
   },
   "outputs": [],
   "source": [
    "# zblでlammps走らせる\n",
    "# エネルギーと力取得\n",
    "# 第一原理と比較"
   ]
  },
  {
   "cell_type": "code",
   "execution_count": 2,
   "metadata": {
    "pycharm": {
     "name": "#%%\n"
    }
   },
   "outputs": [],
   "source": [
    "from ase.io import read\n",
    "import os\n",
    "\n",
    "path2scf = '/Users/y1u0d2/desktop/Lab/result/qe/Si/mp-165/coord/l_2/scf_0'\n",
    "path2template = '/Users/y1u0d2/desktop/Lab/result/lammps/Si/ZBL'\n",
    "path2out = '/Users/y1u0d2/desktop/Lab/result/lammps/Si/ZBL/test'\n",
    "structure = read(os.path.join(path2scf, 'scf.in'), format='espresso-in')"
   ]
  },
  {
   "cell_type": "code",
   "execution_count": 3,
   "metadata": {
    "pycharm": {
     "name": "#%%\n"
    }
   },
   "outputs": [],
   "source": [
    "import shutil\n",
    "\n",
    "shutil.copy(os.path.join(path2template, 'zbl.in'), path2out)\n",
    "\n",
    "with open(os.path.join(path2out, 'zbl.in'), mode='r') as f:\n",
    "    l_strip = [s.strip() for s in f.readlines()]\n"
   ]
  },
  {
   "cell_type": "code",
   "execution_count": 4,
   "metadata": {
    "pycharm": {
     "name": "#%%\n"
    }
   },
   "outputs": [],
   "source": [
    "# l_strip"
   ]
  },
  {
   "cell_type": "code",
   "execution_count": 5,
   "metadata": {
    "pycharm": {
     "name": "#%%\n"
    }
   },
   "outputs": [
    {
     "data": {
      "text/plain": [
       "Cell([[7.500964, 0.0, 0.0], [-4.050482, 6.46923, 0.0], [0.0, 0.0, 12.531372]])"
      ]
     },
     "execution_count": 5,
     "metadata": {},
     "output_type": "execute_result"
    }
   ],
   "source": [
    "structure.get_cell()"
   ]
  },
  {
   "cell_type": "code",
   "execution_count": 6,
   "metadata": {
    "pycharm": {
     "name": "#%%\n"
    }
   },
   "outputs": [
    {
     "data": {
      "text/plain": [
       "array([[0.4003, 0.2027, 0.3135],\n",
       "       [0.8813, 0.1857, 0.3365],\n",
       "       [0.4053, 0.6787, 0.3635],\n",
       "       [0.9303, 0.7657, 0.3035],\n",
       "       [0.4283, 0.2467, 0.8435],\n",
       "       [0.9083, 0.2307, 0.8015],\n",
       "       [0.3853, 0.7157, 0.8335],\n",
       "       [0.8573, 0.7327, 0.8485],\n",
       "       [0.2307, 0.4043, 0.1025],\n",
       "       [0.6887, 0.3753, 0.0915],\n",
       "       [0.2157, 0.9253, 0.0875],\n",
       "       [0.6957, 0.8603, 0.1215],\n",
       "       [0.2007, 0.3523, 0.6145],\n",
       "       [0.7607, 0.4193, 0.6145],\n",
       "       [0.2117, 0.9123, 0.5955],\n",
       "       [0.6877, 0.8393, 0.6115],\n",
       "       [0.3333, 0.2197, 0.5135],\n",
       "       [0.9083, 0.2067, 0.5155],\n",
       "       [0.3613, 0.7147, 0.5455],\n",
       "       [0.8473, 0.7067, 0.4845],\n",
       "       [0.4073, 0.2637, 0.99  ],\n",
       "       [0.9083, 0.2197, 0.99  ],\n",
       "       [0.4253, 0.6907, 0.99  ],\n",
       "       [0.9063, 0.6977, 0.99  ],\n",
       "       [0.2277, 0.3363, 0.2195],\n",
       "       [0.7197, 0.4043, 0.3095],\n",
       "       [0.1907, 0.9273, 0.3085],\n",
       "       [0.7527, 0.9193, 0.2195],\n",
       "       [0.1817, 0.3853, 0.7335],\n",
       "       [0.6807, 0.4083, 0.7275],\n",
       "       [0.2087, 0.8683, 0.7365],\n",
       "       [0.6677, 0.8363, 0.7305]])"
      ]
     },
     "execution_count": 6,
     "metadata": {},
     "output_type": "execute_result"
    }
   ],
   "source": [
    "structure.get_scaled_positions()"
   ]
  },
  {
   "cell_type": "code",
   "execution_count": 7,
   "metadata": {
    "pycharm": {
     "name": "#%%\n"
    }
   },
   "outputs": [
    {
     "data": {
      "text/plain": [
       "['atom_style      atomic',\n",
       " 'units           metal',\n",
       " 'boundary        p p p',\n",
       " 'atom_modify map array sort 0 0',\n",
       " '',\n",
       " 'lattice custom 1.0 &',\n",
       " '',\n",
       " 'region myreg block 0 1 0 1 0 1',\n",
       " 'create_box      1 myreg',\n",
       " '',\n",
       " 'create_atoms    1 box',\n",
       " '',\n",
       " 'pair_style      zbl 1.2 2.0',\n",
       " 'pair_coeff      * * 14 14',\n",
       " '',\n",
       " 'mass 1 28.0855',\n",
       " '',\n",
       " 'dump 1 all custom 1 dump.out id type x y z fx fy fz',\n",
       " '#compute 1 all pe',\n",
       " '',\n",
       " 'run 0']"
      ]
     },
     "execution_count": 7,
     "metadata": {},
     "output_type": "execute_result"
    }
   ],
   "source": [
    "l_strip"
   ]
  },
  {
   "cell_type": "code",
   "execution_count": 8,
   "metadata": {
    "pycharm": {
     "name": "#%%\n"
    }
   },
   "outputs": [],
   "source": [
    "start_idx = None\n",
    "for i, line in enumerate(l_strip):\n",
    "    if 'lattice custom 1.0 &' in line:\n",
    "        start_idx = i\n",
    "        break"
   ]
  },
  {
   "cell_type": "code",
   "execution_count": 9,
   "metadata": {
    "pycharm": {
     "name": "#%%\n"
    }
   },
   "outputs": [],
   "source": [
    "num_atoms = len(list(filter(lambda x: 'basis' in x, l_strip)))"
   ]
  },
  {
   "cell_type": "code",
   "execution_count": 10,
   "metadata": {
    "pycharm": {
     "name": "#%%\n"
    }
   },
   "outputs": [],
   "source": [
    "cell_block = l_strip[start_idx+1:start_idx+4]"
   ]
  },
  {
   "cell_type": "code",
   "execution_count": 11,
   "metadata": {
    "pycharm": {
     "name": "#%%\n"
    }
   },
   "outputs": [],
   "source": [
    "atom_block = l_strip[start_idx+4: start_idx+4+num_atoms]"
   ]
  },
  {
   "cell_type": "code",
   "execution_count": 12,
   "metadata": {
    "pycharm": {
     "name": "#%%\n"
    }
   },
   "outputs": [],
   "source": [
    "cell = list(map(lambda x: list(x), structure.get_cell()))"
   ]
  },
  {
   "cell_type": "code",
   "execution_count": 13,
   "metadata": {
    "pycharm": {
     "name": "#%%\n"
    }
   },
   "outputs": [],
   "source": [
    "cell[0].insert(0, 'a1')\n",
    "cell[1].insert(0, 'a2')\n",
    "cell[2].insert(0, 'a3')\n",
    "for i in cell:\n",
    "    i.append('&')"
   ]
  },
  {
   "cell_type": "code",
   "execution_count": 14,
   "metadata": {
    "pycharm": {
     "name": "#%%\n"
    }
   },
   "outputs": [],
   "source": [
    "cell = [' '.join(list(map(str, i))) for i in cell]"
   ]
  },
  {
   "cell_type": "code",
   "execution_count": 15,
   "metadata": {
    "pycharm": {
     "name": "#%%\n"
    }
   },
   "outputs": [],
   "source": [
    "atoms = structure.get_scaled_positions()"
   ]
  },
  {
   "cell_type": "code",
   "execution_count": 16,
   "metadata": {
    "pycharm": {
     "name": "#%%\n"
    }
   },
   "outputs": [],
   "source": [
    "atoms = list(map(lambda x: list(x), structure.get_scaled_positions()))"
   ]
  },
  {
   "cell_type": "code",
   "execution_count": 17,
   "metadata": {
    "pycharm": {
     "name": "#%%\n"
    }
   },
   "outputs": [],
   "source": [
    "atoms = []\n",
    "for atom in list(map(lambda x: list(x), structure.get_scaled_positions())):\n",
    "    atom = list(map(lambda x: str(round(x, 6)), atom))\n",
    "    atom.insert(0, 'basis')\n",
    "    atom.append('&')\n",
    "    atoms.append(' '.join(atom))"
   ]
  },
  {
   "cell_type": "code",
   "execution_count": 18,
   "metadata": {
    "pycharm": {
     "name": "#%%\n"
    }
   },
   "outputs": [
    {
     "data": {
      "text/plain": [
       "['basis 0.4003 0.2027 0.3135 &',\n",
       " 'basis 0.8813 0.1857 0.3365 &',\n",
       " 'basis 0.4053 0.6787 0.3635 &',\n",
       " 'basis 0.9303 0.7657 0.3035 &',\n",
       " 'basis 0.4283 0.2467 0.8435 &',\n",
       " 'basis 0.9083 0.2307 0.8015 &',\n",
       " 'basis 0.3853 0.7157 0.8335 &',\n",
       " 'basis 0.8573 0.7327 0.8485 &',\n",
       " 'basis 0.2307 0.4043 0.1025 &',\n",
       " 'basis 0.6887 0.3753 0.0915 &',\n",
       " 'basis 0.2157 0.9253 0.0875 &',\n",
       " 'basis 0.6957 0.8603 0.1215 &',\n",
       " 'basis 0.2007 0.3523 0.6145 &',\n",
       " 'basis 0.7607 0.4193 0.6145 &',\n",
       " 'basis 0.2117 0.9123 0.5955 &',\n",
       " 'basis 0.6877 0.8393 0.6115 &',\n",
       " 'basis 0.3333 0.2197 0.5135 &',\n",
       " 'basis 0.9083 0.2067 0.5155 &',\n",
       " 'basis 0.3613 0.7147 0.5455 &',\n",
       " 'basis 0.8473 0.7067 0.4845 &',\n",
       " 'basis 0.4073 0.2637 0.99 &',\n",
       " 'basis 0.9083 0.2197 0.99 &',\n",
       " 'basis 0.4253 0.6907 0.99 &',\n",
       " 'basis 0.9063 0.6977 0.99 &',\n",
       " 'basis 0.2277 0.3363 0.2195 &',\n",
       " 'basis 0.7197 0.4043 0.3095 &',\n",
       " 'basis 0.1907 0.9273 0.3085 &',\n",
       " 'basis 0.7527 0.9193 0.2195 &',\n",
       " 'basis 0.1817 0.3853 0.7335 &',\n",
       " 'basis 0.6807 0.4083 0.7275 &',\n",
       " 'basis 0.2087 0.8683 0.7365 &',\n",
       " 'basis 0.6677 0.8363 0.7305 &']"
      ]
     },
     "execution_count": 18,
     "metadata": {},
     "output_type": "execute_result"
    }
   ],
   "source": [
    "atoms"
   ]
  },
  {
   "cell_type": "code",
   "execution_count": 19,
   "metadata": {
    "pycharm": {
     "name": "#%%\n"
    }
   },
   "outputs": [],
   "source": [
    "l_strip.insert(start_idx+1, cell)"
   ]
  },
  {
   "cell_type": "code",
   "execution_count": 20,
   "metadata": {
    "pycharm": {
     "name": "#%%\n"
    }
   },
   "outputs": [
    {
     "data": {
      "text/plain": [
       "['atom_style      atomic',\n",
       " 'units           metal',\n",
       " 'boundary        p p p',\n",
       " 'atom_modify map array sort 0 0',\n",
       " '',\n",
       " 'lattice custom 1.0 &',\n",
       " ['a1 7.500964 0.0 0.0 &',\n",
       "  'a2 -4.050482 6.46923 0.0 &',\n",
       "  'a3 0.0 0.0 12.531372 &'],\n",
       " '',\n",
       " 'region myreg block 0 1 0 1 0 1',\n",
       " 'create_box      1 myreg',\n",
       " '',\n",
       " 'create_atoms    1 box',\n",
       " '',\n",
       " 'pair_style      zbl 1.2 2.0',\n",
       " 'pair_coeff      * * 14 14',\n",
       " '',\n",
       " 'mass 1 28.0855',\n",
       " '',\n",
       " 'dump 1 all custom 1 dump.out id type x y z fx fy fz',\n",
       " '#compute 1 all pe',\n",
       " '',\n",
       " 'run 0']"
      ]
     },
     "execution_count": 20,
     "metadata": {},
     "output_type": "execute_result"
    }
   ],
   "source": [
    "l_strip"
   ]
  },
  {
   "cell_type": "code",
   "execution_count": 21,
   "metadata": {
    "pycharm": {
     "name": "#%%\n"
    }
   },
   "outputs": [],
   "source": [
    "# l_strip[start_idx+4: start_idx+4+num_atoms] = atoms\n",
    "l_strip.insert(start_idx+2, atoms)"
   ]
  },
  {
   "cell_type": "code",
   "execution_count": 22,
   "metadata": {
    "pycharm": {
     "name": "#%%\n"
    }
   },
   "outputs": [],
   "source": [
    "from ml_utils.util import flatten\n",
    "\n",
    "l_strip = flatten(l_strip)"
   ]
  },
  {
   "cell_type": "code",
   "execution_count": 23,
   "metadata": {
    "pycharm": {
     "name": "#%%\n"
    }
   },
   "outputs": [],
   "source": [
    "with open(os.path.join(path2out, 'zbl.in'), mode='w') as f:\n",
    "    f.write('\\n'.join(l_strip))"
   ]
  },
  {
   "cell_type": "code",
   "execution_count": 24,
   "metadata": {
    "pycharm": {
     "name": "#%%\n"
    }
   },
   "outputs": [
    {
     "data": {
      "text/plain": [
       "array([[ 2.18160319e+00,  1.31131292e+00,  3.92858512e+00],\n",
       "       [ 5.85842507e+00,  1.20133601e+00,  4.21680668e+00],\n",
       "       [ 2.91078576e-01,  4.39066640e+00,  4.55515372e+00],\n",
       "       [ 3.87669274e+00,  4.95348941e+00,  3.80327140e+00],\n",
       "       [ 2.21340897e+00,  1.59595904e+00,  1.05702123e+01],\n",
       "       [ 5.87867940e+00,  1.49245136e+00,  1.00438947e+01],\n",
       "       [-8.80853820e-03,  4.63002791e+00,  1.04448986e+01],\n",
       "       [ 3.46278828e+00,  4.74000482e+00,  1.06328691e+01],\n",
       "       [ 9.28625222e-02,  2.61550969e+00,  1.28446563e+00],\n",
       "       [ 3.64576801e+00,  2.42790202e+00,  1.14662054e+00],\n",
       "       [-2.12995306e+00,  5.98597852e+00,  1.09649505e+00],\n",
       "       [ 1.73379099e+00,  5.56547857e+00,  1.52256170e+00],\n",
       "       [ 7.84586662e-02,  2.27910973e+00,  7.70052809e+00],\n",
       "       [ 4.00761621e+00,  2.71254814e+00,  7.70052809e+00],\n",
       "       [-2.10730065e+00,  5.90187853e+00,  7.46243203e+00],\n",
       "       [ 1.75884340e+00,  5.42962474e+00,  7.66293398e+00],\n",
       "       [ 1.61018041e+00,  1.42128983e+00,  6.43485952e+00],\n",
       "       [ 5.97589097e+00,  1.33718984e+00,  6.45992227e+00],\n",
       "       [-1.84781192e-01,  4.62355868e+00,  6.83586343e+00],\n",
       "       [ 3.49309117e+00,  4.57180484e+00,  6.07144973e+00],\n",
       "       [ 1.98703053e+00,  1.70593595e+00,  1.24060583e+01],\n",
       "       [ 5.92323471e+00,  1.42128983e+00,  1.24060583e+01],\n",
       "       [ 3.92492072e-01,  4.46829716e+00,  1.24060583e+01],\n",
       "       [ 3.97210238e+00,  4.51358177e+00,  1.24060583e+01],\n",
       "       [ 3.45792406e-01,  2.17560205e+00,  2.75063615e+00],\n",
       "       [ 3.76083392e+00,  2.61550969e+00,  3.87845963e+00],\n",
       "       [-2.32557812e+00,  5.99891698e+00,  3.86592826e+00],\n",
       "       [ 1.92236750e+00,  5.94716314e+00,  2.75063615e+00],\n",
       "       [-1.97725556e-01,  2.49259432e+00,  9.19176136e+00],\n",
       "       [ 3.45209439e+00,  2.64138661e+00,  9.11657313e+00],\n",
       "       [-1.95158233e+00,  5.61723241e+00,  9.22935548e+00],\n",
       "       [ 1.62097557e+00,  5.41021705e+00,  9.15416725e+00]])"
      ]
     },
     "execution_count": 24,
     "metadata": {},
     "output_type": "execute_result"
    }
   ],
   "source": [
    "structure.get_positions()"
   ]
  },
  {
   "cell_type": "code",
   "execution_count": 25,
   "metadata": {
    "pycharm": {
     "name": "#%%\n"
    }
   },
   "outputs": [],
   "source": [
    "# run\n",
    "\n",
    "import shutil\n",
    "\n",
    "shutil.copy(os.path.join(path2template, 'zbl.in'), path2out)\n",
    "\n",
    "with open(os.path.join(path2out, 'zbl.in'), mode='r') as f:\n",
    "    l_strip = [s.strip() for s in f.readlines()]\n",
    "\n",
    "# get lattice start index in l_strip\n",
    "start_idx = None\n",
    "for i, line in enumerate(l_strip):\n",
    "    if 'lattice custom 1.0 &' in line:\n",
    "        start_idx = i\n",
    "        break\n",
    "    \n",
    "# num_atoms = len(list(filter(lambda x: 'basis' in x, l_strip)))\n",
    "# cell_block = l_strip[start_idx+1:start_idx+4]\n",
    "# atom_block = l_strip[start_idx+4: start_idx+4+num_atoms]\n",
    "\n",
    "cell = list(map(lambda x: list(x), structure.get_cell()))\n",
    "cell[0].insert(0, 'a1')\n",
    "cell[1].insert(0, 'a2')\n",
    "cell[2].insert(0, 'a3')\n",
    "for i in cell:\n",
    "    i.append('&')\n",
    "cell = [' '.join(list(map(str, i))) for i in cell]\n",
    "\n",
    "atoms = list(map(lambda x: list(x), structure.get_scaled_positions()))\n",
    "atoms = []\n",
    "for atom in list(map(lambda x: list(x), structure.get_scaled_positions())):\n",
    "    atom = list(map(lambda x: str(round(x, 6)), atom))\n",
    "    atom.insert(0, 'basis')\n",
    "    atom.append('&')\n",
    "    atoms.append(' '.join(atom))\n",
    "\n",
    "# l_strip[start_idx+1:start_idx+4] = cell\n",
    "# l_strip[start_idx+4: start_idx+4+num_atoms] = atoms\n",
    "l_strip.insert(start_idx+1, cell)\n",
    "l_strip.insert(start_idx+2, atoms)\n",
    "\n",
    "\n",
    "l_strip = flatten(l_strip)\n",
    "with open(os.path.join(path2out, 'zbl.in'), mode='w') as f:\n",
    "    f.write('\\n'.join(l_strip))"
   ]
  },
  {
   "cell_type": "code",
   "execution_count": 1,
   "metadata": {
    "pycharm": {
     "name": "#%%\n"
    }
   },
   "outputs": [],
   "source": [
    "path2scf = '/Users/y1u0d2/desktop/Lab/result/qe/Si/mp-165/coord/l_2/scf_0'\n",
    "path2template = '/Users/y1u0d2/desktop/Lab/result/lammps/Si/ZBL'\n",
    "path2out = '/Users/y1u0d2/desktop/Lab/result/lammps/Si/ZBL/test'\n",
    "from create_input.lmp.create_lmp_template import CreateLammpsTemplate"
   ]
  },
  {
   "cell_type": "code",
   "execution_count": 2,
   "metadata": {
    "pycharm": {
     "name": "#%%\n"
    }
   },
   "outputs": [
    {
     "name": "stdout",
     "output_type": "stream",
     "text": [
      "A lammps template file is successfully created to [/Users/y1u0d2/desktop/Lab/result/lammps/Si/ZBL/test]\n"
     ]
    }
   ],
   "source": [
    "CreateLammpsTemplate.run(\n",
    "    path2scf=path2scf,\n",
    "    path2template=path2template,\n",
    "    path2out=path2out,\n",
    "    template_filename='zbl.in',\n",
    "    out_filename='zbl.in',\n",
    ")"
   ]
  },
  {
   "cell_type": "code",
   "execution_count": null,
   "metadata": {
    "pycharm": {
     "name": "#%%\n"
    }
   },
   "outputs": [],
   "source": []
  }
 ],
 "metadata": {
  "kernelspec": {
   "display_name": "Python 3.10.4 ('ml')",
   "language": "python",
   "name": "python3"
  },
  "language_info": {
   "codemirror_mode": {
    "name": "ipython",
    "version": 3
   },
   "file_extension": ".py",
   "mimetype": "text/x-python",
   "name": "python",
   "nbconvert_exporter": "python",
   "pygments_lexer": "ipython3",
   "version": "3.10.4"
  },
  "orig_nbformat": 4,
  "vscode": {
   "interpreter": {
    "hash": "523738ac47dcf7681d48eb184ac702eac622ded297e68c9c931bbc5de5caff01"
   }
  }
 },
 "nbformat": 4,
 "nbformat_minor": 2
}