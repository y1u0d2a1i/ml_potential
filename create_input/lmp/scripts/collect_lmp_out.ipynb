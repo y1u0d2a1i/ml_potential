{
 "cells": [
  {
   "cell_type": "code",
   "execution_count": null,
   "metadata": {},
   "outputs": [],
   "source": [
    "import numpy as np\n",
    "import pandas as pd\n",
    "import matplotlib.pyplot as plt\n",
    "from glob import glob\n",
    "import os\n",
    "from ase.io import read\n",
    "\n",
    "from ml_utils.util import flatten, remove_empty_from_array"
   ]
  },
  {
   "cell_type": "code",
   "execution_count": null,
   "metadata": {},
   "outputs": [],
   "source": [
    "path2target = '/Users/y1u0d2/desktop/Lab/data/qe_data/Si/mp-168/0oA5IvYoOQRatauE3q'"
   ]
  },
  {
   "cell_type": "code",
   "execution_count": null,
   "metadata": {},
   "outputs": [],
   "source": [
    "# get energy from lmp output\n",
    "lmp_out_filename = 'log.lammps'\n",
    "with open(os.path.join(path2target, lmp_out_filename), mode='r') as f:\n",
    "    lines = [s.strip() for s in f.readlines()]\n",
    "\n",
    "\n",
    "info_header_idx = None\n",
    "for i, line in enumerate(lines):\n",
    "    if 'TotEng' in line:\n",
    "        info_header_idx = i\n",
    "        break\n",
    "\n",
    "info_from_lmp_log = [remove_empty_from_array(line.split(' ')) for line in lines[info_header_idx: info_header_idx+2]]\n",
    "lmp_log_df = pd.DataFrame(columns=info_from_lmp_log[0], data=info_from_lmp_log[1:], dtype=float)\n",
    "total_energy = lmp_log_df['TotEng'].values[0]\n"
   ]
  },
  {
   "cell_type": "code",
   "execution_count": null,
   "metadata": {},
   "outputs": [],
   "source": [
    "from ml_utils.util import get_param_idx\n",
    "\n",
    "\n",
    "with open(os.path.join(path2target, 'dump.out'), mode='r') as f:\n",
    "    lines = [s.strip() for s in f.readlines()]\n",
    "    \n",
    "num_atom_idx = get_param_idx('NUMBER OF ATOMS', lines)\n",
    "atom_idx = get_param_idx('ITEM: ATOMS', lines)\n",
    "\n",
    "num_atom = int(lines[num_atom_idx+1])\n",
    "atom_header = lines[atom_idx].split(' ')[2:]\n",
    "atom_coords = [i.split(' ') for i in lines[atom_idx+1: atom_idx+1+num_atom]]\n",
    "atom_coords = [list(map(float, i)) for i in atom_coords]\n",
    "atom_df = pd.DataFrame(data=atom_coords, columns=atom_header)"
   ]
  },
  {
   "cell_type": "code",
   "execution_count": null,
   "metadata": {},
   "outputs": [],
   "source": [
    "atom_df[['fx', 'fy', 'fz']].values"
   ]
  },
  {
   "cell_type": "code",
   "execution_count": null,
   "metadata": {},
   "outputs": [],
   "source": [
    "from scf.get_lattice_info import QELattice\n",
    "\n",
    "qel = QELattice(path2target)"
   ]
  },
  {
   "cell_type": "code",
   "execution_count": null,
   "metadata": {},
   "outputs": [],
   "source": [
    "qel.get_force()"
   ]
  },
  {
   "cell_type": "code",
   "execution_count": null,
   "metadata": {},
   "outputs": [],
   "source": [
    "atom_df[['fx', 'fy', 'fz']].values"
   ]
  },
  {
   "cell_type": "code",
   "execution_count": null,
   "metadata": {},
   "outputs": [],
   "source": [
    "qel.get_force() - atom_df[['fx', 'fy', 'fz']].values"
   ]
  },
  {
   "cell_type": "code",
   "execution_count": null,
   "metadata": {},
   "outputs": [],
   "source": [
    "from create_input.lmp.info_from_lmp_out import LammpsLogParser"
   ]
  },
  {
   "cell_type": "code",
   "execution_count": null,
   "metadata": {},
   "outputs": [],
   "source": [
    "lmp_log_parser = LammpsLogParser(\n",
    "    path2target=path2target,\n",
    "    dump_filename='dump.out'\n",
    ")"
   ]
  },
  {
   "cell_type": "code",
   "execution_count": null,
   "metadata": {},
   "outputs": [],
   "source": [
    "lmp_log_parser.get_energy()"
   ]
  },
  {
   "cell_type": "code",
   "execution_count": null,
   "metadata": {},
   "outputs": [],
   "source": [
    "from create_input.from_scf_minus_lmp import ScfMinusLammpsN2p2\n",
    "from create_input.lmp.info_from_lmp_out import LammpsLogParser\n",
    "\n",
    "lmp_log_parser = LammpsLogParser(\n",
    "    path2target=path2target,\n",
    "    dump_filename='dump.out'\n",
    ")\n",
    "obj = ScfMinusLammpsN2p2(path2scfout=path2target, dump_filename='dump.out', is_comment=True)\n",
    "list(obj.n2p2_block)"
   ]
  },
  {
   "cell_type": "code",
   "execution_count": null,
   "metadata": {},
   "outputs": [],
   "source": []
  },
  {
   "cell_type": "code",
   "execution_count": 19,
   "metadata": {},
   "outputs": [
    {
     "data": {
      "text/plain": [
       "-5032.983302024"
      ]
     },
     "execution_count": 19,
     "metadata": {},
     "output_type": "execute_result"
    }
   ],
   "source": [
    "# エネルギーの差\n",
    "qel.get_energy() - lmp_log_parser.get_energy()"
   ]
  },
  {
   "cell_type": "code",
   "execution_count": 20,
   "metadata": {},
   "outputs": [
    {
     "data": {
      "text/plain": [
       "array([[ -1.96810539,   1.3488064 ,  -0.73029153],\n",
       "       [-14.09436279,  -0.97555655,  -2.78097409],\n",
       "       [ 12.36779033, -14.06862881, -10.81049956],\n",
       "       [  0.91343099,  -1.08891656, -11.01745442],\n",
       "       [-20.03396353,   2.4344292 ,   9.35471744],\n",
       "       [ 14.49297147,  -1.85054195,   3.09692067],\n",
       "       [ 12.15347213,  15.16967487,   0.67098572],\n",
       "       [ -3.83123321,  -0.96920662,  12.21658552]])"
      ]
     },
     "execution_count": 20,
     "metadata": {},
     "output_type": "execute_result"
    }
   ],
   "source": [
    "# 力の差\n",
    "qel.get_force() - atom_df[['fx', 'fy', 'fz']].values"
   ]
  },
  {
   "cell_type": "code",
   "execution_count": null,
   "metadata": {},
   "outputs": [],
   "source": []
  }
 ],
 "metadata": {
  "kernelspec": {
   "display_name": "Python 3.10.4 ('ml')",
   "language": "python",
   "name": "python3"
  },
  "language_info": {
   "codemirror_mode": {
    "name": "ipython",
    "version": 3
   },
   "file_extension": ".py",
   "mimetype": "text/x-python",
   "name": "python",
   "nbconvert_exporter": "python",
   "pygments_lexer": "ipython3",
   "version": "3.10.4"
  },
  "orig_nbformat": 4,
  "vscode": {
   "interpreter": {
    "hash": "523738ac47dcf7681d48eb184ac702eac622ded297e68c9c931bbc5de5caff01"
   }
  }
 },
 "nbformat": 4,
 "nbformat_minor": 2
}
