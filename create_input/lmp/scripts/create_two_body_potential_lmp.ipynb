{
 "cells": [
  {
   "cell_type": "code",
   "execution_count": 1,
   "metadata": {
    "pycharm": {
     "name": "#%%\n"
    }
   },
   "outputs": [],
   "source": [
    "# create lammps input file to plot two body potential"
   ]
  },
  {
   "cell_type": "code",
   "execution_count": null,
   "metadata": {},
   "outputs": [],
   "source": []
  },
  {
   "cell_type": "code",
   "execution_count": 7,
   "metadata": {
    "pycharm": {
     "name": "#%%\n"
    }
   },
   "outputs": [],
   "source": [
    "import numpy as np\n",
    "import pandas as pd\n",
    "import matplotlib.pyplot as plt\n",
    "import os\n",
    "import glob\n",
    "import shutil\n",
    "\n",
    "from ml_utils.util import get_param_idx\n",
    "\n",
    "template_filename = 'ml-zbl.in'\n",
    "path2template = '/home/y1u0d2/result/lammps/scripts/Si/two-body-potential/template'\n",
    "path2root = '/home/y1u0d2/result/lammps/scripts/Si/two-body-potential/ml-zbl/model_33'\n",
    "# path2root = '/Users/y1u0d2/desktop/Lab/result/lammps/Si/two-body-potential/zbl/0.5'\n",
    "# path2potential = '/Users/y1u0d2/desktop/Lab/result/lammps/Si/two-body-potential/potentials'\n",
    "\n",
    "potential_filename = 'Si.tersoff'"
   ]
  },
  {
   "cell_type": "code",
   "execution_count": 8,
   "metadata": {
    "pycharm": {
     "name": "#%%\n"
    }
   },
   "outputs": [
    {
     "name": "stdout",
     "output_type": "stream",
     "text": [
      "[0.1   0.165 0.229 0.294 0.359 0.423 0.488 0.553 0.617 0.682]\n"
     ]
    }
   ],
   "source": [
    "# interatomic_distance_range = np.round(np.linspace(0.1, 8, 100), 3)\n",
    "interatomic_distance_range = np.round(np.linspace(0.1, 6.5, 100), 3)\n",
    "print(interatomic_distance_range[:10])"
   ]
  },
  {
   "cell_type": "code",
   "execution_count": 6,
   "metadata": {
    "pycharm": {
     "name": "#%%\n"
    }
   },
   "outputs": [],
   "source": [
    "with open(os.path.join(path2template, template_filename), mode='r') as f:\n",
    "    lines = [s.strip() for s in f.readlines()]\n",
    "\n",
    "for r in interatomic_distance_range:\n",
    "    path2target = os.path.join(path2root, f'tb_{r}')\n",
    "    if not os.path.exists(path2target):\n",
    "        os.mkdir(path2target)\n",
    "    else:\n",
    "        print(f'path exists: {path2target}')\n",
    "        continue\n",
    "    \n",
    "    output_lines = lines.copy()\n",
    "    basis_idx = get_param_idx('basis', output_lines)\n",
    "    basis_line = lines[basis_idx]\n",
    "    basis_line = basis_line.split(' ')\n",
    "    basis_line[2] = str(float(basis_line[2]) + 0.01 * r)\n",
    "    basis_line = ' '.join(basis_line)\n",
    "    output_lines[basis_idx] = basis_line\n",
    "\n",
    "    with open(os.path.join(path2target, template_filename), mode='w') as f:\n",
    "        f.write('\\n'.join(output_lines))\n",
    "    \n",
    "    # shutil.copy(os.path.join(path2potential, potential_filename), path2target)\n",
    "    "
   ]
  },
  {
   "cell_type": "code",
   "execution_count": null,
   "metadata": {},
   "outputs": [],
   "source": []
  },
  {
   "cell_type": "code",
   "execution_count": 5,
   "metadata": {
    "pycharm": {
     "name": "#%%\n"
    }
   },
   "outputs": [],
   "source": [
    "# # run at gpu\n",
    "# from glob import glob\n",
    "# import subprocess\n",
    "# import os\n",
    "\n",
    "# path2root = '/home/y1u0d2/result/lammps/scripts/Si/two-body-potential/ml-zbl'\n",
    "# path2targets = glob(f'{path2root}/tb*')\n",
    "# print(path2targets)\n",
    "# template_filename = 'ml-zbl.in'\n",
    "\n",
    "# for path in path2targets:\n",
    "#     try:\n",
    "#         os.chdir(path)\n",
    "#         process = subprocess.Popen(f'lmp -in {template_filename}', shell=True)\n",
    "#         process.wait()\n",
    "#     except:\n",
    "        \n",
    "#         print(f'failed: {path}')\n"
   ]
  },
  {
   "cell_type": "code",
   "execution_count": null,
   "metadata": {
    "pycharm": {
     "name": "#%%\n"
    }
   },
   "outputs": [],
   "source": []
  },
  {
   "cell_type": "code",
   "execution_count": null,
   "metadata": {
    "pycharm": {
     "name": "#%%\n"
    }
   },
   "outputs": [],
   "source": []
  }
 ],
 "metadata": {
  "kernelspec": {
   "display_name": "Python 3.10.6 ('ml')",
   "language": "python",
   "name": "python3"
  },
  "language_info": {
   "codemirror_mode": {
    "name": "ipython",
    "version": 3
   },
   "file_extension": ".py",
   "mimetype": "text/x-python",
   "name": "python",
   "nbconvert_exporter": "python",
   "pygments_lexer": "ipython3",
   "version": "3.8.12"
  },
  "orig_nbformat": 4,
  "vscode": {
   "interpreter": {
    "hash": "523738ac47dcf7681d48eb184ac702eac622ded297e68c9c931bbc5de5caff01"
   }
  }
 },
 "nbformat": 4,
 "nbformat_minor": 2
}
