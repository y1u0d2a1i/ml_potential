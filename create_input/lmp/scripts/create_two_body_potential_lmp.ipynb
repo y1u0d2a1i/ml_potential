{
 "cells": [
  {
   "cell_type": "code",
   "execution_count": 9,
   "metadata": {
    "pycharm": {
     "name": "#%%\n"
    }
   },
   "outputs": [],
   "source": [
    "# create lammps input file to plot two body potential"
   ]
  },
  {
   "cell_type": "code",
   "execution_count": null,
   "metadata": {},
   "outputs": [],
   "source": []
  },
  {
   "cell_type": "code",
   "execution_count": 10,
   "metadata": {
    "pycharm": {
     "name": "#%%\n"
    }
   },
   "outputs": [],
   "source": [
    "import numpy as np\n",
    "import pandas as pd\n",
    "import matplotlib.pyplot as plt\n",
    "import os\n",
    "import glob\n",
    "import shutil\n",
    "\n",
    "from ml_utils.util import get_param_idx\n",
    "\n",
    "template_filename = 'zbl.in'\n",
    "path2template = '/Users/y1u0d2/desktop/Lab/result/lammps/Si/two-body-potential/template'\n",
    "path2root = '/Users/y1u0d2/desktop/Lab/result/lammps/Si/two-body-potential/zbl/1.2_short'\n",
    "# path2root = '/Users/y1u0d2/desktop/Lab/result/lammps/Si/two-body-potential/zbl/0.5'\n",
    "# path2potential = '/Users/y1u0d2/desktop/Lab/result/lammps/Si/two-body-potential/potentials'\n",
    "\n",
    "potential_filename = 'Si.tersoff'"
   ]
  },
  {
   "cell_type": "code",
   "execution_count": 11,
   "metadata": {
    "pycharm": {
     "name": "#%%\n"
    }
   },
   "outputs": [
    {
     "name": "stdout",
     "output_type": "stream",
     "text": [
      "[0.1  0.11 0.12 0.13 0.14 0.15 0.16 0.17 0.18 0.19]\n"
     ]
    }
   ],
   "source": [
    "# interatomic_distance_range = np.round(np.linspace(0.1, 8, 100), 3)\n",
    "interatomic_distance_range = np.round(np.linspace(0.1, 2.5, 240), 3)\n",
    "print(interatomic_distance_range[:10])\n",
    "\n",
    "# from scf.qelattice import get_qel\n",
    "\n",
    "# def get_dimer_result(path2target):\n",
    "#     dirs = glob.glob(f'{path2target}/scf*')\n",
    "#     result = []\n",
    "#     for d in dirs:\n",
    "#         try:\n",
    "#             qel = get_qel(d)\n",
    "#             coord = qel.get_coord()\n",
    "#             vol = qel.get_vol()\n",
    "#             dist = np.linalg.norm(coord[0]-coord[1])\n",
    "#             result.append([vol, dist, qel.get_energy(), d.split('/')[-1]])\n",
    "#         except Exception as e:\n",
    "#             print(d, e)\n",
    "            \n",
    "#     return pd.DataFrame(data=result, columns=['vol', 'distance', 'energy', 'path'])\n",
    "\n",
    "# path2target = '/Users/y1u0d2/desktop/Lab/result/qe/Si/mp-149_dimer/coord/01/result'\n",
    "# result_qe = get_dimer_result(path2target)\n",
    "# result_qe = result_qe.sort_values(by='distance')\n",
    "# result_qe['energy'] = result_qe['energy'] + 1261\n",
    "\n",
    "# interatomic_distance_range = result_qe['distance'].values"
   ]
  },
  {
   "cell_type": "code",
   "execution_count": 12,
   "metadata": {
    "pycharm": {
     "name": "#%%\n"
    }
   },
   "outputs": [],
   "source": [
    "with open(os.path.join(path2template, template_filename), mode='r') as f:\n",
    "    lines = [s.strip() for s in f.readlines()]\n",
    "\n",
    "for r in interatomic_distance_range:\n",
    "    path2target = os.path.join(path2root, f'tb_{r}')\n",
    "    if not os.path.exists(path2target):\n",
    "        os.mkdir(path2target)\n",
    "    else:\n",
    "        print(f'path exists: {path2target}')\n",
    "        continue\n",
    "    \n",
    "    output_lines = lines.copy()\n",
    "    basis_idx = get_param_idx('basis', output_lines)\n",
    "    basis_line = lines[basis_idx]\n",
    "    basis_line = basis_line.split(' ')\n",
    "    basis_line[2] = str(float(basis_line[2]) + 0.01 * r)\n",
    "    basis_line = ' '.join(basis_line)\n",
    "    output_lines[basis_idx] = basis_line\n",
    "\n",
    "    with open(os.path.join(path2target, template_filename), mode='w') as f:\n",
    "        f.write('\\n'.join(output_lines))\n",
    "    \n",
    "    # shutil.copy(os.path.join(path2potential, potential_filename), path2target)\n",
    "    "
   ]
  },
  {
   "cell_type": "code",
   "execution_count": null,
   "metadata": {},
   "outputs": [],
   "source": []
  },
  {
   "cell_type": "code",
   "execution_count": 13,
   "metadata": {
    "pycharm": {
     "name": "#%%\n"
    }
   },
   "outputs": [],
   "source": [
    "# # run at gpu\n",
    "# from glob import glob\n",
    "# import subprocess\n",
    "# import os\n",
    "\n",
    "# path2root = '/home/y1u0d2/result/lammps/scripts/Si/two-body-potential/ml-zbl'\n",
    "# path2targets = glob(f'{path2root}/tb*')\n",
    "# print(path2targets)\n",
    "# template_filename = 'ml-zbl.in'\n",
    "\n",
    "# for path in path2targets:\n",
    "#     try:\n",
    "#         os.chdir(path)\n",
    "#         process = subprocess.Popen(f'lmp -in {template_filename}', shell=True)\n",
    "#         process.wait()\n",
    "#     except:\n",
    "        \n",
    "#         print(f'failed: {path}')\n"
   ]
  },
  {
   "cell_type": "code",
   "execution_count": null,
   "metadata": {
    "pycharm": {
     "name": "#%%\n"
    }
   },
   "outputs": [],
   "source": []
  },
  {
   "cell_type": "code",
   "execution_count": null,
   "metadata": {
    "pycharm": {
     "name": "#%%\n"
    }
   },
   "outputs": [],
   "source": []
  }
 ],
 "metadata": {
  "kernelspec": {
   "display_name": "Python 3.10.6 ('ml')",
   "language": "python",
   "name": "python3"
  },
  "language_info": {
   "codemirror_mode": {
    "name": "ipython",
    "version": 3
   },
   "file_extension": ".py",
   "mimetype": "text/x-python",
   "name": "python",
   "nbconvert_exporter": "python",
   "pygments_lexer": "ipython3",
   "version": "3.10.6"
  },
  "orig_nbformat": 4,
  "vscode": {
   "interpreter": {
    "hash": "523738ac47dcf7681d48eb184ac702eac622ded297e68c9c931bbc5de5caff01"
   }
  }
 },
 "nbformat": 4,
 "nbformat_minor": 2
}
