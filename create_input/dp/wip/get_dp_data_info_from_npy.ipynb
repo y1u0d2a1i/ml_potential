{
 "cells": [
  {
   "cell_type": "code",
   "execution_count": 67,
   "metadata": {},
   "outputs": [],
   "source": [
    "import numpy as np\n",
    "from glob import glob\n",
    "import os\n",
    "import subprocess"
   ]
  },
  {
   "cell_type": "code",
   "execution_count": 21,
   "metadata": {},
   "outputs": [],
   "source": [
    "path2data = '/Users/y1u0d2/desktop/Lab/result/deepmd/Si/15/data/test'\n",
    "path2allmpdata = glob(f'{path2data}/mp-*')"
   ]
  },
  {
   "cell_type": "code",
   "execution_count": 34,
   "metadata": {},
   "outputs": [
    {
     "name": "stdout",
     "output_type": "stream",
     "text": [
      "/Users/y1u0d2/desktop/Lab/result/deepmd/Si/15/data/test/mp-92_32\n",
      "1008\n",
      "/Users/y1u0d2/desktop/Lab/result/deepmd/Si/15/data/test/mp-1079649_16\n",
      "731\n",
      "/Users/y1u0d2/desktop/Lab/result/deepmd/Si/15/data/test/mp-165_32\n",
      "685\n",
      "/Users/y1u0d2/desktop/Lab/result/deepmd/Si/15/data/test/mp-149_64\n",
      "437\n",
      "/Users/y1u0d2/desktop/Lab/result/deepmd/Si/15/data/test/mp-149_8\n",
      "7428\n",
      "/Users/y1u0d2/desktop/Lab/result/deepmd/Si/15/data/test/mp-149_dimer_2\n",
      "8\n",
      "/Users/y1u0d2/desktop/Lab/result/deepmd/Si/15/data/test/mp-571520_24\n",
      "629\n"
     ]
    }
   ],
   "source": [
    "for path2mpdata in path2allmpdata:\n",
    "    print(path2mpdata)\n",
    "    path2system = os.path.join(path2mpdata, 'set.000')\n",
    "    npy_files = glob(f'{path2system}/*.npy')\n",
    "\n",
    "    num_data = {np.load(f).shape[0] for f in npy_files}\n",
    "    if len(num_data) != 1:\n",
    "        raise Exception('not consistent')\n",
    "    print(num_data.pop())"
   ]
  },
  {
   "cell_type": "code",
   "execution_count": 58,
   "metadata": {},
   "outputs": [],
   "source": [
    "def get_dp_data_info_from_npy(path2data):\n",
    "    print(path2data)\n",
    "    info_list = []\n",
    "    path2allmpdata = glob(f'{path2data}/mp-*')\n",
    "    print(path2allmpdata)\n",
    "    for path2mpdata in path2allmpdata:\n",
    "        path2system = os.path.join(path2mpdata, 'set.000')\n",
    "        npy_files = glob(f'{path2system}/*.npy')\n",
    "\n",
    "        num_data = {np.load(f).shape[0] for f in npy_files}\n",
    "        if len(num_data) != 1:\n",
    "            raise Exception('not consistent')\n",
    "        info_list.append([path2mpdata, num_data.pop()])\n",
    "    return info_list"
   ]
  },
  {
   "cell_type": "code",
   "execution_count": 57,
   "metadata": {},
   "outputs": [],
   "source": [
    "path2data = '/Users/y1u0d2/desktop/Lab/result/deepmd/Si/15/data'\n",
    "path2train = os.path.join(path2data, 'train')\n",
    "path2test = os.path.join(path2data, 'test')"
   ]
  },
  {
   "cell_type": "code",
   "execution_count": 59,
   "metadata": {},
   "outputs": [
    {
     "name": "stdout",
     "output_type": "stream",
     "text": [
      "/Users/y1u0d2/desktop/Lab/result/deepmd/Si/15/data/train\n",
      "['/Users/y1u0d2/desktop/Lab/result/deepmd/Si/15/data/train/mp-92_32', '/Users/y1u0d2/desktop/Lab/result/deepmd/Si/15/data/train/mp-1079649_16', '/Users/y1u0d2/desktop/Lab/result/deepmd/Si/15/data/train/mp-165_32', '/Users/y1u0d2/desktop/Lab/result/deepmd/Si/15/data/train/mp-149_64', '/Users/y1u0d2/desktop/Lab/result/deepmd/Si/15/data/train/mp-149_8', '/Users/y1u0d2/desktop/Lab/result/deepmd/Si/15/data/train/mp-149_dimer_2', '/Users/y1u0d2/desktop/Lab/result/deepmd/Si/15/data/train/mp-571520_24']\n",
      "/Users/y1u0d2/desktop/Lab/result/deepmd/Si/15/data/test\n",
      "['/Users/y1u0d2/desktop/Lab/result/deepmd/Si/15/data/test/mp-92_32', '/Users/y1u0d2/desktop/Lab/result/deepmd/Si/15/data/test/mp-1079649_16', '/Users/y1u0d2/desktop/Lab/result/deepmd/Si/15/data/test/mp-165_32', '/Users/y1u0d2/desktop/Lab/result/deepmd/Si/15/data/test/mp-149_64', '/Users/y1u0d2/desktop/Lab/result/deepmd/Si/15/data/test/mp-149_8', '/Users/y1u0d2/desktop/Lab/result/deepmd/Si/15/data/test/mp-149_dimer_2', '/Users/y1u0d2/desktop/Lab/result/deepmd/Si/15/data/test/mp-571520_24']\n"
     ]
    }
   ],
   "source": [
    "train_info = get_dp_data_info_from_npy(path2train)\n",
    "test_info = get_dp_data_info_from_npy(path2test)"
   ]
  },
  {
   "cell_type": "code",
   "execution_count": 60,
   "metadata": {},
   "outputs": [],
   "source": [
    "all_info = train_info + test_info"
   ]
  },
  {
   "cell_type": "code",
   "execution_count": 66,
   "metadata": {},
   "outputs": [
    {
     "name": "stdout",
     "output_type": "stream",
     "text": [
      "train_mp-92_32\n",
      "train_mp-1079649_16\n",
      "train_mp-165_32\n",
      "train_mp-149_64\n",
      "train_mp-149_8\n",
      "train_mp-149_dimer_2\n",
      "train_mp-571520_24\n",
      "test_mp-92_32\n",
      "test_mp-1079649_16\n",
      "test_mp-165_32\n",
      "test_mp-149_64\n",
      "test_mp-149_8\n",
      "test_mp-149_dimer_2\n",
      "test_mp-571520_24\n"
     ]
    }
   ],
   "source": [
    "# for path, num_data in all_info:\n",
    "#     prefix = '_'.join(path.split('/')[-2:])\n",
    "#     process = subprocess.Popen(\n",
    "#         f'dp test -m graph.pb -s {path} -n {num_data} -d {prefix}',\n",
    "#         shell=True\n",
    "#     )\n",
    "#     process.wait()"
   ]
  },
  {
   "cell_type": "code",
   "execution_count": null,
   "metadata": {},
   "outputs": [],
   "source": []
  }
 ],
 "metadata": {
  "kernelspec": {
   "display_name": "ml",
   "language": "python",
   "name": "python3"
  },
  "language_info": {
   "codemirror_mode": {
    "name": "ipython",
    "version": 3
   },
   "file_extension": ".py",
   "mimetype": "text/x-python",
   "name": "python",
   "nbconvert_exporter": "python",
   "pygments_lexer": "ipython3",
   "version": "3.10.6"
  },
  "orig_nbformat": 4,
  "vscode": {
   "interpreter": {
    "hash": "523738ac47dcf7681d48eb184ac702eac622ded297e68c9c931bbc5de5caff01"
   }
  }
 },
 "nbformat": 4,
 "nbformat_minor": 2
}
